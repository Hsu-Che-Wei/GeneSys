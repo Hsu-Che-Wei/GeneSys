{
 "cells": [
  {
   "cell_type": "code",
   "execution_count": 1,
   "id": "bfa257d4-27e8-4499-9127-cabc4feaa303",
   "metadata": {},
   "outputs": [
    {
     "name": "stderr",
     "output_type": "stream",
     "text": [
      "/hpc/group/pbenfeylab/ch416/miniconda3/envs/genesys/lib/python3.8/site-packages/tqdm/auto.py:21: TqdmWarning: IProgress not found. Please update jupyter and ipywidgets. See https://ipywidgets.readthedocs.io/en/stable/user_install.html\n",
      "  from .autonotebook import tqdm as notebook_tqdm\n"
     ]
    }
   ],
   "source": [
    "import os\n",
    "\n",
    "## Set directory\n",
    "os.chdir('/hpc/group/pbenfeylab/CheWei/CW_data/genesys')\n",
    "\n",
    "from genesys import *\n",
    "%matplotlib inline\n",
    "%config InlineBackend.figure_format = 'retina'\n",
    "\n",
    "#import scvelo as scv\n",
    "#import cellrank as cr\n",
    "import seaborn as sns\n",
    "from sklearn.utils import resample"
   ]
  },
  {
   "cell_type": "code",
   "execution_count": 2,
   "id": "06ed5021-7235-4c18-bad1-92e132473ddd",
   "metadata": {},
   "outputs": [
    {
     "name": "stdout",
     "output_type": "stream",
     "text": [
      "1.11.0\n",
      "1.9.6\n"
     ]
    }
   ],
   "source": [
    "## Conda Env pytorch-gpu on DCC\n",
    "## pytorch version\n",
    "print(torch.__version__)\n",
    "## scanpy\n",
    "print(sc.__version__)\n",
    "## scvelo\n",
    "#print(scv.__version__)\n",
    "## cellrank\n",
    "#print(cr.__version__)"
   ]
  },
  {
   "cell_type": "markdown",
   "id": "559ab9a7-6b46-490e-a48a-5a43708cc23f",
   "metadata": {},
   "source": [
    "## Cell Lineage Blueprint\n",
    "#### White Blood Cells include HSCs, treated as precursor for definitive erythroid, B cells, T cells and Mast cells (if precursors for white bllod cells do not exist, set the transcriptomic profiles to zero)\n",
    "#### Neuroectoderm and glia treated as precursor for CNS neurons,intermediate neuronal progenitors, eye and other, olfactory sensory neurons, oligodendrocytes, and ependymal_cells\n",
    "#### mesoderm treated as precursor for Adipocytes and Muscule cells\n",
    "#### Epithelial cells treated as precursor for Lung and airway\n",
    "#### We remove transient cell population Primitive Erythroid and rarer cell type Testis and Adrenal from the training\n",
    "#### For state that doesn't have cells captured, we sample cells equally from earier state and later state"
   ]
  },
  {
   "cell_type": "markdown",
   "id": "ebd741d1-e750-4eb6-ba2f-f70ef1a2acfa",
   "metadata": {},
   "source": [
    "## Load meta data"
   ]
  },
  {
   "cell_type": "code",
   "execution_count": 3,
   "id": "83b64897-6c5d-4ae0-95b0-2a7f1e1c53c6",
   "metadata": {},
   "outputs": [],
   "source": [
    "## Genes used \n",
    "df_gene = pd.read_csv('./Mouse_Embryo/df_gene.csv')"
   ]
  },
  {
   "cell_type": "code",
   "execution_count": 4,
   "id": "1a0bdcd6-ca62-46c6-b419-db140b1cadd3",
   "metadata": {},
   "outputs": [
    {
     "data": {
      "text/html": [
       "<div>\n",
       "<style scoped>\n",
       "    .dataframe tbody tr th:only-of-type {\n",
       "        vertical-align: middle;\n",
       "    }\n",
       "\n",
       "    .dataframe tbody tr th {\n",
       "        vertical-align: top;\n",
       "    }\n",
       "\n",
       "    .dataframe thead th {\n",
       "        text-align: right;\n",
       "    }\n",
       "</style>\n",
       "<table border=\"1\" class=\"dataframe\">\n",
       "  <thead>\n",
       "    <tr style=\"text-align: right;\">\n",
       "      <th></th>\n",
       "      <th>Unnamed: 0</th>\n",
       "      <th>gene_id</th>\n",
       "      <th>gene_type</th>\n",
       "      <th>gene_short_name</th>\n",
       "      <th>chr</th>\n",
       "    </tr>\n",
       "  </thead>\n",
       "  <tbody>\n",
       "    <tr>\n",
       "      <th>0</th>\n",
       "      <td>ENSMUSG00000051951</td>\n",
       "      <td>ENSMUSG00000051951</td>\n",
       "      <td>protein_coding</td>\n",
       "      <td>Xkr4</td>\n",
       "      <td>chr1</td>\n",
       "    </tr>\n",
       "    <tr>\n",
       "      <th>1</th>\n",
       "      <td>ENSMUSG00000102343</td>\n",
       "      <td>ENSMUSG00000102343</td>\n",
       "      <td>lincRNA</td>\n",
       "      <td>Gm37381</td>\n",
       "      <td>chr1</td>\n",
       "    </tr>\n",
       "    <tr>\n",
       "      <th>2</th>\n",
       "      <td>ENSMUSG00000025900</td>\n",
       "      <td>ENSMUSG00000025900</td>\n",
       "      <td>protein_coding</td>\n",
       "      <td>Rp1</td>\n",
       "      <td>chr1</td>\n",
       "    </tr>\n",
       "    <tr>\n",
       "      <th>3</th>\n",
       "      <td>ENSMUSG00000025902</td>\n",
       "      <td>ENSMUSG00000025902</td>\n",
       "      <td>protein_coding</td>\n",
       "      <td>Sox17</td>\n",
       "      <td>chr1</td>\n",
       "    </tr>\n",
       "    <tr>\n",
       "      <th>4</th>\n",
       "      <td>ENSMUSG00000104328</td>\n",
       "      <td>ENSMUSG00000104328</td>\n",
       "      <td>lincRNA</td>\n",
       "      <td>Gm37323</td>\n",
       "      <td>chr1</td>\n",
       "    </tr>\n",
       "    <tr>\n",
       "      <th>...</th>\n",
       "      <td>...</td>\n",
       "      <td>...</td>\n",
       "      <td>...</td>\n",
       "      <td>...</td>\n",
       "      <td>...</td>\n",
       "    </tr>\n",
       "    <tr>\n",
       "      <th>24547</th>\n",
       "      <td>ENSMUSG00000065947</td>\n",
       "      <td>ENSMUSG00000065947</td>\n",
       "      <td>protein_coding</td>\n",
       "      <td>mt-Nd4l</td>\n",
       "      <td>chrM</td>\n",
       "    </tr>\n",
       "    <tr>\n",
       "      <th>24548</th>\n",
       "      <td>ENSMUSG00000064363</td>\n",
       "      <td>ENSMUSG00000064363</td>\n",
       "      <td>protein_coding</td>\n",
       "      <td>mt-Nd4</td>\n",
       "      <td>chrM</td>\n",
       "    </tr>\n",
       "    <tr>\n",
       "      <th>24549</th>\n",
       "      <td>ENSMUSG00000064367</td>\n",
       "      <td>ENSMUSG00000064367</td>\n",
       "      <td>protein_coding</td>\n",
       "      <td>mt-Nd5</td>\n",
       "      <td>chrM</td>\n",
       "    </tr>\n",
       "    <tr>\n",
       "      <th>24550</th>\n",
       "      <td>ENSMUSG00000064368</td>\n",
       "      <td>ENSMUSG00000064368</td>\n",
       "      <td>protein_coding</td>\n",
       "      <td>mt-Nd6</td>\n",
       "      <td>chrM</td>\n",
       "    </tr>\n",
       "    <tr>\n",
       "      <th>24551</th>\n",
       "      <td>ENSMUSG00000064370</td>\n",
       "      <td>ENSMUSG00000064370</td>\n",
       "      <td>protein_coding</td>\n",
       "      <td>mt-Cytb</td>\n",
       "      <td>chrM</td>\n",
       "    </tr>\n",
       "  </tbody>\n",
       "</table>\n",
       "<p>24552 rows × 5 columns</p>\n",
       "</div>"
      ],
      "text/plain": [
       "               Unnamed: 0             gene_id       gene_type gene_short_name  \\\n",
       "0      ENSMUSG00000051951  ENSMUSG00000051951  protein_coding            Xkr4   \n",
       "1      ENSMUSG00000102343  ENSMUSG00000102343         lincRNA         Gm37381   \n",
       "2      ENSMUSG00000025900  ENSMUSG00000025900  protein_coding             Rp1   \n",
       "3      ENSMUSG00000025902  ENSMUSG00000025902  protein_coding           Sox17   \n",
       "4      ENSMUSG00000104328  ENSMUSG00000104328         lincRNA         Gm37323   \n",
       "...                   ...                 ...             ...             ...   \n",
       "24547  ENSMUSG00000065947  ENSMUSG00000065947  protein_coding         mt-Nd4l   \n",
       "24548  ENSMUSG00000064363  ENSMUSG00000064363  protein_coding          mt-Nd4   \n",
       "24549  ENSMUSG00000064367  ENSMUSG00000064367  protein_coding          mt-Nd5   \n",
       "24550  ENSMUSG00000064368  ENSMUSG00000064368  protein_coding          mt-Nd6   \n",
       "24551  ENSMUSG00000064370  ENSMUSG00000064370  protein_coding         mt-Cytb   \n",
       "\n",
       "        chr  \n",
       "0      chr1  \n",
       "1      chr1  \n",
       "2      chr1  \n",
       "3      chr1  \n",
       "4      chr1  \n",
       "...     ...  \n",
       "24547  chrM  \n",
       "24548  chrM  \n",
       "24549  chrM  \n",
       "24550  chrM  \n",
       "24551  chrM  \n",
       "\n",
       "[24552 rows x 5 columns]"
      ]
     },
     "execution_count": 4,
     "metadata": {},
     "output_type": "execute_result"
    }
   ],
   "source": [
    "df_gene"
   ]
  },
  {
   "cell_type": "code",
   "execution_count": 5,
   "id": "d775e5fb-3248-4948-a2c4-312f56bc8a50",
   "metadata": {},
   "outputs": [],
   "source": [
    "## Cells involved \n",
    "df_cell = pd.read_csv('./Mouse_Embryo/df_cell.csv')"
   ]
  },
  {
   "cell_type": "code",
   "execution_count": 6,
   "id": "4030ad80-714a-4aa0-90d2-19553b80d67c",
   "metadata": {},
   "outputs": [
    {
     "data": {
      "text/html": [
       "<div>\n",
       "<style scoped>\n",
       "    .dataframe tbody tr th:only-of-type {\n",
       "        vertical-align: middle;\n",
       "    }\n",
       "\n",
       "    .dataframe tbody tr th {\n",
       "        vertical-align: top;\n",
       "    }\n",
       "\n",
       "    .dataframe thead th {\n",
       "        text-align: right;\n",
       "    }\n",
       "</style>\n",
       "<table border=\"1\" class=\"dataframe\">\n",
       "  <thead>\n",
       "    <tr style=\"text-align: right;\">\n",
       "      <th></th>\n",
       "      <th>Unnamed: 0</th>\n",
       "      <th>cell_id</th>\n",
       "      <th>day</th>\n",
       "      <th>embryo_id</th>\n",
       "      <th>experimental_batch</th>\n",
       "      <th>major_trajectory</th>\n",
       "      <th>celltype_update</th>\n",
       "    </tr>\n",
       "  </thead>\n",
       "  <tbody>\n",
       "    <tr>\n",
       "      <th>0</th>\n",
       "      <td>run_4_P2-01A.ATTCAAGCATGTTACGCAAG-0-0</td>\n",
       "      <td>run_4_P2-01A.ATTCAAGCATGTTACGCAAG</td>\n",
       "      <td>E8.5</td>\n",
       "      <td>embryo_11</td>\n",
       "      <td>run_4</td>\n",
       "      <td>Neuroectoderm_and_glia</td>\n",
       "      <td>Dorsal telencephalon</td>\n",
       "    </tr>\n",
       "    <tr>\n",
       "      <th>1</th>\n",
       "      <td>run_4_P2-01A.CCGTCGATTTTATTCTGAG-0-0</td>\n",
       "      <td>run_4_P2-01A.CCGTCGATTTTATTCTGAG</td>\n",
       "      <td>E8.5</td>\n",
       "      <td>embryo_12</td>\n",
       "      <td>run_4</td>\n",
       "      <td>Mesoderm</td>\n",
       "      <td>Lateral plate and intermediate mesoderm</td>\n",
       "    </tr>\n",
       "    <tr>\n",
       "      <th>2</th>\n",
       "      <td>run_4_P2-01A.ATGGTAACTTAGCCGGTACC-0-0</td>\n",
       "      <td>run_4_P2-01A.ATGGTAACTTAGCCGGTACC</td>\n",
       "      <td>E8.5</td>\n",
       "      <td>embryo_12</td>\n",
       "      <td>run_4</td>\n",
       "      <td>Primitive_erythroid</td>\n",
       "      <td>Primitive erythroid cells</td>\n",
       "    </tr>\n",
       "    <tr>\n",
       "      <th>3</th>\n",
       "      <td>run_4_P2-01A.CCGACCAATTTGCGAGGCA-0-0</td>\n",
       "      <td>run_4_P2-01A.CCGACCAATTTGCGAGGCA</td>\n",
       "      <td>E8.5</td>\n",
       "      <td>embryo_8</td>\n",
       "      <td>run_4</td>\n",
       "      <td>Epithelial_cells</td>\n",
       "      <td>Pre-epidermal keratinocytes</td>\n",
       "    </tr>\n",
       "    <tr>\n",
       "      <th>4</th>\n",
       "      <td>run_4_P2-01A.ATGCTTCCTAATGCCGCTT-0-0</td>\n",
       "      <td>run_4_P2-01A.ATGCTTCCTAATGCCGCTT</td>\n",
       "      <td>E8.5</td>\n",
       "      <td>embryo_9</td>\n",
       "      <td>run_4</td>\n",
       "      <td>Mesoderm</td>\n",
       "      <td>Lateral plate and intermediate mesoderm</td>\n",
       "    </tr>\n",
       "    <tr>\n",
       "      <th>...</th>\n",
       "      <td>...</td>\n",
       "      <td>...</td>\n",
       "      <td>...</td>\n",
       "      <td>...</td>\n",
       "      <td>...</td>\n",
       "      <td>...</td>\n",
       "      <td>...</td>\n",
       "    </tr>\n",
       "    <tr>\n",
       "      <th>11441402</th>\n",
       "      <td>run_25_PD-12H_S384.AAATCGTTCTCAAGTCGACC-1-12-3</td>\n",
       "      <td>run_25_PD-12H_S384.AAATCGTTCTCAAGTCGACC</td>\n",
       "      <td>P0</td>\n",
       "      <td>embryo_74</td>\n",
       "      <td>run_25</td>\n",
       "      <td>Eye_and_other</td>\n",
       "      <td>Pituitary gland cells</td>\n",
       "    </tr>\n",
       "    <tr>\n",
       "      <th>11441403</th>\n",
       "      <td>run_25_PD-12H_S384.CTGCTGAATTCGCGGTTGG-1-12-3</td>\n",
       "      <td>run_25_PD-12H_S384.CTGCTGAATTCGCGGTTGG</td>\n",
       "      <td>P0</td>\n",
       "      <td>embryo_74</td>\n",
       "      <td>run_25</td>\n",
       "      <td>Intermediate_neuronal_progenitors</td>\n",
       "      <td>Upper-layer neurons</td>\n",
       "    </tr>\n",
       "    <tr>\n",
       "      <th>11441404</th>\n",
       "      <td>run_25_PD-12H_S384.TTAATGAGCTTCGGCCTTAC-1-12-3</td>\n",
       "      <td>run_25_PD-12H_S384.TTAATGAGCTTCGGCCTTAC</td>\n",
       "      <td>P0</td>\n",
       "      <td>embryo_74</td>\n",
       "      <td>run_25</td>\n",
       "      <td>CNS_neurons</td>\n",
       "      <td>Glutamatergic neurons</td>\n",
       "    </tr>\n",
       "    <tr>\n",
       "      <th>11441405</th>\n",
       "      <td>run_25_PD-12H_S384.ATATCCTACTTTATTCATTC-1-12-3</td>\n",
       "      <td>run_25_PD-12H_S384.ATATCCTACTTTATTCATTC</td>\n",
       "      <td>P0</td>\n",
       "      <td>embryo_74</td>\n",
       "      <td>run_25</td>\n",
       "      <td>Mesoderm</td>\n",
       "      <td>Dermatome</td>\n",
       "    </tr>\n",
       "    <tr>\n",
       "      <th>11441406</th>\n",
       "      <td>run_25_PD-12H_S384.ACCTCAATATACCGGAATTA-1-12-3</td>\n",
       "      <td>run_25_PD-12H_S384.ACCTCAATATACCGGAATTA</td>\n",
       "      <td>P0</td>\n",
       "      <td>embryo_74</td>\n",
       "      <td>run_25</td>\n",
       "      <td>Mesoderm</td>\n",
       "      <td>Fibroblasts</td>\n",
       "    </tr>\n",
       "  </tbody>\n",
       "</table>\n",
       "<p>11441407 rows × 7 columns</p>\n",
       "</div>"
      ],
      "text/plain": [
       "                                              Unnamed: 0  \\\n",
       "0                  run_4_P2-01A.ATTCAAGCATGTTACGCAAG-0-0   \n",
       "1                   run_4_P2-01A.CCGTCGATTTTATTCTGAG-0-0   \n",
       "2                  run_4_P2-01A.ATGGTAACTTAGCCGGTACC-0-0   \n",
       "3                   run_4_P2-01A.CCGACCAATTTGCGAGGCA-0-0   \n",
       "4                   run_4_P2-01A.ATGCTTCCTAATGCCGCTT-0-0   \n",
       "...                                                  ...   \n",
       "11441402  run_25_PD-12H_S384.AAATCGTTCTCAAGTCGACC-1-12-3   \n",
       "11441403   run_25_PD-12H_S384.CTGCTGAATTCGCGGTTGG-1-12-3   \n",
       "11441404  run_25_PD-12H_S384.TTAATGAGCTTCGGCCTTAC-1-12-3   \n",
       "11441405  run_25_PD-12H_S384.ATATCCTACTTTATTCATTC-1-12-3   \n",
       "11441406  run_25_PD-12H_S384.ACCTCAATATACCGGAATTA-1-12-3   \n",
       "\n",
       "                                          cell_id   day  embryo_id  \\\n",
       "0               run_4_P2-01A.ATTCAAGCATGTTACGCAAG  E8.5  embryo_11   \n",
       "1                run_4_P2-01A.CCGTCGATTTTATTCTGAG  E8.5  embryo_12   \n",
       "2               run_4_P2-01A.ATGGTAACTTAGCCGGTACC  E8.5  embryo_12   \n",
       "3                run_4_P2-01A.CCGACCAATTTGCGAGGCA  E8.5   embryo_8   \n",
       "4                run_4_P2-01A.ATGCTTCCTAATGCCGCTT  E8.5   embryo_9   \n",
       "...                                           ...   ...        ...   \n",
       "11441402  run_25_PD-12H_S384.AAATCGTTCTCAAGTCGACC    P0  embryo_74   \n",
       "11441403   run_25_PD-12H_S384.CTGCTGAATTCGCGGTTGG    P0  embryo_74   \n",
       "11441404  run_25_PD-12H_S384.TTAATGAGCTTCGGCCTTAC    P0  embryo_74   \n",
       "11441405  run_25_PD-12H_S384.ATATCCTACTTTATTCATTC    P0  embryo_74   \n",
       "11441406  run_25_PD-12H_S384.ACCTCAATATACCGGAATTA    P0  embryo_74   \n",
       "\n",
       "         experimental_batch                   major_trajectory  \\\n",
       "0                     run_4             Neuroectoderm_and_glia   \n",
       "1                     run_4                           Mesoderm   \n",
       "2                     run_4                Primitive_erythroid   \n",
       "3                     run_4                   Epithelial_cells   \n",
       "4                     run_4                           Mesoderm   \n",
       "...                     ...                                ...   \n",
       "11441402             run_25                      Eye_and_other   \n",
       "11441403             run_25  Intermediate_neuronal_progenitors   \n",
       "11441404             run_25                        CNS_neurons   \n",
       "11441405             run_25                           Mesoderm   \n",
       "11441406             run_25                           Mesoderm   \n",
       "\n",
       "                                  celltype_update  \n",
       "0                            Dorsal telencephalon  \n",
       "1         Lateral plate and intermediate mesoderm  \n",
       "2                       Primitive erythroid cells  \n",
       "3                     Pre-epidermal keratinocytes  \n",
       "4         Lateral plate and intermediate mesoderm  \n",
       "...                                           ...  \n",
       "11441402                    Pituitary gland cells  \n",
       "11441403                      Upper-layer neurons  \n",
       "11441404                    Glutamatergic neurons  \n",
       "11441405                                Dermatome  \n",
       "11441406                              Fibroblasts  \n",
       "\n",
       "[11441407 rows x 7 columns]"
      ]
     },
     "execution_count": 6,
     "metadata": {},
     "output_type": "execute_result"
    }
   ],
   "source": [
    "df_cell"
   ]
  },
  {
   "cell_type": "code",
   "execution_count": 7,
   "id": "6ea09afe-1201-4009-82fd-ca1ec86b2faa",
   "metadata": {},
   "outputs": [
    {
     "data": {
      "text/plain": [
       "day\n",
       "P0         2092528\n",
       "E9.75       633746\n",
       "E10.0       489516\n",
       "E9.5        336999\n",
       "E14.0       326063\n",
       "E12.25      321031\n",
       "E13.25      305678\n",
       "E18.5       289835\n",
       "E9.25       276424\n",
       "E14.25      274509\n",
       "E14.333     273184\n",
       "E10.5       271152\n",
       "E10.25      270204\n",
       "E13.0       269386\n",
       "E10.75      244190\n",
       "E15.75      239821\n",
       "E11.5       233843\n",
       "E16.5       228892\n",
       "E16.75      222748\n",
       "E11.25      222125\n",
       "E15.0       215781\n",
       "E15.5       215284\n",
       "E16.0       205343\n",
       "E12.0       205001\n",
       "E11.0       192305\n",
       "E12.75      184737\n",
       "E12.5       178598\n",
       "E18.0       173401\n",
       "E18.25      168317\n",
       "E13.75      164240\n",
       "E17.0       163901\n",
       "E11.75      163114\n",
       "E17.75      160003\n",
       "E15.25      156648\n",
       "E8.5        153597\n",
       "E16.25      143323\n",
       "E14.75      142384\n",
       "E18.75      135155\n",
       "E13.5       120811\n",
       "E17.5       118818\n",
       "E9.0        118049\n",
       "E17.25       94470\n",
       "E8.75        46253\n",
       "Name: count, dtype: int64"
      ]
     },
     "execution_count": 7,
     "metadata": {},
     "output_type": "execute_result"
    }
   ],
   "source": [
    "pd.Series(df_cell['day']).value_counts()"
   ]
  },
  {
   "cell_type": "code",
   "execution_count": 8,
   "id": "027b4b65-463e-420f-bb9a-e209f69d60c6",
   "metadata": {},
   "outputs": [
    {
     "data": {
      "text/plain": [
       "major_trajectory\n",
       "Mesoderm                             3267338\n",
       "CNS_neurons                          2106206\n",
       "Neuroectoderm_and_glia               1733663\n",
       "Definitive_erythroid                 1033409\n",
       "Intermediate_neuronal_progenitors     628251\n",
       "Epithelial_cells                      524960\n",
       "Endothelium                           312029\n",
       "Muscle_cells                          305003\n",
       "Hepatocytes                           289569\n",
       "White_blood_cells                     262022\n",
       "Neural_crest_PNS_glia                 126743\n",
       "Adipocytes                            114478\n",
       "Primitive_erythroid                   108613\n",
       "Neural_crest_PNS_neurons              103999\n",
       "Eye_and_other                          93695\n",
       "T_cells                                89429\n",
       "Lung_and_airway                        76732\n",
       "Intestine                              51796\n",
       "B_cells                                44352\n",
       "Olfactory_sensory_neurons              42826\n",
       "Cardiomyocytes                         37205\n",
       "Oligodendrocytes                       31387\n",
       "Mast_cells                             23835\n",
       "Ependymal_cells                        15396\n",
       "Megakaryocytes                         15129\n",
       "Testis_and_adrenal                      3342\n",
       "Name: count, dtype: int64"
      ]
     },
     "execution_count": 8,
     "metadata": {},
     "output_type": "execute_result"
    }
   ],
   "source": [
    "pd.Series(df_cell['major_trajectory']).value_counts()"
   ]
  },
  {
   "cell_type": "markdown",
   "id": "536b6aa9-c54f-4908-8777-5abe17d597c9",
   "metadata": {},
   "source": [
    "## Load gene exp matrices"
   ]
  },
  {
   "cell_type": "markdown",
   "id": "aa490a08-4f99-491e-8dea-18e6ba66431f",
   "metadata": {},
   "source": [
    "## adata1"
   ]
  },
  {
   "cell_type": "code",
   "execution_count": 9,
   "id": "c8782888-a12e-4f3b-acf9-7660157ad541",
   "metadata": {},
   "outputs": [],
   "source": [
    "adata1 = sc.read_h5ad(\"./Mouse_Embryo/adata_JAX_dataset_1.h5ad\")"
   ]
  },
  {
   "cell_type": "code",
   "execution_count": 10,
   "id": "570c1000-b0f2-4b45-94a5-b7c42145be92",
   "metadata": {},
   "outputs": [
    {
     "data": {
      "text/plain": [
       "AnnData object with n_obs × n_vars = 2840130 × 24552\n",
       "    obs: 'cell_id', 'keep', 'day', 'embryo_id', 'experimental_batch'\n",
       "    var: 'gene_id', 'gene_type', 'gene_short_name', 'chr'"
      ]
     },
     "execution_count": 10,
     "metadata": {},
     "output_type": "execute_result"
    }
   ],
   "source": [
    "adata1"
   ]
  },
  {
   "cell_type": "code",
   "execution_count": 11,
   "id": "f381076a-a837-4633-925e-7eff0dab2597",
   "metadata": {},
   "outputs": [],
   "source": [
    "sc.pp.filter_cells(adata1, min_counts=2500)\n",
    "sc.pp.filter_cells(adata1, min_genes=2500)\n",
    "# Calculate row sums for the number of genes per cell\n",
    "row_sums = np.sum(adata1.X > 0 , axis=1).reshape(-1).tolist()[0]\n",
    "# Calculate row sums for the number of counts per cell\n",
    "row_sums_counts = np.sum(adata1.X, axis=1).reshape(-1).tolist()[0]"
   ]
  },
  {
   "cell_type": "code",
   "execution_count": 12,
   "id": "d9a21019-7106-45b9-8eb3-56f568002b00",
   "metadata": {},
   "outputs": [
    {
     "data": {
      "text/plain": [
       "2947.0"
      ]
     },
     "execution_count": 12,
     "metadata": {},
     "output_type": "execute_result"
    }
   ],
   "source": [
    "## Median genes per cell\n",
    "np.median(row_sums)"
   ]
  },
  {
   "cell_type": "code",
   "execution_count": 13,
   "id": "b4ebc038-aa18-4205-9091-1807ff7d6c1a",
   "metadata": {},
   "outputs": [
    {
     "data": {
      "text/plain": [
       "6109.0"
      ]
     },
     "execution_count": 13,
     "metadata": {},
     "output_type": "execute_result"
    }
   ],
   "source": [
    "## Median UMI counts per cell\n",
    "np.median(row_sums_counts)"
   ]
  },
  {
   "cell_type": "code",
   "execution_count": 14,
   "id": "270631b8-07a3-4399-948e-75c8a2ffc621",
   "metadata": {},
   "outputs": [
    {
     "data": {
      "text/plain": [
       "AnnData object with n_obs × n_vars = 481481 × 24552\n",
       "    obs: 'cell_id', 'keep', 'day', 'embryo_id', 'experimental_batch', 'n_counts', 'n_genes'\n",
       "    var: 'gene_id', 'gene_type', 'gene_short_name', 'chr'"
      ]
     },
     "execution_count": 14,
     "metadata": {},
     "output_type": "execute_result"
    }
   ],
   "source": [
    "adata1"
   ]
  },
  {
   "cell_type": "code",
   "execution_count": 15,
   "id": "9500cba7-0230-4c82-86e0-4f02538182ef",
   "metadata": {},
   "outputs": [
    {
     "data": {
      "text/plain": [
       "day\n",
       "E8.5      112875\n",
       "E10.0      98766\n",
       "E9.75      96466\n",
       "E9.5       37357\n",
       "E9.25      36020\n",
       "E9.0       30094\n",
       "E10.5      21656\n",
       "E10.25     21373\n",
       "E10.75     17067\n",
       "E8.75       9807\n",
       "Name: count, dtype: int64"
      ]
     },
     "execution_count": 15,
     "metadata": {},
     "output_type": "execute_result"
    }
   ],
   "source": [
    "pd.Series(adata1.obs['day']).value_counts()"
   ]
  },
  {
   "cell_type": "code",
   "execution_count": 17,
   "id": "7aaaf52c-b56c-4b44-b527-ea257da2f471",
   "metadata": {},
   "outputs": [],
   "source": [
    "celltype = pd.merge(adata1.obs['cell_id'], df_cell, on='cell_id', how='left')\n",
    "celltype.index = adata1.obs.index\n",
    "adata1.obs['celltype.anno']=celltype['major_trajectory']"
   ]
  },
  {
   "cell_type": "code",
   "execution_count": 19,
   "id": "1ae376f8-ee7f-44ed-b563-704cfb9e6b1d",
   "metadata": {},
   "outputs": [],
   "source": [
    "## Prepare labels\n",
    "## high resolution: 11 clusters\n",
    "#E8.5-9, E9.25-10, E10.25-10.5, E10.75-11.75, E12-12.75, E13-13.75, E14-14.333, E14.75-15.25, E15.5-16.5, E16.75-18, E18.25-P0\n",
    "time_bin = adata1.obs['day'].copy()\n",
    "time_bin = time_bin.replace('E8.5', 0)\n",
    "time_bin = time_bin.replace('E8.75', 0)\n",
    "time_bin = time_bin.replace('E9.0', 0)\n",
    "time_bin = time_bin.replace('E9.25', 1)\n",
    "time_bin = time_bin.replace('E9.5', 1)\n",
    "time_bin = time_bin.replace('E9.75', 1)\n",
    "time_bin = time_bin.replace('E10.0', 1)\n",
    "time_bin = time_bin.replace('E10.25', 2)\n",
    "time_bin = time_bin.replace('E10.5', 2)\n",
    "time_bin = time_bin.replace('E10.75', 3)\n",
    "time_bin = time_bin.replace('E11.0', 3)\n",
    "time_bin = time_bin.replace('E11.25', 3)\n",
    "time_bin = time_bin.replace('E11.5', 3)\n",
    "time_bin = time_bin.replace('E11.75', 3)\n",
    "time_bin = time_bin.replace('E12.0', 4)\n",
    "time_bin = time_bin.replace('E12.25', 4)\n",
    "time_bin = time_bin.replace('E12.5', 4)\n",
    "time_bin = time_bin.replace('E12.75', 4)\n",
    "time_bin = time_bin.replace('E13.0', 5)\n",
    "time_bin = time_bin.replace('E13.25', 5)\n",
    "time_bin = time_bin.replace('E13.5', 5)\n",
    "time_bin = time_bin.replace('E13.75', 5)\n",
    "time_bin = time_bin.replace('E14.0', 6)\n",
    "time_bin = time_bin.replace('E14.25', 6)\n",
    "time_bin = time_bin.replace('E14.333', 6)\n",
    "time_bin = time_bin.replace('E14.75', 7)\n",
    "time_bin = time_bin.replace('E15.0', 7)\n",
    "time_bin = time_bin.replace('E15.25', 7)\n",
    "time_bin = time_bin.replace('E15.5', 8)\n",
    "time_bin = time_bin.replace('E15.75', 8)\n",
    "time_bin = time_bin.replace('E16.0', 8)\n",
    "time_bin = time_bin.replace('E16.25', 8)\n",
    "time_bin = time_bin.replace('E16.5', 8)\n",
    "time_bin = time_bin.replace('E16.75', 9)\n",
    "time_bin = time_bin.replace('E17.0', 9)\n",
    "time_bin = time_bin.replace('E17.25', 9)\n",
    "time_bin = time_bin.replace('E17.5', 9)\n",
    "time_bin = time_bin.replace('E17.75', 9)\n",
    "time_bin = time_bin.replace('E18.0', 9)\n",
    "time_bin = time_bin.replace('E18.25', 10)\n",
    "time_bin = time_bin.replace('E18.5', 10)\n",
    "time_bin = time_bin.replace('E18.75', 10)\n",
    "time_bin = time_bin.replace('P0', 10)\n",
    "\n",
    "#celltype = adata1.obs['celltype.anno']\n",
    "#celltype = celltype.replace('Mesoderm', 0)\n",
    "#celltype = celltype.replace('CNS_neurons', 1)\n",
    "#celltype = celltype.replace('Neuroectoderm_and_glia', 2)\n",
    "#celltype = celltype.replace('Epithelial_cells', 3)\n",
    "#celltype = celltype.replace('Muscle_cells', 4)\n",
    "#celltype = celltype.replace('Endothelium', 5)\n",
    "#celltype = celltype.replace('Hepatocytes', 6)\n",
    "#celltype = celltype.replace('Neural_crest_PNS_glia', 7)\n",
    "#celltype = celltype.replace('Neural_crest_PNS_neurons', 8)\n",
    "#celltype = celltype.replace('Cardiomyocytes', 9)\n",
    "#celltype = celltype.replace('Megakaryocytes', 10)\n",
    "#celltype = celltype.replace('Ependymal_cells', 11)\n",
    "\n",
    "celltype = adata1.obs['celltype.anno']\n",
    "celltype = celltype.replace('Mesoderm', 0)\n",
    "celltype = celltype.replace('CNS_neurons', 1)\n",
    "celltype = celltype.replace('Neuroectoderm_and_glia', 2)\n",
    "celltype = celltype.replace('Definitive_erythroid', 3)\n",
    "celltype = celltype.replace('Epithelial_cells', 4)\n",
    "celltype = celltype.replace('Intermediate_neuronal_progenitors', 5)\n",
    "celltype = celltype.replace('Muscle_cells', 6)\n",
    "celltype = celltype.replace('Endothelium', 7)\n",
    "celltype = celltype.replace('White_blood_cells', 8)\n",
    "celltype = celltype.replace('Hepatocytes', 9)\n",
    "celltype = celltype.replace('Neural_crest_PNS_glia', 10)\n",
    "celltype = celltype.replace('Neural_crest_PNS_neurons', 11)\n",
    "celltype = celltype.replace('Adipocytes', 12)\n",
    "celltype = celltype.replace('Eye_and_other', 13)\n",
    "celltype = celltype.replace('Lung_and_airway', 14)\n",
    "celltype = celltype.replace('Intestine', 15)\n",
    "celltype = celltype.replace('T_cells', 16)\n",
    "celltype = celltype.replace('Cardiomyocytes', 17)\n",
    "celltype = celltype.replace('Olfactory_sensory_neurons', 18)\n",
    "celltype = celltype.replace('B_cells', 19)\n",
    "celltype = celltype.replace('Mast_cells', 20)\n",
    "celltype = celltype.replace('Oligodendrocytes', 21)\n",
    "celltype = celltype.replace('Megakaryocytes', 22)\n",
    "celltype = celltype.replace('Ependymal_cells', 23)\n",
    "celltype = celltype.replace('Primitive_erythroid', 24)\n",
    "celltype = celltype.replace('Testis_and_adrenal', 25) \n",
    " \n",
    "labels = adata1.obs['celltype.anno'].astype(str) + \"_\" + time_bin.astype(str)\n",
    "labels = celltype.astype(str) + \"_\" + time_bin.astype(str)\n"
   ]
  },
  {
   "cell_type": "code",
   "execution_count": 20,
   "id": "7af399d3-62f9-4207-9359-cfad67ea3678",
   "metadata": {},
   "outputs": [
    {
     "data": {
      "text/plain": [
       "run_4_P2-01A.ATTCAAGCATGTTACGCAAG-0          2_0\n",
       "run_4_P2-01A.CCGTCGATTTTATTCTGAG-0           0_0\n",
       "run_4_P2-01A.ATGCTTCCTAATGCCGCTT-0           0_0\n",
       "run_4_P2-01A.CAGATCAGTGCTCAGCCGG-0           4_0\n",
       "run_4_P2-01A.CGTCTTCCTTAGGCCATAG-0           0_0\n",
       "                                            ... \n",
       "run_19_PD-12H_S384.ACATTCGTATACCTGGACGC-3    0_3\n",
       "run_19_PD-12H_S384.TTCTAAGCTTTTCATAGGAC-3    0_2\n",
       "run_19_PD-12H_S384.GTCGGCAATCCAACTAACC-3     0_3\n",
       "run_19_PD-12H_S384.GTTCGCTGTCGTCGCAGCC-3     0_2\n",
       "run_19_PD-12H_S384.AATCCAGTATGACCTTGATA-3    4_2\n",
       "Length: 481481, dtype: object"
      ]
     },
     "execution_count": 20,
     "metadata": {},
     "output_type": "execute_result"
    }
   ],
   "source": [
    "labels"
   ]
  },
  {
   "cell_type": "code",
   "execution_count": 21,
   "id": "b511aca7-f862-4aa5-98a5-c8ea7e9ace74",
   "metadata": {},
   "outputs": [],
   "source": [
    "adata1.obs['labels']=labels"
   ]
  },
  {
   "cell_type": "code",
   "execution_count": 22,
   "id": "45c091b9-3ef3-4556-b155-b8069469e8d1",
   "metadata": {},
   "outputs": [
    {
     "data": {
      "text/plain": [
       "labels\n",
       "0_1     121726\n",
       "2_1      78458\n",
       "0_0      59799\n",
       "2_0      58347\n",
       "4_1      28055\n",
       "         ...  \n",
       "13_3         2\n",
       "5_2          2\n",
       "18_3         2\n",
       "16_0         1\n",
       "18_2         1\n",
       "Name: count, Length: 72, dtype: int64"
      ]
     },
     "execution_count": 22,
     "metadata": {},
     "output_type": "execute_result"
    }
   ],
   "source": [
    "pd.Series(adata1.obs['labels']).value_counts()"
   ]
  },
  {
   "cell_type": "code",
   "execution_count": 23,
   "id": "efc53a77-a29b-48b2-9856-383a4aa6e2ae",
   "metadata": {},
   "outputs": [],
   "source": [
    "# Set the maximum sample size for downsampling\n",
    "max_sample_size = 500\n",
    "\n",
    "# Initialize a new DataFrame to store the downsampled data\n",
    "downsampled_obs = pd.DataFrame()\n",
    "\n",
    "# Iterate over unique categories and perform downsampling\n",
    "for category in adata1.obs['labels'].unique():\n",
    "    # Select data for the current category\n",
    "    category_data = adata1[adata1.obs['labels'] == category]\n",
    "\n",
    "    # Perform downsampling to the maximum sample size\n",
    "    downsampled_category = resample(category_data.obs, replace=False, n_samples=min(len(category_data), max_sample_size), random_state=42)\n",
    "\n",
    "    # Append the downsampled category to the new DataFrame\n",
    "    downsampled_obs = pd.concat([downsampled_obs, downsampled_category])"
   ]
  },
  {
   "cell_type": "code",
   "execution_count": 24,
   "id": "d12becdf-b3f9-4709-8f15-c8f6f4d4d65c",
   "metadata": {},
   "outputs": [],
   "source": [
    "# Create a new AnnData object with the downsampled observations\n",
    "adata1 = adata1[downsampled_obs.index, :]"
   ]
  },
  {
   "cell_type": "code",
   "execution_count": 25,
   "id": "04dfeee5-63df-49f6-8e7b-832a9f4c095d",
   "metadata": {
    "tags": []
   },
   "outputs": [],
   "source": [
    "## Remove class that < 20 cells\n",
    "# Identify categories that meet the threshold\n",
    "label_counts = adata1.obs['labels'].value_counts()\n",
    "valid_labels = label_counts[label_counts >= 20].index"
   ]
  },
  {
   "cell_type": "code",
   "execution_count": 26,
   "id": "edeade99-9488-486b-bb48-d3706a204c50",
   "metadata": {},
   "outputs": [],
   "source": [
    "# Filter AnnData based on the valid categories\n",
    "adata1 = adata1[adata1.obs['labels'].isin(valid_labels)]"
   ]
  },
  {
   "cell_type": "code",
   "execution_count": 27,
   "id": "9487cbfb-1d87-456f-8137-2168bbcd49cb",
   "metadata": {},
   "outputs": [],
   "source": [
    "## Remove cell types\n",
    "adata1 = adata1[adata1.obs['celltype.anno'] != \"Primitive_erythroid\"]\n",
    "adata1 = adata1[adata1.obs['celltype.anno'] != \"Testis_and_adrenal\"]\n",
    "#adata1 = adata1[adata1.obs['celltype.anno'] != \"Definitive_erythroid\"]\n",
    "#adata1 = adata1[adata1.obs['celltype.anno'] != \"Intermediate_neuronal_progenitors\"]\n",
    "#adata1 = adata1[adata1.obs['celltype.anno'] != \"White_blood_cells\"]\n",
    "#adata1 = adata1[adata1.obs['celltype.anno'] != \"Adipocytes\"]\n",
    "#adata1 = adata1[adata1.obs['celltype.anno'] != \"Eye_and_other\"]\n",
    "#adata1 = adata1[adata1.obs['celltype.anno'] != \"Lung_and_airway\"]\n",
    "#adata1 = adata1[adata1.obs['celltype.anno'] != \"Intestine\"]\n",
    "#adata1 = adata1[adata1.obs['celltype.anno'] != \"T_cells\"]\n",
    "#adata1 = adata1[adata1.obs['celltype.anno'] != \"Olfactory_sensory_neurons\"]\n",
    "#adata1 = adata1[adata1.obs['celltype.anno'] != \"B_cells\"]\n",
    "#adata1 = adata1[adata1.obs['celltype.anno'] != \"Mast_cells\"]\n",
    "#adata1 = adata1[adata1.obs['celltype.anno'] != \"Oligodendrocytes\"]"
   ]
  },
  {
   "cell_type": "code",
   "execution_count": 28,
   "id": "90a9cf51-e71e-4e3e-a39c-543b88400d5b",
   "metadata": {},
   "outputs": [
    {
     "data": {
      "text/plain": [
       "View of AnnData object with n_obs × n_vars = 19280 × 24552\n",
       "    obs: 'cell_id', 'keep', 'day', 'embryo_id', 'experimental_batch', 'n_counts', 'n_genes', 'celltype.anno', 'labels'\n",
       "    var: 'gene_id', 'gene_type', 'gene_short_name', 'chr'"
      ]
     },
     "execution_count": 28,
     "metadata": {},
     "output_type": "execute_result"
    }
   ],
   "source": [
    "adata1"
   ]
  },
  {
   "cell_type": "code",
   "execution_count": 30,
   "id": "8518b247-871e-47c5-829e-7fc405c9961c",
   "metadata": {},
   "outputs": [],
   "source": [
    "## Save the input data for GeneSys\n",
    "\n",
    "with open(\"./genesys_mouse_embryo_11_clusters_500_cells_per_state_2500_GPC_UPC_data1.pkl\", 'wb') as file_handle:\n",
    "    pickle.dump(adata1, file_handle)"
   ]
  },
  {
   "cell_type": "code",
   "execution_count": 32,
   "id": "33678328-0067-4397-b9dc-c40ebe6163fe",
   "metadata": {},
   "outputs": [],
   "source": [
    "del(adata1)"
   ]
  },
  {
   "cell_type": "markdown",
   "id": "9e959243-d5ac-4b26-a329-439f132d6648",
   "metadata": {},
   "source": [
    "## adata2"
   ]
  },
  {
   "cell_type": "code",
   "execution_count": 31,
   "id": "e4346919-249e-4c86-bcf8-09fd671e9d45",
   "metadata": {},
   "outputs": [],
   "source": [
    "adata2 = sc.read_h5ad(\"./Mouse_Embryo/adata_JAX_dataset_2.h5ad\")"
   ]
  },
  {
   "cell_type": "code",
   "execution_count": 33,
   "id": "6972a1a5-fe27-4a63-9b55-b4a63fed1e13",
   "metadata": {},
   "outputs": [
    {
     "data": {
      "text/plain": [
       "AnnData object with n_obs × n_vars = 2560869 × 24552\n",
       "    obs: 'cell_id', 'keep', 'day', 'embryo_id', 'experimental_batch'\n",
       "    var: 'gene_id', 'gene_type', 'gene_short_name', 'chr'"
      ]
     },
     "execution_count": 33,
     "metadata": {},
     "output_type": "execute_result"
    }
   ],
   "source": [
    "adata2"
   ]
  },
  {
   "cell_type": "code",
   "execution_count": 34,
   "id": "099bb22d-dc69-4bed-9373-4faa6f5c4c9b",
   "metadata": {},
   "outputs": [],
   "source": [
    "sc.pp.filter_cells(adata2, min_counts=2500)\n",
    "sc.pp.filter_cells(adata2, min_genes=2500)\n",
    "# Calculate row sums for the number of genes per cell\n",
    "row_sums = np.sum(adata2.X > 0 , axis=1).reshape(-1).tolist()[0]\n",
    "# Calculate row sums for the number of counts per cell\n",
    "row_sums_counts = np.sum(adata2.X, axis=1).reshape(-1).tolist()[0]"
   ]
  },
  {
   "cell_type": "code",
   "execution_count": 35,
   "id": "ba6257e1-6f4d-4068-8b05-5e51e0e6268b",
   "metadata": {},
   "outputs": [
    {
     "data": {
      "text/plain": [
       "2821.0"
      ]
     },
     "execution_count": 35,
     "metadata": {},
     "output_type": "execute_result"
    }
   ],
   "source": [
    "np.median(row_sums)"
   ]
  },
  {
   "cell_type": "code",
   "execution_count": 36,
   "id": "7123b051-ac75-48f3-be16-d5d779304d37",
   "metadata": {},
   "outputs": [
    {
     "data": {
      "text/plain": [
       "6725.0"
      ]
     },
     "execution_count": 36,
     "metadata": {},
     "output_type": "execute_result"
    }
   ],
   "source": [
    "np.median(row_sums_counts)"
   ]
  },
  {
   "cell_type": "code",
   "execution_count": 37,
   "id": "8d32a872-92cc-4e94-ab04-9e8571299284",
   "metadata": {},
   "outputs": [
    {
     "data": {
      "text/plain": [
       "AnnData object with n_obs × n_vars = 244575 × 24552\n",
       "    obs: 'cell_id', 'keep', 'day', 'embryo_id', 'experimental_batch', 'n_counts', 'n_genes'\n",
       "    var: 'gene_id', 'gene_type', 'gene_short_name', 'chr'"
      ]
     },
     "execution_count": 37,
     "metadata": {},
     "output_type": "execute_result"
    }
   ],
   "source": [
    "adata2"
   ]
  },
  {
   "cell_type": "code",
   "execution_count": 38,
   "id": "19d33d1f-09a6-4852-ae6e-b61e60efe65e",
   "metadata": {},
   "outputs": [
    {
     "data": {
      "text/plain": [
       "day\n",
       "E12.25    40118\n",
       "E11.25    32720\n",
       "E12.0     29630\n",
       "E12.5     27764\n",
       "E12.75    24247\n",
       "E11.5     22430\n",
       "E13.25    21363\n",
       "E11.0     14535\n",
       "E13.75     9810\n",
       "E13.0      8874\n",
       "E11.75     6677\n",
       "E13.5      6407\n",
       "Name: count, dtype: int64"
      ]
     },
     "execution_count": 38,
     "metadata": {},
     "output_type": "execute_result"
    }
   ],
   "source": [
    "pd.Series(adata2.obs['day']).value_counts()"
   ]
  },
  {
   "cell_type": "code",
   "execution_count": 39,
   "id": "38c5b435-258a-4217-bcad-29a77d299be3",
   "metadata": {},
   "outputs": [],
   "source": [
    "celltype = pd.merge(adata2.obs['cell_id'], df_cell, on='cell_id', how='left')\n",
    "celltype.index = adata2.obs.index\n",
    "adata2.obs['celltype.anno']=celltype['major_trajectory']"
   ]
  },
  {
   "cell_type": "code",
   "execution_count": 40,
   "id": "ea398aa3-02ed-4cbe-a58e-94164b60cd6d",
   "metadata": {},
   "outputs": [],
   "source": [
    "## Prepare labels\n",
    "time_bin = adata2.obs['day'].copy()\n",
    "time_bin = time_bin.replace('E8.5', 0)\n",
    "time_bin = time_bin.replace('E8.75', 0)\n",
    "time_bin = time_bin.replace('E9.0', 0)\n",
    "time_bin = time_bin.replace('E9.25', 1)\n",
    "time_bin = time_bin.replace('E9.5', 1)\n",
    "time_bin = time_bin.replace('E9.75', 1)\n",
    "time_bin = time_bin.replace('E10.0', 1)\n",
    "time_bin = time_bin.replace('E10.25', 2)\n",
    "time_bin = time_bin.replace('E10.5', 2)\n",
    "time_bin = time_bin.replace('E10.75', 3)\n",
    "time_bin = time_bin.replace('E11.0', 3)\n",
    "time_bin = time_bin.replace('E11.25', 3)\n",
    "time_bin = time_bin.replace('E11.5', 3)\n",
    "time_bin = time_bin.replace('E11.75', 3)\n",
    "time_bin = time_bin.replace('E12.0', 4)\n",
    "time_bin = time_bin.replace('E12.25', 4)\n",
    "time_bin = time_bin.replace('E12.5', 4)\n",
    "time_bin = time_bin.replace('E12.75', 4)\n",
    "time_bin = time_bin.replace('E13.0', 5)\n",
    "time_bin = time_bin.replace('E13.25', 5)\n",
    "time_bin = time_bin.replace('E13.5', 5)\n",
    "time_bin = time_bin.replace('E13.75', 5)\n",
    "time_bin = time_bin.replace('E14.0', 6)\n",
    "time_bin = time_bin.replace('E14.25', 6)\n",
    "time_bin = time_bin.replace('E14.333', 6)\n",
    "time_bin = time_bin.replace('E14.75', 7)\n",
    "time_bin = time_bin.replace('E15.0', 7)\n",
    "time_bin = time_bin.replace('E15.25', 7)\n",
    "time_bin = time_bin.replace('E15.5', 8)\n",
    "time_bin = time_bin.replace('E15.75', 8)\n",
    "time_bin = time_bin.replace('E16.0', 8)\n",
    "time_bin = time_bin.replace('E16.25', 8)\n",
    "time_bin = time_bin.replace('E16.5', 8)\n",
    "time_bin = time_bin.replace('E16.75', 9)\n",
    "time_bin = time_bin.replace('E17.0', 9)\n",
    "time_bin = time_bin.replace('E17.25', 9)\n",
    "time_bin = time_bin.replace('E17.5', 9)\n",
    "time_bin = time_bin.replace('E17.75', 9)\n",
    "time_bin = time_bin.replace('E18.0', 9)\n",
    "time_bin = time_bin.replace('E18.25', 10)\n",
    "time_bin = time_bin.replace('E18.5', 10)\n",
    "time_bin = time_bin.replace('E18.75', 10)\n",
    "time_bin = time_bin.replace('P0', 10)\n",
    "\n",
    "celltype = adata2.obs['celltype.anno']\n",
    "celltype = celltype.replace('Mesoderm', 0)\n",
    "celltype = celltype.replace('CNS_neurons', 1)\n",
    "celltype = celltype.replace('Neuroectoderm_and_glia', 2)\n",
    "celltype = celltype.replace('Definitive_erythroid', 3)\n",
    "celltype = celltype.replace('Epithelial_cells', 4)\n",
    "celltype = celltype.replace('Intermediate_neuronal_progenitors', 5)\n",
    "celltype = celltype.replace('Muscle_cells', 6)\n",
    "celltype = celltype.replace('Endothelium', 7)\n",
    "celltype = celltype.replace('White_blood_cells', 8)\n",
    "celltype = celltype.replace('Hepatocytes', 9)\n",
    "celltype = celltype.replace('Neural_crest_PNS_glia', 10)\n",
    "celltype = celltype.replace('Neural_crest_PNS_neurons', 11)\n",
    "celltype = celltype.replace('Adipocytes', 12)\n",
    "celltype = celltype.replace('Eye_and_other', 13)\n",
    "celltype = celltype.replace('Lung_and_airway', 14)\n",
    "celltype = celltype.replace('Intestine', 15)\n",
    "celltype = celltype.replace('T_cells', 16)\n",
    "celltype = celltype.replace('Cardiomyocytes', 17)\n",
    "celltype = celltype.replace('Olfactory_sensory_neurons', 18)\n",
    "celltype = celltype.replace('B_cells', 19)\n",
    "celltype = celltype.replace('Mast_cells', 20)\n",
    "celltype = celltype.replace('Oligodendrocytes', 21)\n",
    "celltype = celltype.replace('Megakaryocytes', 22)\n",
    "celltype = celltype.replace('Ependymal_cells', 23)\n",
    "celltype = celltype.replace('Primitive_erythroid', 24)\n",
    "celltype = celltype.replace('Testis_and_adrenal', 25)                            \n",
    " \n",
    "labels = adata2.obs['celltype.anno'].astype(str) + \"_\" + time_bin.astype(str)\n",
    "labels = celltype.astype(str) + \"_\" + time_bin.astype(str)\n",
    "\n",
    "adata2.obs['labels']=labels\n",
    "\n",
    "# Set the maximum sample size for downsampling\n",
    "max_sample_size = 500\n",
    "\n",
    "# Initialize a new DataFrame to store the downsampled data\n",
    "downsampled_obs = pd.DataFrame()\n",
    "\n",
    "# Iterate over unique categories and perform downsampling\n",
    "for category in adata2.obs['labels'].unique():\n",
    "    # Select data for the current category\n",
    "    category_data = adata2[adata2.obs['labels'] == category]\n",
    "\n",
    "    # Perform downsampling to the maximum sample size\n",
    "    downsampled_category = resample(category_data.obs, replace=False, n_samples=min(len(category_data), max_sample_size), random_state=42)\n",
    "\n",
    "    # Append the downsampled category to the new DataFrame\n",
    "    downsampled_obs = pd.concat([downsampled_obs, downsampled_category])\n",
    "\n",
    "# Create a new AnnData object with the downsampled observations\n",
    "adata2 = adata2[downsampled_obs.index, :]\n",
    "\n",
    "## Remove class that < 20 cells\n",
    "# Identify categories that meet the threshold\n",
    "label_counts = adata2.obs['labels'].value_counts()\n",
    "valid_labels = label_counts[label_counts >= 20].index\n",
    "\n",
    "# Filter AnnData based on the valid categories\n",
    "adata2 = adata2[adata2.obs['labels'].isin(valid_labels)]\n",
    "\n",
    "## Remove cell types\n",
    "adata2 = adata2[adata2.obs['celltype.anno'] != \"Primitive_erythroid\"]\n",
    "adata2 = adata2[adata2.obs['celltype.anno'] != \"Testis_and_adrenal\"]"
   ]
  },
  {
   "cell_type": "code",
   "execution_count": 41,
   "id": "2209e168-c42d-4686-8b9c-6f89fb662189",
   "metadata": {},
   "outputs": [
    {
     "data": {
      "text/plain": [
       "labels\n",
       "10_3    500\n",
       "9_4     500\n",
       "6_4     500\n",
       "5_4     500\n",
       "3_4     500\n",
       "7_4     500\n",
       "10_4    500\n",
       "4_3     500\n",
       "4_4     500\n",
       "8_4     500\n",
       "1_5     500\n",
       "0_5     500\n",
       "6_5     500\n",
       "9_5     500\n",
       "7_5     500\n",
       "11_5    500\n",
       "2_5     500\n",
       "3_5     500\n",
       "4_5     500\n",
       "5_5     500\n",
       "8_5     500\n",
       "1_4     500\n",
       "11_4    500\n",
       "2_4     500\n",
       "8_3     500\n",
       "0_3     500\n",
       "1_3     500\n",
       "7_3     500\n",
       "2_3     500\n",
       "6_3     500\n",
       "3_3     500\n",
       "11_3    500\n",
       "9_3     500\n",
       "0_4     500\n",
       "10_5    444\n",
       "22_4    397\n",
       "18_4    367\n",
       "14_4    316\n",
       "17_4    309\n",
       "17_3    300\n",
       "13_4    288\n",
       "22_3    218\n",
       "15_4    215\n",
       "23_4    215\n",
       "22_5    164\n",
       "14_3    162\n",
       "23_3    143\n",
       "13_5    115\n",
       "14_5    111\n",
       "18_5     92\n",
       "15_5     66\n",
       "18_3     65\n",
       "5_3      62\n",
       "23_5     59\n",
       "13_3     50\n",
       "20_4     50\n",
       "17_5     34\n",
       "15_3     30\n",
       "20_5     26\n",
       "21_5     23\n",
       "Name: count, dtype: int64"
      ]
     },
     "execution_count": 41,
     "metadata": {},
     "output_type": "execute_result"
    }
   ],
   "source": [
    "pd.Series(adata2.obs['labels']).value_counts()"
   ]
  },
  {
   "cell_type": "code",
   "execution_count": 42,
   "id": "00509e4c-6af9-43c0-a669-7f73141662a4",
   "metadata": {},
   "outputs": [
    {
     "data": {
      "text/plain": [
       "View of AnnData object with n_obs × n_vars = 21321 × 24552\n",
       "    obs: 'cell_id', 'keep', 'day', 'embryo_id', 'experimental_batch', 'n_counts', 'n_genes', 'celltype.anno', 'labels'\n",
       "    var: 'gene_id', 'gene_type', 'gene_short_name', 'chr'"
      ]
     },
     "execution_count": 42,
     "metadata": {},
     "output_type": "execute_result"
    }
   ],
   "source": [
    "adata2"
   ]
  },
  {
   "cell_type": "code",
   "execution_count": 43,
   "id": "e178069e-0f25-40bb-92ae-37cefc7272a7",
   "metadata": {},
   "outputs": [],
   "source": [
    "## Save the input data for GeneSys\n",
    "\n",
    "with open(\"./genesys_mouse_embryo_11_clusters_500_cells_per_state_2500_GPC_UPC_data2.pkl\", 'wb') as file_handle:\n",
    "    pickle.dump(adata2, file_handle)"
   ]
  },
  {
   "cell_type": "code",
   "execution_count": 44,
   "id": "567e2613-c222-4157-a0d1-5c8c272fb08e",
   "metadata": {},
   "outputs": [],
   "source": [
    "del(adata2)"
   ]
  },
  {
   "cell_type": "markdown",
   "id": "60836ae9-3401-4508-b1b8-99c2107c363e",
   "metadata": {},
   "source": [
    "## adata3"
   ]
  },
  {
   "cell_type": "code",
   "execution_count": 45,
   "id": "4a41632e-f8a8-48aa-a4c1-00c9ecac5f84",
   "metadata": {},
   "outputs": [],
   "source": [
    "adata3 = sc.read_h5ad(\"./Mouse_Embryo/adata_JAX_dataset_3.h5ad\")"
   ]
  },
  {
   "cell_type": "code",
   "execution_count": 46,
   "id": "070bae2b-eab4-4972-9de9-f5e8e9c26591",
   "metadata": {},
   "outputs": [
    {
     "data": {
      "text/plain": [
       "AnnData object with n_obs × n_vars = 2643980 × 24552\n",
       "    obs: 'cell_id', 'keep', 'day', 'embryo_id', 'experimental_batch'\n",
       "    var: 'gene_id', 'gene_type', 'gene_short_name', 'chr'"
      ]
     },
     "execution_count": 46,
     "metadata": {},
     "output_type": "execute_result"
    }
   ],
   "source": [
    "adata3"
   ]
  },
  {
   "cell_type": "code",
   "execution_count": 47,
   "id": "10836f0d-afa0-417c-9d4f-b86622b5ecdf",
   "metadata": {},
   "outputs": [],
   "source": [
    "sc.pp.filter_cells(adata3, min_counts=2500)\n",
    "sc.pp.filter_cells(adata3, min_genes=2500)\n",
    "# Calculate row sums for the number of genes per cell\n",
    "row_sums = np.sum(adata3.X > 0 , axis=1).reshape(-1).tolist()[0]\n",
    "# Calculate row sums for the number of counts per cell\n",
    "row_sums_counts = np.sum(adata3.X, axis=1).reshape(-1).tolist()[0]"
   ]
  },
  {
   "cell_type": "code",
   "execution_count": 48,
   "id": "e0e49651-2516-40bf-a944-b0e640d92f8f",
   "metadata": {},
   "outputs": [
    {
     "data": {
      "text/plain": [
       "2985.0"
      ]
     },
     "execution_count": 48,
     "metadata": {},
     "output_type": "execute_result"
    }
   ],
   "source": [
    "np.median(row_sums)"
   ]
  },
  {
   "cell_type": "code",
   "execution_count": 49,
   "id": "62634da3-3322-4af2-8ec4-8f7e6389defe",
   "metadata": {},
   "outputs": [
    {
     "data": {
      "text/plain": [
       "7384.0"
      ]
     },
     "execution_count": 49,
     "metadata": {},
     "output_type": "execute_result"
    }
   ],
   "source": [
    "np.median(row_sums_counts)"
   ]
  },
  {
   "cell_type": "code",
   "execution_count": 50,
   "id": "f4d16d76-45d8-40e2-a8a6-a8c6e18843c9",
   "metadata": {},
   "outputs": [
    {
     "data": {
      "text/plain": [
       "AnnData object with n_obs × n_vars = 448334 × 24552\n",
       "    obs: 'cell_id', 'keep', 'day', 'embryo_id', 'experimental_batch', 'n_counts', 'n_genes'\n",
       "    var: 'gene_id', 'gene_type', 'gene_short_name', 'chr'"
      ]
     },
     "execution_count": 50,
     "metadata": {},
     "output_type": "execute_result"
    }
   ],
   "source": [
    "adata3"
   ]
  },
  {
   "cell_type": "code",
   "execution_count": 51,
   "id": "cb454f7e-8d0d-4b5a-ab6f-43731ea74afd",
   "metadata": {},
   "outputs": [
    {
     "data": {
      "text/plain": [
       "day\n",
       "E16.0      62465\n",
       "E15.5      55055\n",
       "E14.333    51673\n",
       "E15.75     45596\n",
       "E15.0      43340\n",
       "E14.25     34298\n",
       "E16.25     31856\n",
       "E16.75     31692\n",
       "E16.5      29148\n",
       "E14.0      25583\n",
       "E15.25     23031\n",
       "E14.75     14597\n",
       "Name: count, dtype: int64"
      ]
     },
     "execution_count": 51,
     "metadata": {},
     "output_type": "execute_result"
    }
   ],
   "source": [
    "pd.Series(adata3.obs['day']).value_counts()"
   ]
  },
  {
   "cell_type": "code",
   "execution_count": 52,
   "id": "79345bf0-cea8-4232-9607-6a65aceb639c",
   "metadata": {},
   "outputs": [],
   "source": [
    "celltype = pd.merge(adata3.obs['cell_id'], df_cell, on='cell_id', how='left')\n",
    "celltype.index = adata3.obs.index\n",
    "adata3.obs['celltype.anno']=celltype['major_trajectory']"
   ]
  },
  {
   "cell_type": "code",
   "execution_count": 53,
   "id": "b8826d27-fb8f-4e3e-b532-9e29ad6e8bab",
   "metadata": {},
   "outputs": [],
   "source": [
    "## Prepare labels\n",
    "time_bin = adata3.obs['day'].copy()\n",
    "time_bin = time_bin.replace('E8.5', 0)\n",
    "time_bin = time_bin.replace('E8.75', 0)\n",
    "time_bin = time_bin.replace('E9.0', 0)\n",
    "time_bin = time_bin.replace('E9.25', 1)\n",
    "time_bin = time_bin.replace('E9.5', 1)\n",
    "time_bin = time_bin.replace('E9.75', 1)\n",
    "time_bin = time_bin.replace('E10.0', 1)\n",
    "time_bin = time_bin.replace('E10.25', 2)\n",
    "time_bin = time_bin.replace('E10.5', 2)\n",
    "time_bin = time_bin.replace('E10.75', 3)\n",
    "time_bin = time_bin.replace('E11.0', 3)\n",
    "time_bin = time_bin.replace('E11.25', 3)\n",
    "time_bin = time_bin.replace('E11.5', 3)\n",
    "time_bin = time_bin.replace('E11.75', 3)\n",
    "time_bin = time_bin.replace('E12.0', 4)\n",
    "time_bin = time_bin.replace('E12.25', 4)\n",
    "time_bin = time_bin.replace('E12.5', 4)\n",
    "time_bin = time_bin.replace('E12.75', 4)\n",
    "time_bin = time_bin.replace('E13.0', 5)\n",
    "time_bin = time_bin.replace('E13.25', 5)\n",
    "time_bin = time_bin.replace('E13.5', 5)\n",
    "time_bin = time_bin.replace('E13.75', 5)\n",
    "time_bin = time_bin.replace('E14.0', 6)\n",
    "time_bin = time_bin.replace('E14.25', 6)\n",
    "time_bin = time_bin.replace('E14.333', 6)\n",
    "time_bin = time_bin.replace('E14.75', 7)\n",
    "time_bin = time_bin.replace('E15.0', 7)\n",
    "time_bin = time_bin.replace('E15.25', 7)\n",
    "time_bin = time_bin.replace('E15.5', 8)\n",
    "time_bin = time_bin.replace('E15.75', 8)\n",
    "time_bin = time_bin.replace('E16.0', 8)\n",
    "time_bin = time_bin.replace('E16.25', 8)\n",
    "time_bin = time_bin.replace('E16.5', 8)\n",
    "time_bin = time_bin.replace('E16.75', 9)\n",
    "time_bin = time_bin.replace('E17.0', 9)\n",
    "time_bin = time_bin.replace('E17.25', 9)\n",
    "time_bin = time_bin.replace('E17.5', 9)\n",
    "time_bin = time_bin.replace('E17.75', 9)\n",
    "time_bin = time_bin.replace('E18.0', 9)\n",
    "time_bin = time_bin.replace('E18.25', 10)\n",
    "time_bin = time_bin.replace('E18.5', 10)\n",
    "time_bin = time_bin.replace('E18.75', 10)\n",
    "time_bin = time_bin.replace('P0', 10)\n",
    "\n",
    "celltype = adata3.obs['celltype.anno']\n",
    "celltype = celltype.replace('Mesoderm', 0)\n",
    "celltype = celltype.replace('CNS_neurons', 1)\n",
    "celltype = celltype.replace('Neuroectoderm_and_glia', 2)\n",
    "celltype = celltype.replace('Definitive_erythroid', 3)\n",
    "celltype = celltype.replace('Epithelial_cells', 4)\n",
    "celltype = celltype.replace('Intermediate_neuronal_progenitors', 5)\n",
    "celltype = celltype.replace('Muscle_cells', 6)\n",
    "celltype = celltype.replace('Endothelium', 7)\n",
    "celltype = celltype.replace('White_blood_cells', 8)\n",
    "celltype = celltype.replace('Hepatocytes', 9)\n",
    "celltype = celltype.replace('Neural_crest_PNS_glia', 10)\n",
    "celltype = celltype.replace('Neural_crest_PNS_neurons', 11)\n",
    "celltype = celltype.replace('Adipocytes', 12)\n",
    "celltype = celltype.replace('Eye_and_other', 13)\n",
    "celltype = celltype.replace('Lung_and_airway', 14)\n",
    "celltype = celltype.replace('Intestine', 15)\n",
    "celltype = celltype.replace('T_cells', 16)\n",
    "celltype = celltype.replace('Cardiomyocytes', 17)\n",
    "celltype = celltype.replace('Olfactory_sensory_neurons', 18)\n",
    "celltype = celltype.replace('B_cells', 19)\n",
    "celltype = celltype.replace('Mast_cells', 20)\n",
    "celltype = celltype.replace('Oligodendrocytes', 21)\n",
    "celltype = celltype.replace('Megakaryocytes', 22)\n",
    "celltype = celltype.replace('Ependymal_cells', 23)\n",
    "celltype = celltype.replace('Primitive_erythroid', 24)\n",
    "celltype = celltype.replace('Testis_and_adrenal', 25)                            \n",
    " \n",
    "labels = adata3.obs['celltype.anno'].astype(str) + \"_\" + time_bin.astype(str)\n",
    "labels = celltype.astype(str) + \"_\" + time_bin.astype(str)\n",
    "\n",
    "adata3.obs['labels']=labels\n",
    "\n",
    "# Set the maximum sample size for downsampling\n",
    "max_sample_size = 500\n",
    "\n",
    "# Initialize a new DataFrame to store the downsampled data\n",
    "downsampled_obs = pd.DataFrame()\n",
    "\n",
    "# Iterate over unique categories and perform downsampling\n",
    "for category in adata3.obs['labels'].unique():\n",
    "    # Select data for the current category\n",
    "    category_data = adata3[adata3.obs['labels'] == category]\n",
    "\n",
    "    # Perform downsampling to the maximum sample size\n",
    "    downsampled_category = resample(category_data.obs, replace=False, n_samples=min(len(category_data), max_sample_size), random_state=42)\n",
    "\n",
    "    # Append the downsampled category to the new DataFrame\n",
    "    downsampled_obs = pd.concat([downsampled_obs, downsampled_category])\n",
    "\n",
    "# Create a new AnnData object with the downsampled observations\n",
    "adata3 = adata3[downsampled_obs.index, :]\n",
    "\n",
    "## Remove class that < 20 cells\n",
    "# Identify categories that meet the threshold\n",
    "label_counts = adata3.obs['labels'].value_counts()\n",
    "valid_labels = label_counts[label_counts >= 20].index\n",
    "\n",
    "# Filter AnnData based on the valid categories\n",
    "adata3 = adata3[adata3.obs['labels'].isin(valid_labels)]\n",
    "\n",
    "## Remove cell types\n",
    "adata3 = adata3[adata3.obs['celltype.anno'] != \"Primitive_erythroid\"]\n",
    "adata3 = adata3[adata3.obs['celltype.anno'] != \"Testis_and_adrenal\"]"
   ]
  },
  {
   "cell_type": "code",
   "execution_count": 54,
   "id": "696c6ea2-78f5-437e-b74e-582cec5cc266",
   "metadata": {},
   "outputs": [
    {
     "data": {
      "text/plain": [
       "View of AnnData object with n_obs × n_vars = 37765 × 24552\n",
       "    obs: 'cell_id', 'keep', 'day', 'embryo_id', 'experimental_batch', 'n_counts', 'n_genes', 'celltype.anno', 'labels'\n",
       "    var: 'gene_id', 'gene_type', 'gene_short_name', 'chr'"
      ]
     },
     "execution_count": 54,
     "metadata": {},
     "output_type": "execute_result"
    }
   ],
   "source": [
    "adata3"
   ]
  },
  {
   "cell_type": "code",
   "execution_count": 55,
   "id": "866206fa-ee15-4280-9c96-36cb89701d8f",
   "metadata": {},
   "outputs": [],
   "source": [
    "## Save the input data for GeneSys\n",
    "\n",
    "with open(\"./genesys_mouse_embryo_11_clusters_500_cells_per_state_2500_GPC_UPC_data3.pkl\", 'wb') as file_handle:\n",
    "    pickle.dump(adata3, file_handle)"
   ]
  },
  {
   "cell_type": "code",
   "execution_count": 56,
   "id": "9fa01cb6-8bda-4e7c-a074-18990135d962",
   "metadata": {},
   "outputs": [],
   "source": [
    "del(adata3)"
   ]
  },
  {
   "cell_type": "markdown",
   "id": "46647ccc-8071-4294-b905-7b932e5efaa2",
   "metadata": {},
   "source": [
    "## adata4"
   ]
  },
  {
   "cell_type": "code",
   "execution_count": 57,
   "id": "f8a375ca-2963-4d00-8b7e-4aa4ba2aa1b2",
   "metadata": {},
   "outputs": [],
   "source": [
    "adata4 = sc.read_h5ad(\"./Mouse_Embryo/adata_JAX_dataset_4.h5ad\")"
   ]
  },
  {
   "cell_type": "code",
   "execution_count": 58,
   "id": "f566fe28-b6e3-4278-9900-54437efd392d",
   "metadata": {},
   "outputs": [
    {
     "data": {
      "text/plain": [
       "AnnData object with n_obs × n_vars = 3396428 × 24552\n",
       "    obs: 'cell_id', 'keep', 'day', 'embryo_id', 'experimental_batch'\n",
       "    var: 'gene_id', 'gene_type', 'gene_short_name', 'chr'"
      ]
     },
     "execution_count": 58,
     "metadata": {},
     "output_type": "execute_result"
    }
   ],
   "source": [
    "adata4"
   ]
  },
  {
   "cell_type": "code",
   "execution_count": 59,
   "id": "7c5f07f6-8fad-4858-b9fd-6935ecf31d14",
   "metadata": {},
   "outputs": [],
   "source": [
    "sc.pp.filter_cells(adata4, min_counts=2500)\n",
    "sc.pp.filter_cells(adata4, min_genes=2500)\n",
    "# Calculate row sums for the number of genes per cell\n",
    "row_sums = np.sum(adata4.X > 0 , axis=1).reshape(-1).tolist()[0]\n",
    "# Calculate row sums for the number of counts per cell\n",
    "row_sums_counts = np.sum(adata4.X, axis=1).reshape(-1).tolist()[0]"
   ]
  },
  {
   "cell_type": "code",
   "execution_count": 60,
   "id": "efde9086-99dd-40b2-8878-beba0b62d250",
   "metadata": {},
   "outputs": [
    {
     "data": {
      "text/plain": [
       "2931.0"
      ]
     },
     "execution_count": 60,
     "metadata": {},
     "output_type": "execute_result"
    }
   ],
   "source": [
    "np.median(row_sums)"
   ]
  },
  {
   "cell_type": "code",
   "execution_count": 61,
   "id": "a8e9af98-8019-49a8-9c5d-a03598c4905e",
   "metadata": {},
   "outputs": [
    {
     "data": {
      "text/plain": [
       "8629.0"
      ]
     },
     "execution_count": 61,
     "metadata": {},
     "output_type": "execute_result"
    }
   ],
   "source": [
    "np.median(row_sums_counts)"
   ]
  },
  {
   "cell_type": "code",
   "execution_count": 62,
   "id": "c5cc9140-bba0-42ce-929a-7623f45d7c73",
   "metadata": {},
   "outputs": [
    {
     "data": {
      "text/plain": [
       "AnnData object with n_obs × n_vars = 351705 × 24552\n",
       "    obs: 'cell_id', 'keep', 'day', 'embryo_id', 'experimental_batch', 'n_counts', 'n_genes'\n",
       "    var: 'gene_id', 'gene_type', 'gene_short_name', 'chr'"
      ]
     },
     "execution_count": 62,
     "metadata": {},
     "output_type": "execute_result"
    }
   ],
   "source": [
    "adata4"
   ]
  },
  {
   "cell_type": "code",
   "execution_count": 63,
   "id": "082f03cb-2a00-405e-aa54-a67d9abd5696",
   "metadata": {},
   "outputs": [
    {
     "data": {
      "text/plain": [
       "day\n",
       "P0        144384\n",
       "E17.0      40315\n",
       "E17.25     36271\n",
       "E18.0      31836\n",
       "E17.5      25150\n",
       "E18.5      20906\n",
       "E17.75     20882\n",
       "E18.25     17527\n",
       "E18.75     14434\n",
       "Name: count, dtype: int64"
      ]
     },
     "execution_count": 63,
     "metadata": {},
     "output_type": "execute_result"
    }
   ],
   "source": [
    "pd.Series(adata4.obs['day']).value_counts()"
   ]
  },
  {
   "cell_type": "code",
   "execution_count": 64,
   "id": "08a97ab4-14c2-4b02-8e4e-7a65d7a6e3aa",
   "metadata": {},
   "outputs": [],
   "source": [
    "celltype = pd.merge(adata4.obs['cell_id'], df_cell, on='cell_id', how='left')\n",
    "celltype.index = adata4.obs.index\n",
    "adata4.obs['celltype.anno']=celltype['major_trajectory']"
   ]
  },
  {
   "cell_type": "code",
   "execution_count": 65,
   "id": "d53ae24e-82e9-4fe9-9ccd-1922756d03b3",
   "metadata": {},
   "outputs": [],
   "source": [
    "## Prepare labels\n",
    "time_bin = adata4.obs['day'].copy()\n",
    "time_bin = time_bin.replace('E8.5', 0)\n",
    "time_bin = time_bin.replace('E8.75', 0)\n",
    "time_bin = time_bin.replace('E9.0', 0)\n",
    "time_bin = time_bin.replace('E9.25', 1)\n",
    "time_bin = time_bin.replace('E9.5', 1)\n",
    "time_bin = time_bin.replace('E9.75', 1)\n",
    "time_bin = time_bin.replace('E10.0', 1)\n",
    "time_bin = time_bin.replace('E10.25', 2)\n",
    "time_bin = time_bin.replace('E10.5', 2)\n",
    "time_bin = time_bin.replace('E10.75', 3)\n",
    "time_bin = time_bin.replace('E11.0', 3)\n",
    "time_bin = time_bin.replace('E11.25', 3)\n",
    "time_bin = time_bin.replace('E11.5', 3)\n",
    "time_bin = time_bin.replace('E11.75', 3)\n",
    "time_bin = time_bin.replace('E12.0', 4)\n",
    "time_bin = time_bin.replace('E12.25', 4)\n",
    "time_bin = time_bin.replace('E12.5', 4)\n",
    "time_bin = time_bin.replace('E12.75', 4)\n",
    "time_bin = time_bin.replace('E13.0', 5)\n",
    "time_bin = time_bin.replace('E13.25', 5)\n",
    "time_bin = time_bin.replace('E13.5', 5)\n",
    "time_bin = time_bin.replace('E13.75', 5)\n",
    "time_bin = time_bin.replace('E14.0', 6)\n",
    "time_bin = time_bin.replace('E14.25', 6)\n",
    "time_bin = time_bin.replace('E14.333', 6)\n",
    "time_bin = time_bin.replace('E14.75', 7)\n",
    "time_bin = time_bin.replace('E15.0', 7)\n",
    "time_bin = time_bin.replace('E15.25', 7)\n",
    "time_bin = time_bin.replace('E15.5', 8)\n",
    "time_bin = time_bin.replace('E15.75', 8)\n",
    "time_bin = time_bin.replace('E16.0', 8)\n",
    "time_bin = time_bin.replace('E16.25', 8)\n",
    "time_bin = time_bin.replace('E16.5', 8)\n",
    "time_bin = time_bin.replace('E16.75', 9)\n",
    "time_bin = time_bin.replace('E17.0', 9)\n",
    "time_bin = time_bin.replace('E17.25', 9)\n",
    "time_bin = time_bin.replace('E17.5', 9)\n",
    "time_bin = time_bin.replace('E17.75', 9)\n",
    "time_bin = time_bin.replace('E18.0', 9)\n",
    "time_bin = time_bin.replace('E18.25', 10)\n",
    "time_bin = time_bin.replace('E18.5', 10)\n",
    "time_bin = time_bin.replace('E18.75', 10)\n",
    "time_bin = time_bin.replace('P0', 10)\n",
    "\n",
    "celltype = adata4.obs['celltype.anno']\n",
    "celltype = celltype.replace('Mesoderm', 0)\n",
    "celltype = celltype.replace('CNS_neurons', 1)\n",
    "celltype = celltype.replace('Neuroectoderm_and_glia', 2)\n",
    "celltype = celltype.replace('Definitive_erythroid', 3)\n",
    "celltype = celltype.replace('Epithelial_cells', 4)\n",
    "celltype = celltype.replace('Intermediate_neuronal_progenitors', 5)\n",
    "celltype = celltype.replace('Muscle_cells', 6)\n",
    "celltype = celltype.replace('Endothelium', 7)\n",
    "celltype = celltype.replace('White_blood_cells', 8)\n",
    "celltype = celltype.replace('Hepatocytes', 9)\n",
    "celltype = celltype.replace('Neural_crest_PNS_glia', 10)\n",
    "celltype = celltype.replace('Neural_crest_PNS_neurons', 11)\n",
    "celltype = celltype.replace('Adipocytes', 12)\n",
    "celltype = celltype.replace('Eye_and_other', 13)\n",
    "celltype = celltype.replace('Lung_and_airway', 14)\n",
    "celltype = celltype.replace('Intestine', 15)\n",
    "celltype = celltype.replace('T_cells', 16)\n",
    "celltype = celltype.replace('Cardiomyocytes', 17)\n",
    "celltype = celltype.replace('Olfactory_sensory_neurons', 18)\n",
    "celltype = celltype.replace('B_cells', 19)\n",
    "celltype = celltype.replace('Mast_cells', 20)\n",
    "celltype = celltype.replace('Oligodendrocytes', 21)\n",
    "celltype = celltype.replace('Megakaryocytes', 22)\n",
    "celltype = celltype.replace('Ependymal_cells', 23)\n",
    "celltype = celltype.replace('Primitive_erythroid', 24)\n",
    "celltype = celltype.replace('Testis_and_adrenal', 25)                            \n",
    " \n",
    "labels = adata4.obs['celltype.anno'].astype(str) + \"_\" + time_bin.astype(str)\n",
    "labels = celltype.astype(str) + \"_\" + time_bin.astype(str)\n",
    "\n",
    "adata4.obs['labels']=labels\n",
    "\n",
    "# Set the maximum sample size for downsampling\n",
    "max_sample_size = 500\n",
    "\n",
    "# Initialize a new DataFrame to store the downsampled data\n",
    "downsampled_obs = pd.DataFrame()\n",
    "\n",
    "# Iterate over unique categories and perform downsampling\n",
    "for category in adata4.obs['labels'].unique():\n",
    "    # Select data for the current category\n",
    "    category_data = adata4[adata4.obs['labels'] == category]\n",
    "\n",
    "    # Perform downsampling to the maximum sample size\n",
    "    downsampled_category = resample(category_data.obs, replace=False, n_samples=min(len(category_data), max_sample_size), random_state=42)\n",
    "\n",
    "    # Append the downsampled category to the new DataFrame\n",
    "    downsampled_obs = pd.concat([downsampled_obs, downsampled_category])\n",
    "\n",
    "# Create a new AnnData object with the downsampled observations\n",
    "adata4 = adata4[downsampled_obs.index, :]\n",
    "\n",
    "## Remove class that < 20 cells\n",
    "# Identify categories that meet the threshold\n",
    "label_counts = adata4.obs['labels'].value_counts()\n",
    "valid_labels = label_counts[label_counts >= 20].index\n",
    "\n",
    "# Filter AnnData based on the valid categories\n",
    "adata4 = adata4[adata4.obs['labels'].isin(valid_labels)]\n",
    "\n",
    "## Remove cell types\n",
    "adata4 = adata4[adata4.obs['celltype.anno'] != \"Primitive_erythroid\"]\n",
    "adata4 = adata4[adata4.obs['celltype.anno'] != \"Testis_and_adrenal\"]"
   ]
  },
  {
   "cell_type": "code",
   "execution_count": 66,
   "id": "011d383a-9da0-4408-86f4-1ed9ca758223",
   "metadata": {},
   "outputs": [
    {
     "data": {
      "text/plain": [
       "View of AnnData object with n_obs × n_vars = 21914 × 24552\n",
       "    obs: 'cell_id', 'keep', 'day', 'embryo_id', 'experimental_batch', 'n_counts', 'n_genes', 'celltype.anno', 'labels'\n",
       "    var: 'gene_id', 'gene_type', 'gene_short_name', 'chr'"
      ]
     },
     "execution_count": 66,
     "metadata": {},
     "output_type": "execute_result"
    }
   ],
   "source": [
    "adata4"
   ]
  },
  {
   "cell_type": "code",
   "execution_count": 67,
   "id": "868d14f9-0769-4d7b-99db-bbd32b027540",
   "metadata": {},
   "outputs": [],
   "source": [
    "## Save the input data for GeneSys\n",
    "\n",
    "with open(\"./genesys_mouse_embryo_11_clusters_500_cells_per_state_2500_GPC_UPC_data4.pkl\", 'wb') as file_handle:\n",
    "    pickle.dump(adata4, file_handle)"
   ]
  },
  {
   "cell_type": "code",
   "execution_count": 68,
   "id": "7518652b-876e-456c-aa58-3688c50db80a",
   "metadata": {},
   "outputs": [],
   "source": [
    "del(adata4)"
   ]
  },
  {
   "cell_type": "markdown",
   "id": "71686d5d-ec19-4fae-863e-dd644f47284d",
   "metadata": {},
   "source": [
    "## Combine data"
   ]
  },
  {
   "cell_type": "code",
   "execution_count": 3,
   "id": "e9576e16-a3cb-46a2-b01b-c9131cdbf490",
   "metadata": {},
   "outputs": [],
   "source": [
    "with open(\"./genesys_mouse_embryo_11_clusters_500_cells_per_state_2500_GPC_UPC_data1.pkl\", 'rb') as file_handle:\n",
    "    adata1 = pickle.load(file_handle)"
   ]
  },
  {
   "cell_type": "code",
   "execution_count": 4,
   "id": "f88d7861-27d5-481b-8e9b-08a0cb1f2eb7",
   "metadata": {},
   "outputs": [],
   "source": [
    "with open(\"./genesys_mouse_embryo_11_clusters_500_cells_per_state_2500_GPC_UPC_data2.pkl\", 'rb') as file_handle:\n",
    "    adata2 = pickle.load(file_handle)"
   ]
  },
  {
   "cell_type": "code",
   "execution_count": 5,
   "id": "75af0fe7-6399-4e1b-aec9-decd155e0203",
   "metadata": {},
   "outputs": [],
   "source": [
    "with open(\"./genesys_mouse_embryo_11_clusters_500_cells_per_state_2500_GPC_UPC_data3.pkl\", 'rb') as file_handle:\n",
    "    adata3 = pickle.load(file_handle)"
   ]
  },
  {
   "cell_type": "code",
   "execution_count": 6,
   "id": "c54d0b1f-d7b7-4e52-9944-03ccd51c42a0",
   "metadata": {},
   "outputs": [],
   "source": [
    "with open(\"./genesys_mouse_embryo_11_clusters_500_cells_per_state_2500_GPC_UPC_data4.pkl\", 'rb') as file_handle:\n",
    "    adata4 = pickle.load(file_handle)"
   ]
  },
  {
   "cell_type": "code",
   "execution_count": 10,
   "id": "db9ed3b1-b79d-4a7b-a984-ccbe6ac5edf0",
   "metadata": {},
   "outputs": [],
   "source": [
    "df_gene = pd.read_csv('./Mouse_Embryo/df_gene.csv')"
   ]
  },
  {
   "cell_type": "code",
   "execution_count": 11,
   "id": "d192ff3f-8521-41f8-8654-f4f75641da8c",
   "metadata": {},
   "outputs": [
    {
     "data": {
      "text/html": [
       "<div>\n",
       "<style scoped>\n",
       "    .dataframe tbody tr th:only-of-type {\n",
       "        vertical-align: middle;\n",
       "    }\n",
       "\n",
       "    .dataframe tbody tr th {\n",
       "        vertical-align: top;\n",
       "    }\n",
       "\n",
       "    .dataframe thead th {\n",
       "        text-align: right;\n",
       "    }\n",
       "</style>\n",
       "<table border=\"1\" class=\"dataframe\">\n",
       "  <thead>\n",
       "    <tr style=\"text-align: right;\">\n",
       "      <th></th>\n",
       "      <th>Unnamed: 0</th>\n",
       "      <th>gene_id</th>\n",
       "      <th>gene_type</th>\n",
       "      <th>gene_short_name</th>\n",
       "      <th>chr</th>\n",
       "    </tr>\n",
       "  </thead>\n",
       "  <tbody>\n",
       "    <tr>\n",
       "      <th>0</th>\n",
       "      <td>ENSMUSG00000051951</td>\n",
       "      <td>ENSMUSG00000051951</td>\n",
       "      <td>protein_coding</td>\n",
       "      <td>Xkr4</td>\n",
       "      <td>chr1</td>\n",
       "    </tr>\n",
       "    <tr>\n",
       "      <th>1</th>\n",
       "      <td>ENSMUSG00000102343</td>\n",
       "      <td>ENSMUSG00000102343</td>\n",
       "      <td>lincRNA</td>\n",
       "      <td>Gm37381</td>\n",
       "      <td>chr1</td>\n",
       "    </tr>\n",
       "    <tr>\n",
       "      <th>2</th>\n",
       "      <td>ENSMUSG00000025900</td>\n",
       "      <td>ENSMUSG00000025900</td>\n",
       "      <td>protein_coding</td>\n",
       "      <td>Rp1</td>\n",
       "      <td>chr1</td>\n",
       "    </tr>\n",
       "    <tr>\n",
       "      <th>3</th>\n",
       "      <td>ENSMUSG00000025902</td>\n",
       "      <td>ENSMUSG00000025902</td>\n",
       "      <td>protein_coding</td>\n",
       "      <td>Sox17</td>\n",
       "      <td>chr1</td>\n",
       "    </tr>\n",
       "    <tr>\n",
       "      <th>4</th>\n",
       "      <td>ENSMUSG00000104328</td>\n",
       "      <td>ENSMUSG00000104328</td>\n",
       "      <td>lincRNA</td>\n",
       "      <td>Gm37323</td>\n",
       "      <td>chr1</td>\n",
       "    </tr>\n",
       "    <tr>\n",
       "      <th>...</th>\n",
       "      <td>...</td>\n",
       "      <td>...</td>\n",
       "      <td>...</td>\n",
       "      <td>...</td>\n",
       "      <td>...</td>\n",
       "    </tr>\n",
       "    <tr>\n",
       "      <th>24547</th>\n",
       "      <td>ENSMUSG00000065947</td>\n",
       "      <td>ENSMUSG00000065947</td>\n",
       "      <td>protein_coding</td>\n",
       "      <td>mt-Nd4l</td>\n",
       "      <td>chrM</td>\n",
       "    </tr>\n",
       "    <tr>\n",
       "      <th>24548</th>\n",
       "      <td>ENSMUSG00000064363</td>\n",
       "      <td>ENSMUSG00000064363</td>\n",
       "      <td>protein_coding</td>\n",
       "      <td>mt-Nd4</td>\n",
       "      <td>chrM</td>\n",
       "    </tr>\n",
       "    <tr>\n",
       "      <th>24549</th>\n",
       "      <td>ENSMUSG00000064367</td>\n",
       "      <td>ENSMUSG00000064367</td>\n",
       "      <td>protein_coding</td>\n",
       "      <td>mt-Nd5</td>\n",
       "      <td>chrM</td>\n",
       "    </tr>\n",
       "    <tr>\n",
       "      <th>24550</th>\n",
       "      <td>ENSMUSG00000064368</td>\n",
       "      <td>ENSMUSG00000064368</td>\n",
       "      <td>protein_coding</td>\n",
       "      <td>mt-Nd6</td>\n",
       "      <td>chrM</td>\n",
       "    </tr>\n",
       "    <tr>\n",
       "      <th>24551</th>\n",
       "      <td>ENSMUSG00000064370</td>\n",
       "      <td>ENSMUSG00000064370</td>\n",
       "      <td>protein_coding</td>\n",
       "      <td>mt-Cytb</td>\n",
       "      <td>chrM</td>\n",
       "    </tr>\n",
       "  </tbody>\n",
       "</table>\n",
       "<p>24552 rows × 5 columns</p>\n",
       "</div>"
      ],
      "text/plain": [
       "               Unnamed: 0             gene_id       gene_type gene_short_name  \\\n",
       "0      ENSMUSG00000051951  ENSMUSG00000051951  protein_coding            Xkr4   \n",
       "1      ENSMUSG00000102343  ENSMUSG00000102343         lincRNA         Gm37381   \n",
       "2      ENSMUSG00000025900  ENSMUSG00000025900  protein_coding             Rp1   \n",
       "3      ENSMUSG00000025902  ENSMUSG00000025902  protein_coding           Sox17   \n",
       "4      ENSMUSG00000104328  ENSMUSG00000104328         lincRNA         Gm37323   \n",
       "...                   ...                 ...             ...             ...   \n",
       "24547  ENSMUSG00000065947  ENSMUSG00000065947  protein_coding         mt-Nd4l   \n",
       "24548  ENSMUSG00000064363  ENSMUSG00000064363  protein_coding          mt-Nd4   \n",
       "24549  ENSMUSG00000064367  ENSMUSG00000064367  protein_coding          mt-Nd5   \n",
       "24550  ENSMUSG00000064368  ENSMUSG00000064368  protein_coding          mt-Nd6   \n",
       "24551  ENSMUSG00000064370  ENSMUSG00000064370  protein_coding         mt-Cytb   \n",
       "\n",
       "        chr  \n",
       "0      chr1  \n",
       "1      chr1  \n",
       "2      chr1  \n",
       "3      chr1  \n",
       "4      chr1  \n",
       "...     ...  \n",
       "24547  chrM  \n",
       "24548  chrM  \n",
       "24549  chrM  \n",
       "24550  chrM  \n",
       "24551  chrM  \n",
       "\n",
       "[24552 rows x 5 columns]"
      ]
     },
     "execution_count": 11,
     "metadata": {},
     "output_type": "execute_result"
    }
   ],
   "source": [
    "df_gene"
   ]
  },
  {
   "cell_type": "code",
   "execution_count": 8,
   "id": "91528ac6-7cda-41e6-86b2-518d5c2023a3",
   "metadata": {},
   "outputs": [
    {
     "data": {
      "text/html": [
       "<div>\n",
       "<style scoped>\n",
       "    .dataframe tbody tr th:only-of-type {\n",
       "        vertical-align: middle;\n",
       "    }\n",
       "\n",
       "    .dataframe tbody tr th {\n",
       "        vertical-align: top;\n",
       "    }\n",
       "\n",
       "    .dataframe thead th {\n",
       "        text-align: right;\n",
       "    }\n",
       "</style>\n",
       "<table border=\"1\" class=\"dataframe\">\n",
       "  <thead>\n",
       "    <tr style=\"text-align: right;\">\n",
       "      <th></th>\n",
       "      <th>gene_id</th>\n",
       "      <th>gene_type</th>\n",
       "      <th>gene_short_name</th>\n",
       "      <th>chr</th>\n",
       "    </tr>\n",
       "  </thead>\n",
       "  <tbody>\n",
       "    <tr>\n",
       "      <th>ENSMUSG00000051951</th>\n",
       "      <td>ENSMUSG00000051951</td>\n",
       "      <td>protein_coding</td>\n",
       "      <td>Xkr4</td>\n",
       "      <td>chr1</td>\n",
       "    </tr>\n",
       "    <tr>\n",
       "      <th>ENSMUSG00000102343</th>\n",
       "      <td>ENSMUSG00000102343</td>\n",
       "      <td>lincRNA</td>\n",
       "      <td>Gm37381</td>\n",
       "      <td>chr1</td>\n",
       "    </tr>\n",
       "    <tr>\n",
       "      <th>ENSMUSG00000025900</th>\n",
       "      <td>ENSMUSG00000025900</td>\n",
       "      <td>protein_coding</td>\n",
       "      <td>Rp1</td>\n",
       "      <td>chr1</td>\n",
       "    </tr>\n",
       "    <tr>\n",
       "      <th>ENSMUSG00000025902</th>\n",
       "      <td>ENSMUSG00000025902</td>\n",
       "      <td>protein_coding</td>\n",
       "      <td>Sox17</td>\n",
       "      <td>chr1</td>\n",
       "    </tr>\n",
       "    <tr>\n",
       "      <th>ENSMUSG00000104328</th>\n",
       "      <td>ENSMUSG00000104328</td>\n",
       "      <td>lincRNA</td>\n",
       "      <td>Gm37323</td>\n",
       "      <td>chr1</td>\n",
       "    </tr>\n",
       "    <tr>\n",
       "      <th>...</th>\n",
       "      <td>...</td>\n",
       "      <td>...</td>\n",
       "      <td>...</td>\n",
       "      <td>...</td>\n",
       "    </tr>\n",
       "    <tr>\n",
       "      <th>ENSMUSG00000065947</th>\n",
       "      <td>ENSMUSG00000065947</td>\n",
       "      <td>protein_coding</td>\n",
       "      <td>mt-Nd4l</td>\n",
       "      <td>chrM</td>\n",
       "    </tr>\n",
       "    <tr>\n",
       "      <th>ENSMUSG00000064363</th>\n",
       "      <td>ENSMUSG00000064363</td>\n",
       "      <td>protein_coding</td>\n",
       "      <td>mt-Nd4</td>\n",
       "      <td>chrM</td>\n",
       "    </tr>\n",
       "    <tr>\n",
       "      <th>ENSMUSG00000064367</th>\n",
       "      <td>ENSMUSG00000064367</td>\n",
       "      <td>protein_coding</td>\n",
       "      <td>mt-Nd5</td>\n",
       "      <td>chrM</td>\n",
       "    </tr>\n",
       "    <tr>\n",
       "      <th>ENSMUSG00000064368</th>\n",
       "      <td>ENSMUSG00000064368</td>\n",
       "      <td>protein_coding</td>\n",
       "      <td>mt-Nd6</td>\n",
       "      <td>chrM</td>\n",
       "    </tr>\n",
       "    <tr>\n",
       "      <th>ENSMUSG00000064370</th>\n",
       "      <td>ENSMUSG00000064370</td>\n",
       "      <td>protein_coding</td>\n",
       "      <td>mt-Cytb</td>\n",
       "      <td>chrM</td>\n",
       "    </tr>\n",
       "  </tbody>\n",
       "</table>\n",
       "<p>24552 rows × 4 columns</p>\n",
       "</div>"
      ],
      "text/plain": [
       "                               gene_id       gene_type gene_short_name   chr\n",
       "ENSMUSG00000051951  ENSMUSG00000051951  protein_coding            Xkr4  chr1\n",
       "ENSMUSG00000102343  ENSMUSG00000102343         lincRNA         Gm37381  chr1\n",
       "ENSMUSG00000025900  ENSMUSG00000025900  protein_coding             Rp1  chr1\n",
       "ENSMUSG00000025902  ENSMUSG00000025902  protein_coding           Sox17  chr1\n",
       "ENSMUSG00000104328  ENSMUSG00000104328         lincRNA         Gm37323  chr1\n",
       "...                                ...             ...             ...   ...\n",
       "ENSMUSG00000065947  ENSMUSG00000065947  protein_coding         mt-Nd4l  chrM\n",
       "ENSMUSG00000064363  ENSMUSG00000064363  protein_coding          mt-Nd4  chrM\n",
       "ENSMUSG00000064367  ENSMUSG00000064367  protein_coding          mt-Nd5  chrM\n",
       "ENSMUSG00000064368  ENSMUSG00000064368  protein_coding          mt-Nd6  chrM\n",
       "ENSMUSG00000064370  ENSMUSG00000064370  protein_coding         mt-Cytb  chrM\n",
       "\n",
       "[24552 rows x 4 columns]"
      ]
     },
     "execution_count": 8,
     "metadata": {},
     "output_type": "execute_result"
    }
   ],
   "source": [
    "adata1.var"
   ]
  },
  {
   "cell_type": "code",
   "execution_count": 12,
   "id": "3b39b77f-c28b-4e4d-86bb-7b6191456b4d",
   "metadata": {},
   "outputs": [
    {
     "data": {
      "text/html": [
       "<div>\n",
       "<style scoped>\n",
       "    .dataframe tbody tr th:only-of-type {\n",
       "        vertical-align: middle;\n",
       "    }\n",
       "\n",
       "    .dataframe tbody tr th {\n",
       "        vertical-align: top;\n",
       "    }\n",
       "\n",
       "    .dataframe thead th {\n",
       "        text-align: right;\n",
       "    }\n",
       "</style>\n",
       "<table border=\"1\" class=\"dataframe\">\n",
       "  <thead>\n",
       "    <tr style=\"text-align: right;\">\n",
       "      <th></th>\n",
       "      <th>gene_id</th>\n",
       "      <th>gene_type</th>\n",
       "      <th>gene_short_name</th>\n",
       "      <th>chr</th>\n",
       "    </tr>\n",
       "  </thead>\n",
       "  <tbody>\n",
       "    <tr>\n",
       "      <th>ENSMUSG00000051951</th>\n",
       "      <td>ENSMUSG00000051951</td>\n",
       "      <td>protein_coding</td>\n",
       "      <td>Xkr4</td>\n",
       "      <td>chr1</td>\n",
       "    </tr>\n",
       "    <tr>\n",
       "      <th>ENSMUSG00000102343</th>\n",
       "      <td>ENSMUSG00000102343</td>\n",
       "      <td>lincRNA</td>\n",
       "      <td>Gm37381</td>\n",
       "      <td>chr1</td>\n",
       "    </tr>\n",
       "    <tr>\n",
       "      <th>ENSMUSG00000025900</th>\n",
       "      <td>ENSMUSG00000025900</td>\n",
       "      <td>protein_coding</td>\n",
       "      <td>Rp1</td>\n",
       "      <td>chr1</td>\n",
       "    </tr>\n",
       "    <tr>\n",
       "      <th>ENSMUSG00000025902</th>\n",
       "      <td>ENSMUSG00000025902</td>\n",
       "      <td>protein_coding</td>\n",
       "      <td>Sox17</td>\n",
       "      <td>chr1</td>\n",
       "    </tr>\n",
       "    <tr>\n",
       "      <th>ENSMUSG00000104328</th>\n",
       "      <td>ENSMUSG00000104328</td>\n",
       "      <td>lincRNA</td>\n",
       "      <td>Gm37323</td>\n",
       "      <td>chr1</td>\n",
       "    </tr>\n",
       "    <tr>\n",
       "      <th>...</th>\n",
       "      <td>...</td>\n",
       "      <td>...</td>\n",
       "      <td>...</td>\n",
       "      <td>...</td>\n",
       "    </tr>\n",
       "    <tr>\n",
       "      <th>ENSMUSG00000065947</th>\n",
       "      <td>ENSMUSG00000065947</td>\n",
       "      <td>protein_coding</td>\n",
       "      <td>mt-Nd4l</td>\n",
       "      <td>chrM</td>\n",
       "    </tr>\n",
       "    <tr>\n",
       "      <th>ENSMUSG00000064363</th>\n",
       "      <td>ENSMUSG00000064363</td>\n",
       "      <td>protein_coding</td>\n",
       "      <td>mt-Nd4</td>\n",
       "      <td>chrM</td>\n",
       "    </tr>\n",
       "    <tr>\n",
       "      <th>ENSMUSG00000064367</th>\n",
       "      <td>ENSMUSG00000064367</td>\n",
       "      <td>protein_coding</td>\n",
       "      <td>mt-Nd5</td>\n",
       "      <td>chrM</td>\n",
       "    </tr>\n",
       "    <tr>\n",
       "      <th>ENSMUSG00000064368</th>\n",
       "      <td>ENSMUSG00000064368</td>\n",
       "      <td>protein_coding</td>\n",
       "      <td>mt-Nd6</td>\n",
       "      <td>chrM</td>\n",
       "    </tr>\n",
       "    <tr>\n",
       "      <th>ENSMUSG00000064370</th>\n",
       "      <td>ENSMUSG00000064370</td>\n",
       "      <td>protein_coding</td>\n",
       "      <td>mt-Cytb</td>\n",
       "      <td>chrM</td>\n",
       "    </tr>\n",
       "  </tbody>\n",
       "</table>\n",
       "<p>24552 rows × 4 columns</p>\n",
       "</div>"
      ],
      "text/plain": [
       "                               gene_id       gene_type gene_short_name   chr\n",
       "ENSMUSG00000051951  ENSMUSG00000051951  protein_coding            Xkr4  chr1\n",
       "ENSMUSG00000102343  ENSMUSG00000102343         lincRNA         Gm37381  chr1\n",
       "ENSMUSG00000025900  ENSMUSG00000025900  protein_coding             Rp1  chr1\n",
       "ENSMUSG00000025902  ENSMUSG00000025902  protein_coding           Sox17  chr1\n",
       "ENSMUSG00000104328  ENSMUSG00000104328         lincRNA         Gm37323  chr1\n",
       "...                                ...             ...             ...   ...\n",
       "ENSMUSG00000065947  ENSMUSG00000065947  protein_coding         mt-Nd4l  chrM\n",
       "ENSMUSG00000064363  ENSMUSG00000064363  protein_coding          mt-Nd4  chrM\n",
       "ENSMUSG00000064367  ENSMUSG00000064367  protein_coding          mt-Nd5  chrM\n",
       "ENSMUSG00000064368  ENSMUSG00000064368  protein_coding          mt-Nd6  chrM\n",
       "ENSMUSG00000064370  ENSMUSG00000064370  protein_coding         mt-Cytb  chrM\n",
       "\n",
       "[24552 rows x 4 columns]"
      ]
     },
     "execution_count": 12,
     "metadata": {},
     "output_type": "execute_result"
    }
   ],
   "source": [
    "adata2.var"
   ]
  },
  {
   "cell_type": "code",
   "execution_count": 13,
   "id": "ae75ff13-dda3-405c-987f-61fef3e91700",
   "metadata": {},
   "outputs": [
    {
     "data": {
      "text/html": [
       "<div>\n",
       "<style scoped>\n",
       "    .dataframe tbody tr th:only-of-type {\n",
       "        vertical-align: middle;\n",
       "    }\n",
       "\n",
       "    .dataframe tbody tr th {\n",
       "        vertical-align: top;\n",
       "    }\n",
       "\n",
       "    .dataframe thead th {\n",
       "        text-align: right;\n",
       "    }\n",
       "</style>\n",
       "<table border=\"1\" class=\"dataframe\">\n",
       "  <thead>\n",
       "    <tr style=\"text-align: right;\">\n",
       "      <th></th>\n",
       "      <th>gene_id</th>\n",
       "      <th>gene_type</th>\n",
       "      <th>gene_short_name</th>\n",
       "      <th>chr</th>\n",
       "    </tr>\n",
       "  </thead>\n",
       "  <tbody>\n",
       "    <tr>\n",
       "      <th>ENSMUSG00000051951</th>\n",
       "      <td>ENSMUSG00000051951</td>\n",
       "      <td>protein_coding</td>\n",
       "      <td>Xkr4</td>\n",
       "      <td>chr1</td>\n",
       "    </tr>\n",
       "    <tr>\n",
       "      <th>ENSMUSG00000102343</th>\n",
       "      <td>ENSMUSG00000102343</td>\n",
       "      <td>lincRNA</td>\n",
       "      <td>Gm37381</td>\n",
       "      <td>chr1</td>\n",
       "    </tr>\n",
       "    <tr>\n",
       "      <th>ENSMUSG00000025900</th>\n",
       "      <td>ENSMUSG00000025900</td>\n",
       "      <td>protein_coding</td>\n",
       "      <td>Rp1</td>\n",
       "      <td>chr1</td>\n",
       "    </tr>\n",
       "    <tr>\n",
       "      <th>ENSMUSG00000025902</th>\n",
       "      <td>ENSMUSG00000025902</td>\n",
       "      <td>protein_coding</td>\n",
       "      <td>Sox17</td>\n",
       "      <td>chr1</td>\n",
       "    </tr>\n",
       "    <tr>\n",
       "      <th>ENSMUSG00000104328</th>\n",
       "      <td>ENSMUSG00000104328</td>\n",
       "      <td>lincRNA</td>\n",
       "      <td>Gm37323</td>\n",
       "      <td>chr1</td>\n",
       "    </tr>\n",
       "    <tr>\n",
       "      <th>...</th>\n",
       "      <td>...</td>\n",
       "      <td>...</td>\n",
       "      <td>...</td>\n",
       "      <td>...</td>\n",
       "    </tr>\n",
       "    <tr>\n",
       "      <th>ENSMUSG00000065947</th>\n",
       "      <td>ENSMUSG00000065947</td>\n",
       "      <td>protein_coding</td>\n",
       "      <td>mt-Nd4l</td>\n",
       "      <td>chrM</td>\n",
       "    </tr>\n",
       "    <tr>\n",
       "      <th>ENSMUSG00000064363</th>\n",
       "      <td>ENSMUSG00000064363</td>\n",
       "      <td>protein_coding</td>\n",
       "      <td>mt-Nd4</td>\n",
       "      <td>chrM</td>\n",
       "    </tr>\n",
       "    <tr>\n",
       "      <th>ENSMUSG00000064367</th>\n",
       "      <td>ENSMUSG00000064367</td>\n",
       "      <td>protein_coding</td>\n",
       "      <td>mt-Nd5</td>\n",
       "      <td>chrM</td>\n",
       "    </tr>\n",
       "    <tr>\n",
       "      <th>ENSMUSG00000064368</th>\n",
       "      <td>ENSMUSG00000064368</td>\n",
       "      <td>protein_coding</td>\n",
       "      <td>mt-Nd6</td>\n",
       "      <td>chrM</td>\n",
       "    </tr>\n",
       "    <tr>\n",
       "      <th>ENSMUSG00000064370</th>\n",
       "      <td>ENSMUSG00000064370</td>\n",
       "      <td>protein_coding</td>\n",
       "      <td>mt-Cytb</td>\n",
       "      <td>chrM</td>\n",
       "    </tr>\n",
       "  </tbody>\n",
       "</table>\n",
       "<p>24552 rows × 4 columns</p>\n",
       "</div>"
      ],
      "text/plain": [
       "                               gene_id       gene_type gene_short_name   chr\n",
       "ENSMUSG00000051951  ENSMUSG00000051951  protein_coding            Xkr4  chr1\n",
       "ENSMUSG00000102343  ENSMUSG00000102343         lincRNA         Gm37381  chr1\n",
       "ENSMUSG00000025900  ENSMUSG00000025900  protein_coding             Rp1  chr1\n",
       "ENSMUSG00000025902  ENSMUSG00000025902  protein_coding           Sox17  chr1\n",
       "ENSMUSG00000104328  ENSMUSG00000104328         lincRNA         Gm37323  chr1\n",
       "...                                ...             ...             ...   ...\n",
       "ENSMUSG00000065947  ENSMUSG00000065947  protein_coding         mt-Nd4l  chrM\n",
       "ENSMUSG00000064363  ENSMUSG00000064363  protein_coding          mt-Nd4  chrM\n",
       "ENSMUSG00000064367  ENSMUSG00000064367  protein_coding          mt-Nd5  chrM\n",
       "ENSMUSG00000064368  ENSMUSG00000064368  protein_coding          mt-Nd6  chrM\n",
       "ENSMUSG00000064370  ENSMUSG00000064370  protein_coding         mt-Cytb  chrM\n",
       "\n",
       "[24552 rows x 4 columns]"
      ]
     },
     "execution_count": 13,
     "metadata": {},
     "output_type": "execute_result"
    }
   ],
   "source": [
    "adata3.var"
   ]
  },
  {
   "cell_type": "code",
   "execution_count": 14,
   "id": "f4bf641d-9663-4a9e-8ee5-32543ed8853b",
   "metadata": {},
   "outputs": [
    {
     "data": {
      "text/html": [
       "<div>\n",
       "<style scoped>\n",
       "    .dataframe tbody tr th:only-of-type {\n",
       "        vertical-align: middle;\n",
       "    }\n",
       "\n",
       "    .dataframe tbody tr th {\n",
       "        vertical-align: top;\n",
       "    }\n",
       "\n",
       "    .dataframe thead th {\n",
       "        text-align: right;\n",
       "    }\n",
       "</style>\n",
       "<table border=\"1\" class=\"dataframe\">\n",
       "  <thead>\n",
       "    <tr style=\"text-align: right;\">\n",
       "      <th></th>\n",
       "      <th>gene_id</th>\n",
       "      <th>gene_type</th>\n",
       "      <th>gene_short_name</th>\n",
       "      <th>chr</th>\n",
       "    </tr>\n",
       "  </thead>\n",
       "  <tbody>\n",
       "    <tr>\n",
       "      <th>ENSMUSG00000051951</th>\n",
       "      <td>ENSMUSG00000051951</td>\n",
       "      <td>protein_coding</td>\n",
       "      <td>Xkr4</td>\n",
       "      <td>chr1</td>\n",
       "    </tr>\n",
       "    <tr>\n",
       "      <th>ENSMUSG00000102343</th>\n",
       "      <td>ENSMUSG00000102343</td>\n",
       "      <td>lincRNA</td>\n",
       "      <td>Gm37381</td>\n",
       "      <td>chr1</td>\n",
       "    </tr>\n",
       "    <tr>\n",
       "      <th>ENSMUSG00000025900</th>\n",
       "      <td>ENSMUSG00000025900</td>\n",
       "      <td>protein_coding</td>\n",
       "      <td>Rp1</td>\n",
       "      <td>chr1</td>\n",
       "    </tr>\n",
       "    <tr>\n",
       "      <th>ENSMUSG00000025902</th>\n",
       "      <td>ENSMUSG00000025902</td>\n",
       "      <td>protein_coding</td>\n",
       "      <td>Sox17</td>\n",
       "      <td>chr1</td>\n",
       "    </tr>\n",
       "    <tr>\n",
       "      <th>ENSMUSG00000104328</th>\n",
       "      <td>ENSMUSG00000104328</td>\n",
       "      <td>lincRNA</td>\n",
       "      <td>Gm37323</td>\n",
       "      <td>chr1</td>\n",
       "    </tr>\n",
       "    <tr>\n",
       "      <th>...</th>\n",
       "      <td>...</td>\n",
       "      <td>...</td>\n",
       "      <td>...</td>\n",
       "      <td>...</td>\n",
       "    </tr>\n",
       "    <tr>\n",
       "      <th>ENSMUSG00000065947</th>\n",
       "      <td>ENSMUSG00000065947</td>\n",
       "      <td>protein_coding</td>\n",
       "      <td>mt-Nd4l</td>\n",
       "      <td>chrM</td>\n",
       "    </tr>\n",
       "    <tr>\n",
       "      <th>ENSMUSG00000064363</th>\n",
       "      <td>ENSMUSG00000064363</td>\n",
       "      <td>protein_coding</td>\n",
       "      <td>mt-Nd4</td>\n",
       "      <td>chrM</td>\n",
       "    </tr>\n",
       "    <tr>\n",
       "      <th>ENSMUSG00000064367</th>\n",
       "      <td>ENSMUSG00000064367</td>\n",
       "      <td>protein_coding</td>\n",
       "      <td>mt-Nd5</td>\n",
       "      <td>chrM</td>\n",
       "    </tr>\n",
       "    <tr>\n",
       "      <th>ENSMUSG00000064368</th>\n",
       "      <td>ENSMUSG00000064368</td>\n",
       "      <td>protein_coding</td>\n",
       "      <td>mt-Nd6</td>\n",
       "      <td>chrM</td>\n",
       "    </tr>\n",
       "    <tr>\n",
       "      <th>ENSMUSG00000064370</th>\n",
       "      <td>ENSMUSG00000064370</td>\n",
       "      <td>protein_coding</td>\n",
       "      <td>mt-Cytb</td>\n",
       "      <td>chrM</td>\n",
       "    </tr>\n",
       "  </tbody>\n",
       "</table>\n",
       "<p>24552 rows × 4 columns</p>\n",
       "</div>"
      ],
      "text/plain": [
       "                               gene_id       gene_type gene_short_name   chr\n",
       "ENSMUSG00000051951  ENSMUSG00000051951  protein_coding            Xkr4  chr1\n",
       "ENSMUSG00000102343  ENSMUSG00000102343         lincRNA         Gm37381  chr1\n",
       "ENSMUSG00000025900  ENSMUSG00000025900  protein_coding             Rp1  chr1\n",
       "ENSMUSG00000025902  ENSMUSG00000025902  protein_coding           Sox17  chr1\n",
       "ENSMUSG00000104328  ENSMUSG00000104328         lincRNA         Gm37323  chr1\n",
       "...                                ...             ...             ...   ...\n",
       "ENSMUSG00000065947  ENSMUSG00000065947  protein_coding         mt-Nd4l  chrM\n",
       "ENSMUSG00000064363  ENSMUSG00000064363  protein_coding          mt-Nd4  chrM\n",
       "ENSMUSG00000064367  ENSMUSG00000064367  protein_coding          mt-Nd5  chrM\n",
       "ENSMUSG00000064368  ENSMUSG00000064368  protein_coding          mt-Nd6  chrM\n",
       "ENSMUSG00000064370  ENSMUSG00000064370  protein_coding         mt-Cytb  chrM\n",
       "\n",
       "[24552 rows x 4 columns]"
      ]
     },
     "execution_count": 14,
     "metadata": {},
     "output_type": "execute_result"
    }
   ],
   "source": [
    "adata4.var"
   ]
  },
  {
   "cell_type": "code",
   "execution_count": 13,
   "id": "8d006e8a-0e92-467c-8e85-c32794ca2404",
   "metadata": {},
   "outputs": [
    {
     "name": "stderr",
     "output_type": "stream",
     "text": [
      "/hpc/group/pbenfeylab/ch416/miniconda3/envs/genesys/lib/python3.8/site-packages/anndata/_core/anndata.py:1763: FutureWarning: The AnnData.concatenate method is deprecated in favour of the anndata.concat function. Please use anndata.concat instead.\n",
      "\n",
      "See the tutorial for concat at: https://anndata.readthedocs.io/en/latest/concatenation.html\n",
      "  warnings.warn(\n"
     ]
    }
   ],
   "source": [
    "adata = adata1.concatenate(adata2, adata3, adata4)"
   ]
  },
  {
   "cell_type": "code",
   "execution_count": 14,
   "id": "0f968423-7106-4538-b0bf-17d18da62855",
   "metadata": {},
   "outputs": [
    {
     "data": {
      "text/plain": [
       "AnnData object with n_obs × n_vars = 100280 × 24552\n",
       "    obs: 'cell_id', 'keep', 'day', 'embryo_id', 'experimental_batch', 'n_counts', 'n_genes', 'celltype.anno', 'labels', 'batch'\n",
       "    var: 'gene_id', 'gene_type', 'gene_short_name', 'chr'"
      ]
     },
     "execution_count": 14,
     "metadata": {},
     "output_type": "execute_result"
    }
   ],
   "source": [
    "adata"
   ]
  },
  {
   "cell_type": "code",
   "execution_count": 15,
   "id": "a275d6e6-22dd-4e31-b437-3ff2495e31c3",
   "metadata": {},
   "outputs": [],
   "source": [
    "del(adata1)\n",
    "del(adata2)\n",
    "del(adata3)\n",
    "del(adata4)"
   ]
  },
  {
   "cell_type": "code",
   "execution_count": 16,
   "id": "449d424e-e47d-49e0-a5fc-21520c05c5ab",
   "metadata": {},
   "outputs": [],
   "source": [
    "## Processing all together\n",
    "sc.pp.normalize_total(adata, target_sum=1e4)\n",
    "sc.pp.log1p(adata)\n",
    "sc.pp.scale(adata, max_value=10)\n",
    "##The integrated assay values were floored at zero and normalized to the range of zero to one\n",
    "##flooring\n",
    "adata.X[adata.X < 0]=0\n",
    "mmin = np.amin(adata.X)\n",
    "nor = (np.amax(adata.X)-mmin)\n",
    "adata.X = (adata.X-mmin)/nor"
   ]
  },
  {
   "cell_type": "code",
   "execution_count": 19,
   "id": "8d80f80b-3285-4959-9925-8e5090521ed8",
   "metadata": {},
   "outputs": [
    {
     "data": {
      "text/plain": [
       "array([[0.        , 0.        , 0.        , ..., 0.        , 0.        ,\n",
       "        0.06917345],\n",
       "       [0.12367482, 0.        , 0.        , ..., 0.        , 0.        ,\n",
       "        0.01952198],\n",
       "       [0.        , 0.        , 0.        , ..., 0.        , 0.        ,\n",
       "        0.        ],\n",
       "       ...,\n",
       "       [0.        , 0.        , 0.        , ..., 0.0552013 , 0.        ,\n",
       "        0.        ],\n",
       "       [0.06790724, 0.        , 0.        , ..., 0.        , 0.        ,\n",
       "        0.        ],\n",
       "       [0.        , 0.        , 0.        , ..., 0.08991871, 0.        ,\n",
       "        0.16508825]], dtype=float32)"
      ]
     },
     "execution_count": 19,
     "metadata": {},
     "output_type": "execute_result"
    }
   ],
   "source": [
    "adata.X"
   ]
  },
  {
   "cell_type": "code",
   "execution_count": 21,
   "id": "a558993b-9e95-49c7-bff3-f7d8d7bab935",
   "metadata": {},
   "outputs": [],
   "source": [
    "## Prepare training, validation and test set\n",
    "X_train, X_test, y_train, y_test = train_test_split(\n",
    "            adata.X, adata.obs['labels'], test_size=0.2, stratify=adata.obs['labels'], shuffle=True, random_state=0)\n",
    "X_train, X_val, y_train, y_val = train_test_split(\n",
    "            X_train, y_train, test_size=0.2, stratify=y_train, shuffle=True, random_state=0)\n",
    "data = {}\n",
    "data['X_train'] = X_train\n",
    "data['y_train'] = y_train\n",
    "data['X_val'] = X_val\n",
    "data['y_val'] = y_val\n",
    "data['X_test'] = X_test\n",
    "data['y_test'] = y_test"
   ]
  },
  {
   "cell_type": "code",
   "execution_count": 22,
   "id": "94735cd2-e8ae-4849-92fb-09c5546d910a",
   "metadata": {},
   "outputs": [],
   "source": [
    "## Save the input data for GeneSys\n",
    "\n",
    "with open(\"./genesys_mouse_embryo_11_clusters_500_cells_per_state_2500_GPC_UPC_data.pkl\", 'wb') as file_handle:\n",
    "    pickle.dump(data, file_handle)"
   ]
  },
  {
   "cell_type": "code",
   "execution_count": 3,
   "id": "522c9f7c-c488-4a51-8aa8-b07588ff3131",
   "metadata": {},
   "outputs": [],
   "source": [
    "with open(\"./genesys_mouse_embryo_11_clusters_500_cells_per_state_2500_GPC_UPC_data.pkl\", 'rb') as file_handle:\n",
    "    adata = pickle.load(file_handle)"
   ]
  },
  {
   "cell_type": "markdown",
   "id": "04105162-362a-40da-a544-88b0a9512b70",
   "metadata": {},
   "source": [
    "## Check the input Data "
   ]
  },
  {
   "cell_type": "code",
   "execution_count": null,
   "id": "37fa84f6-07e6-4543-ad6f-2ee5637cfabf",
   "metadata": {},
   "outputs": [],
   "source": [
    "with open(\"./genesys_mouse_embryo_11_clusters_500_cells_per_state_2500_GPC_UPC_data.pkl\", 'rb') as file_handle:\n",
    "    adata = pickle.load(file_handle)"
   ]
  },
  {
   "cell_type": "code",
   "execution_count": 5,
   "id": "3de87ae3-4eba-4d34-ae13-03c54fceb8a1",
   "metadata": {},
   "outputs": [
    {
     "data": {
      "text/plain": [
       "(64179, 24552)"
      ]
     },
     "execution_count": 5,
     "metadata": {},
     "output_type": "execute_result"
    }
   ],
   "source": [
    "adata['X_train'].shape"
   ]
  },
  {
   "cell_type": "code",
   "execution_count": 6,
   "id": "3bd33998-8a92-4fba-9b8b-c7c0fc28005b",
   "metadata": {},
   "outputs": [
    {
     "data": {
      "text/plain": [
       "(16045, 24552)"
      ]
     },
     "execution_count": 6,
     "metadata": {},
     "output_type": "execute_result"
    }
   ],
   "source": [
    "adata['X_val'].shape"
   ]
  },
  {
   "cell_type": "code",
   "execution_count": 8,
   "id": "c8d778c8-9f68-4efe-b0e7-e3d59b410edd",
   "metadata": {},
   "outputs": [
    {
     "data": {
      "text/plain": [
       "69682049.54565285"
      ]
     },
     "execution_count": 8,
     "metadata": {},
     "output_type": "execute_result"
    }
   ],
   "source": [
    "new_nonzero = adata['X_val'][~(adata['X_val']==0)]\n",
    "\n",
    "len(adata['X_val'][~(adata['X_val']==0)]) / adata['X_val'].shape[0]*adata['X_val'].shape[1]\n"
   ]
  },
  {
   "cell_type": "code",
   "execution_count": 10,
   "id": "40b5fd1d-5a22-4e82-9c7f-cb6ee8fc7c8c",
   "metadata": {},
   "outputs": [
    {
     "data": {
      "text/plain": [
       "0.1155971601945124"
      ]
     },
     "execution_count": 10,
     "metadata": {},
     "output_type": "execute_result"
    }
   ],
   "source": [
    "len(new_nonzero)/(adata['X_val'].shape[0]*adata['X_val'].shape[1])"
   ]
  },
  {
   "cell_type": "code",
   "execution_count": 7,
   "id": "925a6913-e543-408b-a6bf-e18668ef2f62",
   "metadata": {},
   "outputs": [
    {
     "data": {
      "text/plain": [
       "(20056, 24552)"
      ]
     },
     "execution_count": 7,
     "metadata": {},
     "output_type": "execute_result"
    }
   ],
   "source": [
    "adata['X_test'].shape"
   ]
  },
  {
   "cell_type": "code",
   "execution_count": 26,
   "id": "dd1107ee-3e29-4586-91b3-abcf5c1d0fc2",
   "metadata": {},
   "outputs": [
    {
     "data": {
      "text/plain": [
       "0.01"
      ]
     },
     "execution_count": 26,
     "metadata": {},
     "output_type": "execute_result"
    }
   ],
   "source": [
    "## Percentage of data used\n",
    "round((64179+16045+20056)/11441407,2)"
   ]
  },
  {
   "cell_type": "code",
   "execution_count": 27,
   "id": "15e1845b-19c5-45fb-a975-cc4cbd20b7fa",
   "metadata": {},
   "outputs": [
    {
     "data": {
      "text/plain": [
       "labels\n",
       "5_9     640\n",
       "11_9    640\n",
       "10_3    640\n",
       "11_3    640\n",
       "6_9     640\n",
       "       ... \n",
       "15_1     22\n",
       "15_3     19\n",
       "23_2     18\n",
       "20_5     17\n",
       "21_5     14\n",
       "Name: count, Length: 218, dtype: int64"
      ]
     },
     "execution_count": 27,
     "metadata": {},
     "output_type": "execute_result"
    }
   ],
   "source": [
    "pd.Series(data['y_train']).value_counts()"
   ]
  },
  {
   "cell_type": "code",
   "execution_count": 28,
   "id": "e69eb676-ea6b-4293-93a3-fe34c55a08ce",
   "metadata": {},
   "outputs": [],
   "source": [
    "full_time_bins = np.arange(11)"
   ]
  },
  {
   "cell_type": "code",
   "execution_count": 29,
   "id": "6326bfc5-8fef-4006-b3df-ec7371e70594",
   "metadata": {},
   "outputs": [
    {
     "name": "stdout",
     "output_type": "stream",
     "text": [
      "0\n",
      "[]\n",
      "1\n",
      "[]\n",
      "2\n",
      "[]\n",
      "3\n",
      "[0, 1]\n",
      "4\n",
      "[]\n",
      "5\n",
      "[0, 1, 2]\n",
      "6\n",
      "[0]\n",
      "7\n",
      "[]\n",
      "8\n",
      "[0]\n",
      "9\n",
      "[]\n",
      "10\n",
      "[]\n",
      "11\n",
      "[]\n",
      "12\n",
      "[0, 1, 2, 3, 4, 5]\n",
      "13\n",
      "[0, 1, 2]\n",
      "14\n",
      "[0, 1, 2]\n",
      "15\n",
      "[2]\n",
      "16\n",
      "[0, 1, 2, 3, 4, 5]\n",
      "17\n",
      "[6]\n",
      "18\n",
      "[0, 1, 2]\n",
      "19\n",
      "[0, 1, 2, 3, 4, 5]\n",
      "20\n",
      "[0, 1, 2, 3]\n",
      "21\n",
      "[0, 1, 2, 3, 4]\n",
      "22\n",
      "[0]\n",
      "23\n",
      "[]\n"
     ]
    }
   ],
   "source": [
    "for i in np.arange(24):\n",
    "    print(i)\n",
    "    ct = sorted(pd.Series(np.array([i.split('_', 1)[1] for i in data['y_train']], dtype='int')[np.array([i.split('_', 1)[0] for i in data['y_train']], dtype='int')==i]).value_counts().index)\n",
    "    print([x for x in full_time_bins if x not in ct])"
   ]
  },
  {
   "cell_type": "code",
   "execution_count": 30,
   "id": "7591cb43-0490-4195-be59-f95bbf0d317d",
   "metadata": {},
   "outputs": [
    {
     "data": {
      "text/plain": [
       "labels\n",
       "7_9     160\n",
       "3_9     160\n",
       "11_3    160\n",
       "7_3     160\n",
       "10_3    160\n",
       "       ... \n",
       "15_1      5\n",
       "23_2      5\n",
       "17_5      5\n",
       "20_5      4\n",
       "21_5      4\n",
       "Name: count, Length: 218, dtype: int64"
      ]
     },
     "execution_count": 30,
     "metadata": {},
     "output_type": "execute_result"
    }
   ],
   "source": [
    "pd.Series(data['y_val']).value_counts()"
   ]
  },
  {
   "cell_type": "code",
   "execution_count": 31,
   "id": "4399f8a7-f621-4e64-af1d-7b935421ca88",
   "metadata": {},
   "outputs": [
    {
     "data": {
      "text/plain": [
       "labels\n",
       "11_3    200\n",
       "2_3     200\n",
       "10_3    200\n",
       "15_9    200\n",
       "3_9     200\n",
       "       ... \n",
       "23_1      7\n",
       "23_2      6\n",
       "15_3      6\n",
       "20_5      5\n",
       "21_5      5\n",
       "Name: count, Length: 218, dtype: int64"
      ]
     },
     "execution_count": 31,
     "metadata": {},
     "output_type": "execute_result"
    }
   ],
   "source": [
    "pd.Series(data['y_test']).value_counts()"
   ]
  }
 ],
 "metadata": {
  "kernelspec": {
   "display_name": "Python 3 (ipykernel)",
   "language": "python",
   "name": "python3"
  },
  "language_info": {
   "codemirror_mode": {
    "name": "ipython",
    "version": 3
   },
   "file_extension": ".py",
   "mimetype": "text/x-python",
   "name": "python",
   "nbconvert_exporter": "python",
   "pygments_lexer": "ipython3",
   "version": "3.8.19"
  }
 },
 "nbformat": 4,
 "nbformat_minor": 5
}
