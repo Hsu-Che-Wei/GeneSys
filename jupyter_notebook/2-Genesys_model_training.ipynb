{
 "cells": [
  {
   "cell_type": "code",
   "execution_count": 1,
   "id": "floppy-cooling",
   "metadata": {},
   "outputs": [],
   "source": [
    "import os\n",
    "\n",
    "## Set directory\n",
    "os.chdir('/hpc/group/pbenfeylab/CheWei/CW_data/genesys')\n",
    "\n",
    "from genesys_train_v1 import *\n",
    "%matplotlib inline\n",
    "%config InlineBackend.figure_format = 'retina'"
   ]
  },
  {
   "cell_type": "code",
   "execution_count": 2,
   "id": "2cb1f552-8945-41cf-9fef-b7fefda62ebd",
   "metadata": {},
   "outputs": [
    {
     "name": "stdout",
     "output_type": "stream",
     "text": [
      "1.13.0.post200\n",
      "1.9.1\n"
     ]
    }
   ],
   "source": [
    "## Conda Env pytorch-gpu on DCC\n",
    "## pytorch version\n",
    "print(torch.__version__)\n",
    "## scanpy\n",
    "print(sc.__version__) "
   ]
  },
  {
   "cell_type": "code",
   "execution_count": 3,
   "id": "descending-proportion",
   "metadata": {},
   "outputs": [],
   "source": [
    "## Genes considered/used (shared among samples) \n",
    "gene_list = pd.read_csv('./gene_list_1108.csv')"
   ]
  },
  {
   "cell_type": "markdown",
   "id": "44c06501-ce06-4d13-a50e-03c52adb4bfe",
   "metadata": {},
   "source": [
    "## Load Data"
   ]
  },
  {
   "cell_type": "code",
   "execution_count": 4,
   "id": "c49c49bf-5b06-448a-a9e6-9ab168bac14c",
   "metadata": {},
   "outputs": [],
   "source": [
    "with open(\"./genesys_root_data.pkl\", 'rb') as file_handle:\n",
    "    data = pickle.load(file_handle)\n",
    "    \n",
    "batch_size = 512\n",
    "dataset = Root_Dataset(data['X_test'], data['y_test'])\n",
    "loader = DataLoader(dataset,\n",
    "                         batch_size = batch_size,\n",
    "                         shuffle = True, drop_last=True)\n",
    "train_dataset = Root_Dataset(data['X_train'], data['y_train'])\n",
    "train_loader = DataLoader(train_dataset,\n",
    "                         batch_size = batch_size,\n",
    "                         shuffle = True, drop_last=True)\n",
    "train_dataset = Root_Dataset(data['X_val'], data['y_val'])\n",
    "val_loader = DataLoader(val_dataset,\n",
    "                         batch_size = batch_size,\n",
    "                         shuffle = True, drop_last=True)"
   ]
  },
  {
   "cell_type": "code",
   "execution_count": 5,
   "id": "manual-family",
   "metadata": {},
   "outputs": [],
   "source": [
    "criterion = torch.nn.NLLLoss()"
   ]
  },
  {
   "cell_type": "code",
   "execution_count": 6,
   "id": "photographic-tanzania",
   "metadata": {},
   "outputs": [],
   "source": [
    "input_size = data['X_train'].shape[1]\n",
    "output_size = 10\n",
    "embedding_dim = 256\n",
    "hidden_dim = 256\n",
    "n_layers = 2\n",
    "clip = 5\n",
    "path = \"./\"\n",
    "device = \"cuda\"\n",
    "n_epochs = 100\n",
    "#train_on_gpu=False"
   ]
  },
  {
   "cell_type": "code",
   "execution_count": 19,
   "id": "entire-british",
   "metadata": {},
   "outputs": [],
   "source": [
    "model = ClassifierLSTM(input_size, output_size, embedding_dim, hidden_dim, n_layers).to(device)\n",
    "optimizer = optim.AdamW(model.parameters(), lr=1e-3)\n",
    "sch = optim.lr_scheduler.ReduceLROnPlateau(optimizer, factor=0.5, patience=2, threshold=0.05, verbose=True)"
   ]
  },
  {
   "cell_type": "code",
   "execution_count": 148,
   "id": "forty-subject",
   "metadata": {
    "collapsed": true,
    "jupyter": {
     "outputs_hidden": true
    },
    "tags": []
   },
   "outputs": [
    {
     "name": "stderr",
     "output_type": "stream",
     "text": [
      "Epoch 0 Train: 3314.5052: 100%|██████████████████████████████████████████████████████████████████████████████████████| 138/138 [03:05<00:00,  1.34s/it]\n"
     ]
    },
    {
     "name": "stdout",
     "output_type": "stream",
     "text": [
      "Validation Accuracy 0.9161\n",
      "3314.5051526055813\n"
     ]
    },
    {
     "name": "stderr",
     "output_type": "stream",
     "text": [
      "Epoch 1 Train: 2292.3156: 100%|██████████████████████████████████████████████████████████████████████████████████████| 138/138 [03:09<00:00,  1.38s/it]\n"
     ]
    },
    {
     "name": "stdout",
     "output_type": "stream",
     "text": [
      "Validation Accuracy 0.9999\n",
      "2292.3156384454255\n"
     ]
    },
    {
     "name": "stderr",
     "output_type": "stream",
     "text": [
      "Epoch 2 Train: 2341.1191: 100%|██████████████████████████████████████████████████████████████████████████████████████| 138/138 [03:11<00:00,  1.39s/it]\n"
     ]
    },
    {
     "name": "stdout",
     "output_type": "stream",
     "text": [
      "Validation Accuracy 0.9999\n"
     ]
    },
    {
     "name": "stderr",
     "output_type": "stream",
     "text": [
      "Epoch 3 Train: 2344.8707: 100%|██████████████████████████████████████████████████████████████████████████████████████| 138/138 [03:11<00:00,  1.39s/it]\n"
     ]
    },
    {
     "name": "stdout",
     "output_type": "stream",
     "text": [
      "Validation Accuracy 0.9924\n"
     ]
    },
    {
     "name": "stderr",
     "output_type": "stream",
     "text": [
      "Epoch 4 Train: 2214.5567: 100%|██████████████████████████████████████████████████████████████████████████████████████| 138/138 [03:12<00:00,  1.40s/it]\n"
     ]
    },
    {
     "name": "stdout",
     "output_type": "stream",
     "text": [
      "Epoch     5: reducing learning rate of group 0 to 5.0000e-04.\n",
      "Validation Accuracy 0.9966\n"
     ]
    },
    {
     "name": "stderr",
     "output_type": "stream",
     "text": [
      "Epoch 5 Train: 2238.2847: 100%|██████████████████████████████████████████████████████████████████████████████████████| 138/138 [03:12<00:00,  1.39s/it]\n"
     ]
    },
    {
     "name": "stdout",
     "output_type": "stream",
     "text": [
      "Validation Accuracy 0.9994\n"
     ]
    },
    {
     "name": "stderr",
     "output_type": "stream",
     "text": [
      "Epoch 6 Train: 2179.5512: 100%|██████████████████████████████████████████████████████████████████████████████████████| 138/138 [03:11<00:00,  1.39s/it]\n"
     ]
    },
    {
     "name": "stdout",
     "output_type": "stream",
     "text": [
      "Validation Accuracy 0.9984\n"
     ]
    },
    {
     "name": "stderr",
     "output_type": "stream",
     "text": [
      "Epoch 7 Train: 2104.6211: 100%|██████████████████████████████████████████████████████████████████████████████████████| 138/138 [03:11<00:00,  1.39s/it]\n"
     ]
    },
    {
     "name": "stdout",
     "output_type": "stream",
     "text": [
      "Validation Accuracy 0.9990\n"
     ]
    },
    {
     "name": "stderr",
     "output_type": "stream",
     "text": [
      "Epoch 8 Train: 2119.0085: 100%|██████████████████████████████████████████████████████████████████████████████████████| 138/138 [03:09<00:00,  1.38s/it]\n"
     ]
    },
    {
     "name": "stdout",
     "output_type": "stream",
     "text": [
      "Validation Accuracy 0.9999\n",
      "2119.0084732719088\n"
     ]
    },
    {
     "name": "stderr",
     "output_type": "stream",
     "text": [
      "Epoch 9 Train: 2058.1529: 100%|██████████████████████████████████████████████████████████████████████████████████████| 138/138 [03:09<00:00,  1.37s/it]\n"
     ]
    },
    {
     "name": "stdout",
     "output_type": "stream",
     "text": [
      "Validation Accuracy 0.9995\n"
     ]
    },
    {
     "name": "stderr",
     "output_type": "stream",
     "text": [
      "Epoch 10 Train: 2051.442: 100%|██████████████████████████████████████████████████████████████████████████████████████| 138/138 [03:12<00:00,  1.39s/it]\n"
     ]
    },
    {
     "name": "stdout",
     "output_type": "stream",
     "text": [
      "Epoch    11: reducing learning rate of group 0 to 2.5000e-04.\n",
      "Validation Accuracy 0.9995\n"
     ]
    },
    {
     "name": "stderr",
     "output_type": "stream",
     "text": [
      "Epoch 11 Train: 2066.3491: 100%|█████████████████████████████████████████████████████████████████████████████████████| 138/138 [03:09<00:00,  1.37s/it]\n"
     ]
    },
    {
     "name": "stdout",
     "output_type": "stream",
     "text": [
      "Validation Accuracy 0.9998\n"
     ]
    },
    {
     "name": "stderr",
     "output_type": "stream",
     "text": [
      "Epoch 12 Train: 2009.7977: 100%|█████████████████████████████████████████████████████████████████████████████████████| 138/138 [03:10<00:00,  1.38s/it]\n"
     ]
    },
    {
     "name": "stdout",
     "output_type": "stream",
     "text": [
      "Validation Accuracy 1.0000\n",
      "2009.7976923403533\n"
     ]
    },
    {
     "name": "stderr",
     "output_type": "stream",
     "text": [
      "Epoch 13 Train: 2043.4564: 100%|█████████████████████████████████████████████████████████████████████████████████████| 138/138 [03:09<00:00,  1.38s/it]\n"
     ]
    },
    {
     "name": "stdout",
     "output_type": "stream",
     "text": [
      "Epoch    14: reducing learning rate of group 0 to 1.2500e-04.\n",
      "Validation Accuracy 0.9998\n"
     ]
    },
    {
     "name": "stderr",
     "output_type": "stream",
     "text": [
      "Epoch 14 Train: 1998.1771: 100%|█████████████████████████████████████████████████████████████████████████████████████| 138/138 [03:09<00:00,  1.37s/it]\n"
     ]
    },
    {
     "name": "stdout",
     "output_type": "stream",
     "text": [
      "Validation Accuracy 0.9998\n"
     ]
    },
    {
     "name": "stderr",
     "output_type": "stream",
     "text": [
      "Epoch 15 Train: 2033.6759: 100%|█████████████████████████████████████████████████████████████████████████████████████| 138/138 [03:09<00:00,  1.37s/it]\n"
     ]
    },
    {
     "name": "stdout",
     "output_type": "stream",
     "text": [
      "Validation Accuracy 1.0000\n"
     ]
    },
    {
     "name": "stderr",
     "output_type": "stream",
     "text": [
      "Epoch 16 Train: 2015.7341: 100%|█████████████████████████████████████████████████████████████████████████████████████| 138/138 [03:09<00:00,  1.37s/it]\n"
     ]
    },
    {
     "name": "stdout",
     "output_type": "stream",
     "text": [
      "Validation Accuracy 0.9999\n"
     ]
    },
    {
     "name": "stderr",
     "output_type": "stream",
     "text": [
      "Epoch 17 Train: 2030.7993: 100%|█████████████████████████████████████████████████████████████████████████████████████| 138/138 [03:09<00:00,  1.37s/it]\n"
     ]
    },
    {
     "name": "stdout",
     "output_type": "stream",
     "text": [
      "Epoch    18: reducing learning rate of group 0 to 6.2500e-05.\n",
      "Validation Accuracy 1.0000\n"
     ]
    },
    {
     "name": "stderr",
     "output_type": "stream",
     "text": [
      "Epoch 18 Train: 2016.5007: 100%|█████████████████████████████████████████████████████████████████████████████████████| 138/138 [03:08<00:00,  1.37s/it]\n"
     ]
    },
    {
     "name": "stdout",
     "output_type": "stream",
     "text": [
      "Validation Accuracy 0.9999\n"
     ]
    },
    {
     "name": "stderr",
     "output_type": "stream",
     "text": [
      "Epoch 19 Train: 2011.9195: 100%|█████████████████████████████████████████████████████████████████████████████████████| 138/138 [03:09<00:00,  1.37s/it]\n"
     ]
    },
    {
     "name": "stdout",
     "output_type": "stream",
     "text": [
      "Validation Accuracy 0.9999\n"
     ]
    },
    {
     "name": "stderr",
     "output_type": "stream",
     "text": [
      "Epoch 20 Train: 2010.172: 100%|██████████████████████████████████████████████████████████████████████████████████████| 138/138 [03:10<00:00,  1.38s/it]\n"
     ]
    },
    {
     "name": "stdout",
     "output_type": "stream",
     "text": [
      "Epoch    21: reducing learning rate of group 0 to 3.1250e-05.\n",
      "Validation Accuracy 0.9998\n"
     ]
    },
    {
     "name": "stderr",
     "output_type": "stream",
     "text": [
      "Epoch 21 Train: 2022.9972: 100%|█████████████████████████████████████████████████████████████████████████████████████| 138/138 [03:09<00:00,  1.37s/it]\n"
     ]
    },
    {
     "name": "stdout",
     "output_type": "stream",
     "text": [
      "Validation Accuracy 0.9999\n"
     ]
    },
    {
     "name": "stderr",
     "output_type": "stream",
     "text": [
      "Epoch 22 Train: 2002.2566: 100%|█████████████████████████████████████████████████████████████████████████████████████| 138/138 [03:08<00:00,  1.37s/it]\n"
     ]
    },
    {
     "name": "stdout",
     "output_type": "stream",
     "text": [
      "Validation Accuracy 0.9999\n"
     ]
    },
    {
     "name": "stderr",
     "output_type": "stream",
     "text": [
      "Epoch 23 Train: 2009.2218: 100%|█████████████████████████████████████████████████████████████████████████████████████| 138/138 [03:08<00:00,  1.37s/it]\n"
     ]
    },
    {
     "name": "stdout",
     "output_type": "stream",
     "text": [
      "Epoch    24: reducing learning rate of group 0 to 1.5625e-05.\n",
      "Validation Accuracy 0.9998\n"
     ]
    },
    {
     "name": "stderr",
     "output_type": "stream",
     "text": [
      "Epoch 24 Train: 1989.9607: 100%|█████████████████████████████████████████████████████████████████████████████████████| 138/138 [03:09<00:00,  1.37s/it]\n"
     ]
    },
    {
     "name": "stdout",
     "output_type": "stream",
     "text": [
      "Validation Accuracy 0.9999\n"
     ]
    },
    {
     "name": "stderr",
     "output_type": "stream",
     "text": [
      "Epoch 25 Train: 2005.9423: 100%|█████████████████████████████████████████████████████████████████████████████████████| 138/138 [03:08<00:00,  1.37s/it]\n"
     ]
    },
    {
     "name": "stdout",
     "output_type": "stream",
     "text": [
      "Validation Accuracy 0.9999\n"
     ]
    },
    {
     "name": "stderr",
     "output_type": "stream",
     "text": [
      "Epoch 26 Train: 2018.6455: 100%|█████████████████████████████████████████████████████████████████████████████████████| 138/138 [03:09<00:00,  1.37s/it]\n"
     ]
    },
    {
     "name": "stdout",
     "output_type": "stream",
     "text": [
      "Epoch    27: reducing learning rate of group 0 to 7.8125e-06.\n",
      "Validation Accuracy 0.9999\n"
     ]
    },
    {
     "name": "stderr",
     "output_type": "stream",
     "text": [
      "Epoch 27 Train: 2038.6604: 100%|█████████████████████████████████████████████████████████████████████████████████████| 138/138 [03:09<00:00,  1.37s/it]\n"
     ]
    },
    {
     "name": "stdout",
     "output_type": "stream",
     "text": [
      "Validation Accuracy 0.9999\n"
     ]
    },
    {
     "name": "stderr",
     "output_type": "stream",
     "text": [
      "Epoch 28 Train: 1994.3399: 100%|█████████████████████████████████████████████████████████████████████████████████████| 138/138 [03:09<00:00,  1.37s/it]\n"
     ]
    },
    {
     "name": "stdout",
     "output_type": "stream",
     "text": [
      "Validation Accuracy 0.9999\n"
     ]
    },
    {
     "name": "stderr",
     "output_type": "stream",
     "text": [
      "Epoch 29 Train: 2009.1862: 100%|█████████████████████████████████████████████████████████████████████████████████████| 138/138 [03:09<00:00,  1.38s/it]\n"
     ]
    },
    {
     "name": "stdout",
     "output_type": "stream",
     "text": [
      "Epoch    30: reducing learning rate of group 0 to 3.9063e-06.\n",
      "Validation Accuracy 0.9999\n"
     ]
    },
    {
     "name": "stderr",
     "output_type": "stream",
     "text": [
      "Epoch 30 Train: 1999.1496: 100%|█████████████████████████████████████████████████████████████████████████████████████| 138/138 [03:09<00:00,  1.37s/it]\n"
     ]
    },
    {
     "name": "stdout",
     "output_type": "stream",
     "text": [
      "Validation Accuracy 0.9998\n"
     ]
    },
    {
     "name": "stderr",
     "output_type": "stream",
     "text": [
      "Epoch 31 Train: 1995.5756: 100%|█████████████████████████████████████████████████████████████████████████████████████| 138/138 [03:09<00:00,  1.37s/it]\n"
     ]
    },
    {
     "name": "stdout",
     "output_type": "stream",
     "text": [
      "Validation Accuracy 0.9998\n"
     ]
    },
    {
     "name": "stderr",
     "output_type": "stream",
     "text": [
      "Epoch 32 Train: 1986.9711: 100%|█████████████████████████████████████████████████████████████████████████████████████| 138/138 [03:09<00:00,  1.37s/it]\n"
     ]
    },
    {
     "name": "stdout",
     "output_type": "stream",
     "text": [
      "Epoch    33: reducing learning rate of group 0 to 1.9531e-06.\n",
      "Validation Accuracy 0.9998\n"
     ]
    },
    {
     "name": "stderr",
     "output_type": "stream",
     "text": [
      "Epoch 33 Train: 2029.6953: 100%|█████████████████████████████████████████████████████████████████████████████████████| 138/138 [03:09<00:00,  1.37s/it]\n"
     ]
    },
    {
     "name": "stdout",
     "output_type": "stream",
     "text": [
      "Validation Accuracy 0.9997\n"
     ]
    },
    {
     "name": "stderr",
     "output_type": "stream",
     "text": [
      "Epoch 34 Train: 2047.0655: 100%|█████████████████████████████████████████████████████████████████████████████████████| 138/138 [03:09<00:00,  1.37s/it]\n"
     ]
    },
    {
     "name": "stdout",
     "output_type": "stream",
     "text": [
      "Validation Accuracy 0.9997\n"
     ]
    },
    {
     "name": "stderr",
     "output_type": "stream",
     "text": [
      "Epoch 35 Train: 1999.9151: 100%|█████████████████████████████████████████████████████████████████████████████████████| 138/138 [03:09<00:00,  1.37s/it]\n"
     ]
    },
    {
     "name": "stdout",
     "output_type": "stream",
     "text": [
      "Epoch    36: reducing learning rate of group 0 to 9.7656e-07.\n",
      "Validation Accuracy 0.9999\n"
     ]
    },
    {
     "name": "stderr",
     "output_type": "stream",
     "text": [
      "Epoch 36 Train: 2020.4895: 100%|█████████████████████████████████████████████████████████████████████████████████████| 138/138 [03:08<00:00,  1.37s/it]\n"
     ]
    },
    {
     "name": "stdout",
     "output_type": "stream",
     "text": [
      "Validation Accuracy 0.9999\n"
     ]
    },
    {
     "name": "stderr",
     "output_type": "stream",
     "text": [
      "Epoch 37 Train: 1986.9918: 100%|█████████████████████████████████████████████████████████████████████████████████████| 138/138 [03:08<00:00,  1.36s/it]\n"
     ]
    },
    {
     "name": "stdout",
     "output_type": "stream",
     "text": [
      "Validation Accuracy 0.9997\n"
     ]
    },
    {
     "name": "stderr",
     "output_type": "stream",
     "text": [
      "Epoch 38 Train: 2033.5894: 100%|█████████████████████████████████████████████████████████████████████████████████████| 138/138 [03:09<00:00,  1.37s/it]\n"
     ]
    },
    {
     "name": "stdout",
     "output_type": "stream",
     "text": [
      "Epoch    39: reducing learning rate of group 0 to 4.8828e-07.\n",
      "Validation Accuracy 0.9997\n"
     ]
    },
    {
     "name": "stderr",
     "output_type": "stream",
     "text": [
      "Epoch 39 Train: 2006.9437: 100%|█████████████████████████████████████████████████████████████████████████████████████| 138/138 [03:08<00:00,  1.37s/it]\n"
     ]
    },
    {
     "name": "stdout",
     "output_type": "stream",
     "text": [
      "Validation Accuracy 0.9999\n"
     ]
    },
    {
     "name": "stderr",
     "output_type": "stream",
     "text": [
      "Epoch 40 Train: 2048.6436: 100%|█████████████████████████████████████████████████████████████████████████████████████| 138/138 [03:09<00:00,  1.37s/it]\n"
     ]
    },
    {
     "name": "stdout",
     "output_type": "stream",
     "text": [
      "Validation Accuracy 0.9997\n"
     ]
    },
    {
     "name": "stderr",
     "output_type": "stream",
     "text": [
      "Epoch 41 Train: 2019.4669: 100%|█████████████████████████████████████████████████████████████████████████████████████| 138/138 [03:09<00:00,  1.37s/it]\n"
     ]
    },
    {
     "name": "stdout",
     "output_type": "stream",
     "text": [
      "Epoch    42: reducing learning rate of group 0 to 2.4414e-07.\n",
      "Validation Accuracy 0.9999\n"
     ]
    },
    {
     "name": "stderr",
     "output_type": "stream",
     "text": [
      "Epoch 42 Train: 2006.9797: 100%|█████████████████████████████████████████████████████████████████████████████████████| 138/138 [03:08<00:00,  1.36s/it]\n"
     ]
    },
    {
     "name": "stdout",
     "output_type": "stream",
     "text": [
      "Validation Accuracy 0.9999\n"
     ]
    },
    {
     "name": "stderr",
     "output_type": "stream",
     "text": [
      "Epoch 43 Train: 2015.6297: 100%|█████████████████████████████████████████████████████████████████████████████████████| 138/138 [03:10<00:00,  1.38s/it]\n"
     ]
    },
    {
     "name": "stdout",
     "output_type": "stream",
     "text": [
      "Validation Accuracy 0.9998\n"
     ]
    },
    {
     "name": "stderr",
     "output_type": "stream",
     "text": [
      "Epoch 44 Train: 2005.1659: 100%|█████████████████████████████████████████████████████████████████████████████████████| 138/138 [03:09<00:00,  1.37s/it]\n"
     ]
    },
    {
     "name": "stdout",
     "output_type": "stream",
     "text": [
      "Epoch    45: reducing learning rate of group 0 to 1.2207e-07.\n",
      "Validation Accuracy 0.9998\n"
     ]
    },
    {
     "name": "stderr",
     "output_type": "stream",
     "text": [
      "Epoch 45 Train: 1993.0082: 100%|█████████████████████████████████████████████████████████████████████████████████████| 138/138 [03:08<00:00,  1.37s/it]\n"
     ]
    },
    {
     "name": "stdout",
     "output_type": "stream",
     "text": [
      "Validation Accuracy 0.9998\n"
     ]
    },
    {
     "name": "stderr",
     "output_type": "stream",
     "text": [
      "Epoch 46 Train: 1999.6393: 100%|█████████████████████████████████████████████████████████████████████████████████████| 138/138 [03:08<00:00,  1.37s/it]\n"
     ]
    },
    {
     "name": "stdout",
     "output_type": "stream",
     "text": [
      "Validation Accuracy 0.9998\n"
     ]
    },
    {
     "name": "stderr",
     "output_type": "stream",
     "text": [
      "Epoch 47 Train: 2047.8115: 100%|█████████████████████████████████████████████████████████████████████████████████████| 138/138 [03:09<00:00,  1.37s/it]\n"
     ]
    },
    {
     "name": "stdout",
     "output_type": "stream",
     "text": [
      "Epoch    48: reducing learning rate of group 0 to 6.1035e-08.\n",
      "Validation Accuracy 0.9999\n"
     ]
    },
    {
     "name": "stderr",
     "output_type": "stream",
     "text": [
      "Epoch 48 Train: 1947.1164: 100%|█████████████████████████████████████████████████████████████████████████████████████| 138/138 [03:10<00:00,  1.38s/it]\n"
     ]
    },
    {
     "name": "stdout",
     "output_type": "stream",
     "text": [
      "Validation Accuracy 0.9997\n"
     ]
    },
    {
     "name": "stderr",
     "output_type": "stream",
     "text": [
      "Epoch 49 Train: 1996.9354: 100%|█████████████████████████████████████████████████████████████████████████████████████| 138/138 [03:08<00:00,  1.37s/it]\n"
     ]
    },
    {
     "name": "stdout",
     "output_type": "stream",
     "text": [
      "Validation Accuracy 0.9999\n"
     ]
    },
    {
     "name": "stderr",
     "output_type": "stream",
     "text": [
      "Epoch 50 Train: 1982.1756: 100%|█████████████████████████████████████████████████████████████████████████████████████| 138/138 [03:08<00:00,  1.37s/it]\n"
     ]
    },
    {
     "name": "stdout",
     "output_type": "stream",
     "text": [
      "Epoch    51: reducing learning rate of group 0 to 3.0518e-08.\n",
      "Validation Accuracy 0.9999\n"
     ]
    },
    {
     "name": "stderr",
     "output_type": "stream",
     "text": [
      "Epoch 51 Train: 2006.24: 100%|███████████████████████████████████████████████████████████████████████████████████████| 138/138 [03:09<00:00,  1.37s/it]\n"
     ]
    },
    {
     "name": "stdout",
     "output_type": "stream",
     "text": [
      "Validation Accuracy 0.9998\n"
     ]
    },
    {
     "name": "stderr",
     "output_type": "stream",
     "text": [
      "Epoch 52 Train: 2000.8446: 100%|█████████████████████████████████████████████████████████████████████████████████████| 138/138 [03:09<00:00,  1.37s/it]\n"
     ]
    },
    {
     "name": "stdout",
     "output_type": "stream",
     "text": [
      "Validation Accuracy 0.9999\n"
     ]
    },
    {
     "name": "stderr",
     "output_type": "stream",
     "text": [
      "Epoch 53 Train: 2046.0405: 100%|█████████████████████████████████████████████████████████████████████████████████████| 138/138 [03:09<00:00,  1.37s/it]\n"
     ]
    },
    {
     "name": "stdout",
     "output_type": "stream",
     "text": [
      "Epoch    54: reducing learning rate of group 0 to 1.5259e-08.\n",
      "Validation Accuracy 0.9997\n"
     ]
    },
    {
     "name": "stderr",
     "output_type": "stream",
     "text": [
      "Epoch 54 Train: 2031.7953: 100%|█████████████████████████████████████████████████████████████████████████████████████| 138/138 [03:08<00:00,  1.37s/it]\n"
     ]
    },
    {
     "name": "stdout",
     "output_type": "stream",
     "text": [
      "Validation Accuracy 0.9998\n"
     ]
    },
    {
     "name": "stderr",
     "output_type": "stream",
     "text": [
      "Epoch 55 Train: 2001.0565: 100%|█████████████████████████████████████████████████████████████████████████████████████| 138/138 [03:08<00:00,  1.37s/it]\n"
     ]
    },
    {
     "name": "stdout",
     "output_type": "stream",
     "text": [
      "Validation Accuracy 0.9999\n"
     ]
    },
    {
     "name": "stderr",
     "output_type": "stream",
     "text": [
      "Epoch 56 Train: 2014.3131: 100%|█████████████████████████████████████████████████████████████████████████████████████| 138/138 [03:08<00:00,  1.36s/it]\n"
     ]
    },
    {
     "name": "stdout",
     "output_type": "stream",
     "text": [
      "Validation Accuracy 0.9998\n"
     ]
    },
    {
     "name": "stderr",
     "output_type": "stream",
     "text": [
      "Epoch 57 Train: 2003.8534: 100%|█████████████████████████████████████████████████████████████████████████████████████| 138/138 [03:08<00:00,  1.37s/it]\n"
     ]
    },
    {
     "name": "stdout",
     "output_type": "stream",
     "text": [
      "Validation Accuracy 0.9999\n"
     ]
    },
    {
     "name": "stderr",
     "output_type": "stream",
     "text": [
      "Epoch 58 Train: 2036.162: 100%|██████████████████████████████████████████████████████████████████████████████████████| 138/138 [03:09<00:00,  1.37s/it]\n"
     ]
    },
    {
     "name": "stdout",
     "output_type": "stream",
     "text": [
      "Validation Accuracy 0.9997\n"
     ]
    },
    {
     "name": "stderr",
     "output_type": "stream",
     "text": [
      "Epoch 59 Train: 1993.4584: 100%|█████████████████████████████████████████████████████████████████████████████████████| 138/138 [03:08<00:00,  1.37s/it]\n"
     ]
    },
    {
     "name": "stdout",
     "output_type": "stream",
     "text": [
      "Validation Accuracy 0.9999\n"
     ]
    },
    {
     "name": "stderr",
     "output_type": "stream",
     "text": [
      "Epoch 60 Train: 2044.7988: 100%|█████████████████████████████████████████████████████████████████████████████████████| 138/138 [03:08<00:00,  1.37s/it]\n"
     ]
    },
    {
     "name": "stdout",
     "output_type": "stream",
     "text": [
      "Validation Accuracy 1.0000\n"
     ]
    },
    {
     "name": "stderr",
     "output_type": "stream",
     "text": [
      "Epoch 61 Train: 2043.8201: 100%|█████████████████████████████████████████████████████████████████████████████████████| 138/138 [03:08<00:00,  1.37s/it]\n"
     ]
    },
    {
     "name": "stdout",
     "output_type": "stream",
     "text": [
      "Validation Accuracy 0.9999\n"
     ]
    },
    {
     "name": "stderr",
     "output_type": "stream",
     "text": [
      "Epoch 62 Train: 2003.9131: 100%|█████████████████████████████████████████████████████████████████████████████████████| 138/138 [03:09<00:00,  1.37s/it]\n"
     ]
    },
    {
     "name": "stdout",
     "output_type": "stream",
     "text": [
      "Validation Accuracy 0.9998\n"
     ]
    },
    {
     "name": "stderr",
     "output_type": "stream",
     "text": [
      "Epoch 63 Train: 2036.8262: 100%|█████████████████████████████████████████████████████████████████████████████████████| 138/138 [03:08<00:00,  1.37s/it]\n"
     ]
    },
    {
     "name": "stdout",
     "output_type": "stream",
     "text": [
      "Validation Accuracy 0.9999\n"
     ]
    },
    {
     "name": "stderr",
     "output_type": "stream",
     "text": [
      "Epoch 64 Train: 2040.2852: 100%|█████████████████████████████████████████████████████████████████████████████████████| 138/138 [03:08<00:00,  1.37s/it]\n"
     ]
    },
    {
     "name": "stdout",
     "output_type": "stream",
     "text": [
      "Validation Accuracy 0.9997\n"
     ]
    },
    {
     "name": "stderr",
     "output_type": "stream",
     "text": [
      "Epoch 65 Train: 2041.7522: 100%|█████████████████████████████████████████████████████████████████████████████████████| 138/138 [03:08<00:00,  1.37s/it]\n"
     ]
    },
    {
     "name": "stdout",
     "output_type": "stream",
     "text": [
      "Validation Accuracy 0.9998\n"
     ]
    },
    {
     "name": "stderr",
     "output_type": "stream",
     "text": [
      "Epoch 66 Train: 2034.5991: 100%|█████████████████████████████████████████████████████████████████████████████████████| 138/138 [03:08<00:00,  1.37s/it]\n"
     ]
    },
    {
     "name": "stdout",
     "output_type": "stream",
     "text": [
      "Validation Accuracy 0.9999\n"
     ]
    },
    {
     "name": "stderr",
     "output_type": "stream",
     "text": [
      "Epoch 67 Train: 2000.1005: 100%|█████████████████████████████████████████████████████████████████████████████████████| 138/138 [03:09<00:00,  1.37s/it]\n"
     ]
    },
    {
     "name": "stdout",
     "output_type": "stream",
     "text": [
      "Validation Accuracy 0.9999\n"
     ]
    },
    {
     "name": "stderr",
     "output_type": "stream",
     "text": [
      "Epoch 68 Train: 1989.6163: 100%|█████████████████████████████████████████████████████████████████████████████████████| 138/138 [03:09<00:00,  1.37s/it]\n"
     ]
    },
    {
     "name": "stdout",
     "output_type": "stream",
     "text": [
      "Validation Accuracy 0.9999\n"
     ]
    },
    {
     "name": "stderr",
     "output_type": "stream",
     "text": [
      "Epoch 69 Train: 2034.105: 100%|██████████████████████████████████████████████████████████████████████████████████████| 138/138 [03:08<00:00,  1.37s/it]\n"
     ]
    },
    {
     "name": "stdout",
     "output_type": "stream",
     "text": [
      "Validation Accuracy 0.9999\n"
     ]
    },
    {
     "name": "stderr",
     "output_type": "stream",
     "text": [
      "Epoch 70 Train: 1995.9265: 100%|█████████████████████████████████████████████████████████████████████████████████████| 138/138 [03:08<00:00,  1.37s/it]\n"
     ]
    },
    {
     "name": "stdout",
     "output_type": "stream",
     "text": [
      "Validation Accuracy 0.9998\n"
     ]
    },
    {
     "name": "stderr",
     "output_type": "stream",
     "text": [
      "Epoch 71 Train: 2035.6377: 100%|█████████████████████████████████████████████████████████████████████████████████████| 138/138 [03:08<00:00,  1.37s/it]\n"
     ]
    },
    {
     "name": "stdout",
     "output_type": "stream",
     "text": [
      "Validation Accuracy 0.9998\n"
     ]
    },
    {
     "name": "stderr",
     "output_type": "stream",
     "text": [
      "Epoch 72 Train: 1965.1608: 100%|█████████████████████████████████████████████████████████████████████████████████████| 138/138 [03:08<00:00,  1.37s/it]\n"
     ]
    },
    {
     "name": "stdout",
     "output_type": "stream",
     "text": [
      "Validation Accuracy 0.9998\n"
     ]
    },
    {
     "name": "stderr",
     "output_type": "stream",
     "text": [
      "Epoch 73 Train: 1991.3623: 100%|█████████████████████████████████████████████████████████████████████████████████████| 138/138 [03:09<00:00,  1.37s/it]\n"
     ]
    },
    {
     "name": "stdout",
     "output_type": "stream",
     "text": [
      "Validation Accuracy 0.9998\n"
     ]
    },
    {
     "name": "stderr",
     "output_type": "stream",
     "text": [
      "Epoch 74 Train: 1983.6324: 100%|█████████████████████████████████████████████████████████████████████████████████████| 138/138 [03:09<00:00,  1.37s/it]\n"
     ]
    },
    {
     "name": "stdout",
     "output_type": "stream",
     "text": [
      "Validation Accuracy 0.9999\n"
     ]
    },
    {
     "name": "stderr",
     "output_type": "stream",
     "text": [
      "Epoch 75 Train: 2009.1951: 100%|█████████████████████████████████████████████████████████████████████████████████████| 138/138 [03:09<00:00,  1.37s/it]\n"
     ]
    },
    {
     "name": "stdout",
     "output_type": "stream",
     "text": [
      "Validation Accuracy 0.9998\n"
     ]
    },
    {
     "name": "stderr",
     "output_type": "stream",
     "text": [
      "Epoch 76 Train: 2030.1069: 100%|█████████████████████████████████████████████████████████████████████████████████████| 138/138 [03:09<00:00,  1.38s/it]\n"
     ]
    },
    {
     "name": "stdout",
     "output_type": "stream",
     "text": [
      "Validation Accuracy 1.0000\n"
     ]
    },
    {
     "name": "stderr",
     "output_type": "stream",
     "text": [
      "Epoch 77 Train: 2026.3237: 100%|█████████████████████████████████████████████████████████████████████████████████████| 138/138 [03:08<00:00,  1.36s/it]\n"
     ]
    },
    {
     "name": "stdout",
     "output_type": "stream",
     "text": [
      "Validation Accuracy 0.9999\n"
     ]
    },
    {
     "name": "stderr",
     "output_type": "stream",
     "text": [
      "Epoch 78 Train: 1999.8524: 100%|█████████████████████████████████████████████████████████████████████████████████████| 138/138 [03:09<00:00,  1.37s/it]\n"
     ]
    },
    {
     "name": "stdout",
     "output_type": "stream",
     "text": [
      "Validation Accuracy 0.9998\n"
     ]
    },
    {
     "name": "stderr",
     "output_type": "stream",
     "text": [
      "Epoch 79 Train: 1968.1006: 100%|█████████████████████████████████████████████████████████████████████████████████████| 138/138 [03:09<00:00,  1.37s/it]\n"
     ]
    },
    {
     "name": "stdout",
     "output_type": "stream",
     "text": [
      "Validation Accuracy 0.9998\n"
     ]
    },
    {
     "name": "stderr",
     "output_type": "stream",
     "text": [
      "Epoch 80 Train: 2038.0531: 100%|█████████████████████████████████████████████████████████████████████████████████████| 138/138 [03:09<00:00,  1.37s/it]\n"
     ]
    },
    {
     "name": "stdout",
     "output_type": "stream",
     "text": [
      "Validation Accuracy 0.9997\n"
     ]
    },
    {
     "name": "stderr",
     "output_type": "stream",
     "text": [
      "Epoch 81 Train: 2030.3986: 100%|█████████████████████████████████████████████████████████████████████████████████████| 138/138 [03:08<00:00,  1.37s/it]\n"
     ]
    },
    {
     "name": "stdout",
     "output_type": "stream",
     "text": [
      "Validation Accuracy 0.9998\n"
     ]
    },
    {
     "name": "stderr",
     "output_type": "stream",
     "text": [
      "Epoch 82 Train: 2010.9403: 100%|█████████████████████████████████████████████████████████████████████████████████████| 138/138 [03:08<00:00,  1.37s/it]\n"
     ]
    },
    {
     "name": "stdout",
     "output_type": "stream",
     "text": [
      "Validation Accuracy 0.9999\n"
     ]
    },
    {
     "name": "stderr",
     "output_type": "stream",
     "text": [
      "Epoch 83 Train: 2033.3958: 100%|█████████████████████████████████████████████████████████████████████████████████████| 138/138 [03:09<00:00,  1.37s/it]\n"
     ]
    },
    {
     "name": "stdout",
     "output_type": "stream",
     "text": [
      "Validation Accuracy 0.9999\n"
     ]
    },
    {
     "name": "stderr",
     "output_type": "stream",
     "text": [
      "Epoch 84 Train: 2009.0943: 100%|█████████████████████████████████████████████████████████████████████████████████████| 138/138 [03:09<00:00,  1.37s/it]\n"
     ]
    },
    {
     "name": "stdout",
     "output_type": "stream",
     "text": [
      "Validation Accuracy 0.9999\n"
     ]
    },
    {
     "name": "stderr",
     "output_type": "stream",
     "text": [
      "Epoch 85 Train: 2003.8331: 100%|█████████████████████████████████████████████████████████████████████████████████████| 138/138 [03:08<00:00,  1.37s/it]\n"
     ]
    },
    {
     "name": "stdout",
     "output_type": "stream",
     "text": [
      "Validation Accuracy 0.9998\n"
     ]
    },
    {
     "name": "stderr",
     "output_type": "stream",
     "text": [
      "Epoch 86 Train: 2013.7665: 100%|█████████████████████████████████████████████████████████████████████████████████████| 138/138 [03:09<00:00,  1.37s/it]\n"
     ]
    },
    {
     "name": "stdout",
     "output_type": "stream",
     "text": [
      "Validation Accuracy 0.9998\n"
     ]
    },
    {
     "name": "stderr",
     "output_type": "stream",
     "text": [
      "Epoch 87 Train: 1994.8134: 100%|█████████████████████████████████████████████████████████████████████████████████████| 138/138 [03:08<00:00,  1.36s/it]\n"
     ]
    },
    {
     "name": "stdout",
     "output_type": "stream",
     "text": [
      "Validation Accuracy 1.0000\n",
      "1994.8134296804235\n"
     ]
    },
    {
     "name": "stderr",
     "output_type": "stream",
     "text": [
      "Epoch 88 Train: 2002.3531: 100%|█████████████████████████████████████████████████████████████████████████████████████| 138/138 [03:10<00:00,  1.38s/it]\n"
     ]
    },
    {
     "name": "stdout",
     "output_type": "stream",
     "text": [
      "Validation Accuracy 0.9999\n"
     ]
    },
    {
     "name": "stderr",
     "output_type": "stream",
     "text": [
      "Epoch 89 Train: 1977.3729: 100%|█████████████████████████████████████████████████████████████████████████████████████| 138/138 [03:08<00:00,  1.37s/it]\n"
     ]
    },
    {
     "name": "stdout",
     "output_type": "stream",
     "text": [
      "Validation Accuracy 0.9999\n"
     ]
    },
    {
     "name": "stderr",
     "output_type": "stream",
     "text": [
      "Epoch 90 Train: 2025.919: 100%|██████████████████████████████████████████████████████████████████████████████████████| 138/138 [03:09<00:00,  1.37s/it]\n"
     ]
    },
    {
     "name": "stdout",
     "output_type": "stream",
     "text": [
      "Validation Accuracy 0.9999\n"
     ]
    },
    {
     "name": "stderr",
     "output_type": "stream",
     "text": [
      "Epoch 91 Train: 2008.9809: 100%|█████████████████████████████████████████████████████████████████████████████████████| 138/138 [03:08<00:00,  1.37s/it]\n"
     ]
    },
    {
     "name": "stdout",
     "output_type": "stream",
     "text": [
      "Validation Accuracy 0.9998\n"
     ]
    },
    {
     "name": "stderr",
     "output_type": "stream",
     "text": [
      "Epoch 92 Train: 2008.3437: 100%|█████████████████████████████████████████████████████████████████████████████████████| 138/138 [03:09<00:00,  1.37s/it]\n"
     ]
    },
    {
     "name": "stdout",
     "output_type": "stream",
     "text": [
      "Validation Accuracy 0.9999\n"
     ]
    },
    {
     "name": "stderr",
     "output_type": "stream",
     "text": [
      "Epoch 93 Train: 2018.9637: 100%|█████████████████████████████████████████████████████████████████████████████████████| 138/138 [03:08<00:00,  1.37s/it]\n"
     ]
    },
    {
     "name": "stdout",
     "output_type": "stream",
     "text": [
      "Validation Accuracy 0.9999\n"
     ]
    },
    {
     "name": "stderr",
     "output_type": "stream",
     "text": [
      "Epoch 94 Train: 2028.1659: 100%|█████████████████████████████████████████████████████████████████████████████████████| 138/138 [03:09<00:00,  1.37s/it]\n"
     ]
    },
    {
     "name": "stdout",
     "output_type": "stream",
     "text": [
      "Validation Accuracy 0.9998\n"
     ]
    },
    {
     "name": "stderr",
     "output_type": "stream",
     "text": [
      "Epoch 95 Train: 1959.3058: 100%|█████████████████████████████████████████████████████████████████████████████████████| 138/138 [03:08<00:00,  1.36s/it]\n"
     ]
    },
    {
     "name": "stdout",
     "output_type": "stream",
     "text": [
      "Validation Accuracy 0.9997\n"
     ]
    },
    {
     "name": "stderr",
     "output_type": "stream",
     "text": [
      "Epoch 96 Train: 1984.1375: 100%|█████████████████████████████████████████████████████████████████████████████████████| 138/138 [03:08<00:00,  1.37s/it]\n"
     ]
    },
    {
     "name": "stdout",
     "output_type": "stream",
     "text": [
      "Validation Accuracy 0.9999\n"
     ]
    },
    {
     "name": "stderr",
     "output_type": "stream",
     "text": [
      "Epoch 97 Train: 2032.5599: 100%|█████████████████████████████████████████████████████████████████████████████████████| 138/138 [03:08<00:00,  1.36s/it]\n"
     ]
    },
    {
     "name": "stdout",
     "output_type": "stream",
     "text": [
      "Validation Accuracy 0.9998\n"
     ]
    },
    {
     "name": "stderr",
     "output_type": "stream",
     "text": [
      "Epoch 98 Train: 2012.8694: 100%|█████████████████████████████████████████████████████████████████████████████████████| 138/138 [03:09<00:00,  1.37s/it]\n"
     ]
    },
    {
     "name": "stdout",
     "output_type": "stream",
     "text": [
      "Validation Accuracy 0.9998\n"
     ]
    },
    {
     "name": "stderr",
     "output_type": "stream",
     "text": [
      "Epoch 99 Train: 1984.267: 100%|██████████████████████████████████████████████████████████████████████████████████████| 138/138 [03:10<00:00,  1.38s/it]\n"
     ]
    },
    {
     "name": "stdout",
     "output_type": "stream",
     "text": [
      "Validation Accuracy 0.9999\n"
     ]
    }
   ],
   "source": [
    "logger = {'tloss': [], 'val_acc': []}\n",
    "best_val_acc = 0\n",
    "best_loss = 10000\n",
    "for epoch in range(n_epochs):\n",
    "    h = model.init_hidden(batch_size)\n",
    "    c, s = 0, 0\n",
    "    pBar = tqdm(train_loader)\n",
    "    model.train()\n",
    "    for sample in pBar:\n",
    "        h = tuple([each.data for each in h])\n",
    "        x = sample['x'].to(device)\n",
    "        y = sample['y'].to(device)\n",
    "        optimizer.zero_grad()\n",
    "        t = np.random.choice(10)\n",
    "        p, h = model.predict(x, h, t)\n",
    "        model.get_belief(x, h)\n",
    "        tdvae_loss = model.calculate_loss(t)\n",
    "        nll_loss = criterion(p, y)\n",
    "        loss = tdvae_loss + nll_loss\n",
    "        # print(loss)\n",
    "        s = ((s*c)+(float(loss.item())*len(p)))/(c+len(p))\n",
    "        c += len(p)\n",
    "        pBar.set_description('Epoch {} Train: '.format(epoch) +str(round(float(s),4)))\n",
    "        wl = np.random.choice(2)\n",
    "        if wl == 0 :\n",
    "            tdvae_loss.backward()\n",
    "        else :\n",
    "            nll_loss.backward()\n",
    "        #loss.backward()\n",
    "        nn.utils.clip_grad_norm_(model.parameters(), clip)\n",
    "        optimizer.step()\n",
    "    logger['tloss'].append(s)\n",
    "    sch.step(s)\n",
    "\n",
    "    val_h = model.init_hidden(batch_size)\n",
    "    model.eval()\n",
    "    y_pred, y_true = [], []\n",
    "    with torch.no_grad():\n",
    "        for sample in val_loader:\n",
    "            val_h = tuple([each.data for each in val_h])\n",
    "            x = sample['x'].to(device)\n",
    "            y = sample['y'].to(device)\n",
    "            #t = np.random.choice(11)\n",
    "            t=1\n",
    "            p, val_h = model.predict_proba(x, val_h, t)\n",
    "            y_pred.append(p.cpu().detach().numpy())\n",
    "            y_true.append(y.cpu().detach().numpy())\n",
    "    y_pred = np.concatenate(y_pred)\n",
    "    y_true = np.concatenate(y_true)\n",
    "\n",
    "    val_acc = (y_true == y_pred.argmax(axis=1)).mean()\n",
    "    logger['val_acc'].append(val_acc)\n",
    "    print(\"Validation Accuracy {:.4f}\".format(val_acc))\n",
    "    if (val_acc >= best_val_acc) & (s < best_loss):\n",
    "        # print('Model improved')\n",
    "        best_val_acc = val_acc\n",
    "        best_loss = s\n",
    "        print(best_loss)\n",
    "        torch.save(model.state_dict(), path+\"/best_ALL_1130.pth\")\n",
    "        val_stats = {'pred': y_pred, 'true': y_true}\n",
    "\n",
    "with open('log_ALL_1130.pkl', 'wb') as f:\n",
    "    pickle.dump(logger, f)\n",
    "\n",
    "#if cmat:\n",
    "    # Plot validation confusion matrix\n",
    "#    self.plot_cfmt(self.val_stats['pred'], self.val_stats['true'], 0.05, 'val_cfmt.pdf')"
   ]
  },
  {
   "cell_type": "code",
   "execution_count": 149,
   "id": "dangerous-stupid",
   "metadata": {},
   "outputs": [
    {
     "name": "stdout",
     "output_type": "stream",
     "text": [
      "1.0\n",
      "1994.8134296804235\n"
     ]
    }
   ],
   "source": [
    "print(best_val_acc)\n",
    "print(best_loss)"
   ]
  },
  {
   "cell_type": "markdown",
   "id": "fiscal-course",
   "metadata": {},
   "source": [
    "## Continue"
   ]
  },
  {
   "cell_type": "code",
   "execution_count": 20,
   "id": "acceptable-earth",
   "metadata": {},
   "outputs": [],
   "source": [
    "batch_size = 512\n",
    "train_loader = DataLoader(train_dataset,\n",
    "                         batch_size = batch_size,\n",
    "                         shuffle = True, drop_last=True)\n",
    "val_loader = DataLoader(val_dataset,\n",
    "                         batch_size = batch_size,\n",
    "                         shuffle = True, drop_last=True)\n",
    "input_size = data['X_train'].shape[1]\n",
    "output_size = 10\n",
    "embedding_dim = 256\n",
    "hidden_dim = 256\n",
    "n_layers = 2\n",
    "clip = 5\n",
    "path = \"./\"\n",
    "device = \"cuda\"\n",
    "n_epochs = 1000\n",
    "#train_on_gpu=False"
   ]
  },
  {
   "cell_type": "code",
   "execution_count": 23,
   "id": "mounted-basin",
   "metadata": {},
   "outputs": [],
   "source": [
    "model = ClassifierLSTM(input_size, output_size, embedding_dim, hidden_dim, n_layers).to(device)\n",
    "optimizer = optim.AdamW(model.parameters(), lr=1e-5)\n",
    "sch = optim.lr_scheduler.ReduceLROnPlateau(optimizer, factor=0.5, patience=2, threshold=0.05, verbose=True)"
   ]
  },
  {
   "cell_type": "code",
   "execution_count": null,
   "id": "9754aa06-de2a-4cd4-ac26-45cfad361a47",
   "metadata": {},
   "outputs": [],
   "source": [
    "checkpoint = torch.load(path+\"./best_ALL_1130_continue.pth\")\n",
    "model.load_state_dict(checkpoint)"
   ]
  },
  {
   "cell_type": "code",
   "execution_count": 24,
   "id": "weighted-transsexual",
   "metadata": {},
   "outputs": [],
   "source": [
    "# Load previous logger\n",
    "with open('log_ALL_1130.pkl', 'rb') as f:\n",
    "        logger = pickle.load(f)"
   ]
  },
  {
   "cell_type": "code",
   "execution_count": 25,
   "id": "atlantic-portal",
   "metadata": {},
   "outputs": [
    {
     "data": {
      "text/plain": [
       "1900.9460033472033"
      ]
     },
     "execution_count": 25,
     "metadata": {},
     "output_type": "execute_result"
    }
   ],
   "source": [
    "min(logger['tloss'])"
   ]
  },
  {
   "cell_type": "code",
   "execution_count": null,
   "id": "suffering-substance",
   "metadata": {
    "tags": []
   },
   "outputs": [
    {
     "name": "stderr",
     "output_type": "stream",
     "text": [
      "Epoch 0 Train: 1945.3448: 100%|██████████████████████████████████████████████████████████████████████████████████████| 138/138 [03:47<00:00,  1.65s/it]\n"
     ]
    },
    {
     "name": "stdout",
     "output_type": "stream",
     "text": [
      "Validation Accuracy 0.9999\n"
     ]
    },
    {
     "name": "stderr",
     "output_type": "stream",
     "text": [
      "Epoch 1 Train: 1976.804: 100%|███████████████████████████████████████████████████████████████████████████████████████| 138/138 [04:38<00:00,  2.02s/it]\n"
     ]
    },
    {
     "name": "stdout",
     "output_type": "stream",
     "text": [
      "Validation Accuracy 0.9997\n"
     ]
    },
    {
     "name": "stderr",
     "output_type": "stream",
     "text": [
      "Epoch 2 Train: 1984.8254: 100%|██████████████████████████████████████████████████████████████████████████████████████| 138/138 [04:45<00:00,  2.07s/it]\n"
     ]
    },
    {
     "name": "stdout",
     "output_type": "stream",
     "text": [
      "Validation Accuracy 0.9995\n"
     ]
    },
    {
     "name": "stderr",
     "output_type": "stream",
     "text": [
      "Epoch 3 Train: 1928.8705: 100%|██████████████████████████████████████████████████████████████████████████████████████| 138/138 [04:39<00:00,  2.02s/it]\n"
     ]
    },
    {
     "name": "stdout",
     "output_type": "stream",
     "text": [
      "Epoch     4: reducing learning rate of group 0 to 5.0000e-06.\n",
      "Validation Accuracy 0.9996\n"
     ]
    },
    {
     "name": "stderr",
     "output_type": "stream",
     "text": [
      "Epoch 4 Train: 1962.9548: 100%|██████████████████████████████████████████████████████████████████████████████████████| 138/138 [04:48<00:00,  2.09s/it]\n"
     ]
    },
    {
     "name": "stdout",
     "output_type": "stream",
     "text": [
      "Validation Accuracy 0.9996\n"
     ]
    },
    {
     "name": "stderr",
     "output_type": "stream",
     "text": [
      "Epoch 5 Train: 1926.0609: 100%|██████████████████████████████████████████████████████████████████████████████████████| 138/138 [04:39<00:00,  2.02s/it]\n"
     ]
    },
    {
     "name": "stdout",
     "output_type": "stream",
     "text": [
      "Validation Accuracy 0.9997\n"
     ]
    },
    {
     "name": "stderr",
     "output_type": "stream",
     "text": [
      "Epoch 6 Train: 1952.3197: 100%|██████████████████████████████████████████████████████████████████████████████████████| 138/138 [04:57<00:00,  2.16s/it]\n"
     ]
    },
    {
     "name": "stdout",
     "output_type": "stream",
     "text": [
      "Epoch     7: reducing learning rate of group 0 to 2.5000e-06.\n",
      "Validation Accuracy 0.9998\n"
     ]
    },
    {
     "name": "stderr",
     "output_type": "stream",
     "text": [
      "Epoch 7 Train: 1964.9107: 100%|██████████████████████████████████████████████████████████████████████████████████████| 138/138 [05:25<00:00,  2.36s/it]\n"
     ]
    },
    {
     "name": "stdout",
     "output_type": "stream",
     "text": [
      "Validation Accuracy 0.9998\n"
     ]
    },
    {
     "name": "stderr",
     "output_type": "stream",
     "text": [
      "Epoch 8 Train: 2009.3747: 100%|██████████████████████████████████████████████████████████████████████████████████████| 138/138 [04:42<00:00,  2.05s/it]\n"
     ]
    },
    {
     "name": "stdout",
     "output_type": "stream",
     "text": [
      "Validation Accuracy 0.9997\n"
     ]
    },
    {
     "name": "stderr",
     "output_type": "stream",
     "text": [
      "Epoch 9 Train: 1896.9602: 100%|██████████████████████████████████████████████████████████████████████████████████████| 138/138 [04:51<00:00,  2.11s/it]\n"
     ]
    },
    {
     "name": "stdout",
     "output_type": "stream",
     "text": [
      "Epoch    10: reducing learning rate of group 0 to 1.2500e-06.\n",
      "Validation Accuracy 0.9998\n",
      "1896.9602050781252\n"
     ]
    },
    {
     "name": "stderr",
     "output_type": "stream",
     "text": [
      "Epoch 10 Train: 1953.3031: 100%|█████████████████████████████████████████████████████████████████████████████████████| 138/138 [04:45<00:00,  2.07s/it]\n"
     ]
    },
    {
     "name": "stdout",
     "output_type": "stream",
     "text": [
      "Validation Accuracy 0.9998\n"
     ]
    },
    {
     "name": "stderr",
     "output_type": "stream",
     "text": [
      "Epoch 11 Train: 1913.971: 100%|██████████████████████████████████████████████████████████████████████████████████████| 138/138 [04:58<00:00,  2.16s/it]\n"
     ]
    },
    {
     "name": "stdout",
     "output_type": "stream",
     "text": [
      "Validation Accuracy 0.9998\n"
     ]
    },
    {
     "name": "stderr",
     "output_type": "stream",
     "text": [
      "Epoch 12 Train: 1963.7427: 100%|█████████████████████████████████████████████████████████████████████████████████████| 138/138 [04:42<00:00,  2.05s/it]\n"
     ]
    },
    {
     "name": "stdout",
     "output_type": "stream",
     "text": [
      "Epoch    13: reducing learning rate of group 0 to 6.2500e-07.\n",
      "Validation Accuracy 0.9999\n"
     ]
    },
    {
     "name": "stderr",
     "output_type": "stream",
     "text": [
      "Epoch 13 Train: 1953.5204: 100%|█████████████████████████████████████████████████████████████████████████████████████| 138/138 [04:08<00:00,  1.80s/it]\n"
     ]
    },
    {
     "name": "stdout",
     "output_type": "stream",
     "text": [
      "Validation Accuracy 0.9999\n"
     ]
    },
    {
     "name": "stderr",
     "output_type": "stream",
     "text": [
      "Epoch 14 Train: 1979.3454: 100%|█████████████████████████████████████████████████████████████████████████████████████| 138/138 [03:19<00:00,  1.45s/it]\n"
     ]
    },
    {
     "name": "stdout",
     "output_type": "stream",
     "text": [
      "Validation Accuracy 0.9998\n"
     ]
    },
    {
     "name": "stderr",
     "output_type": "stream",
     "text": [
      "Epoch 15 Train: 1975.1362: 100%|█████████████████████████████████████████████████████████████████████████████████████| 138/138 [03:20<00:00,  1.45s/it]\n"
     ]
    },
    {
     "name": "stdout",
     "output_type": "stream",
     "text": [
      "Epoch    16: reducing learning rate of group 0 to 3.1250e-07.\n",
      "Validation Accuracy 0.9996\n"
     ]
    },
    {
     "name": "stderr",
     "output_type": "stream",
     "text": [
      "Epoch 16 Train: 1938.5623: 100%|█████████████████████████████████████████████████████████████████████████████████████| 138/138 [03:19<00:00,  1.44s/it]\n"
     ]
    },
    {
     "name": "stdout",
     "output_type": "stream",
     "text": [
      "Validation Accuracy 0.9997\n"
     ]
    },
    {
     "name": "stderr",
     "output_type": "stream",
     "text": [
      "Epoch 17 Train: 1961.9514: 100%|█████████████████████████████████████████████████████████████████████████████████████| 138/138 [03:19<00:00,  1.44s/it]\n"
     ]
    },
    {
     "name": "stdout",
     "output_type": "stream",
     "text": [
      "Validation Accuracy 0.9998\n"
     ]
    },
    {
     "name": "stderr",
     "output_type": "stream",
     "text": [
      "Epoch 18 Train: 1972.4898: 100%|█████████████████████████████████████████████████████████████████████████████████████| 138/138 [03:56<00:00,  1.71s/it]\n"
     ]
    },
    {
     "name": "stdout",
     "output_type": "stream",
     "text": [
      "Epoch    19: reducing learning rate of group 0 to 1.5625e-07.\n",
      "Validation Accuracy 0.9998\n"
     ]
    },
    {
     "name": "stderr",
     "output_type": "stream",
     "text": [
      "Epoch 19 Train: 1949.6361: 100%|█████████████████████████████████████████████████████████████████████████████████████| 138/138 [04:52<00:00,  2.12s/it]\n"
     ]
    },
    {
     "name": "stdout",
     "output_type": "stream",
     "text": [
      "Validation Accuracy 0.9998\n"
     ]
    },
    {
     "name": "stderr",
     "output_type": "stream",
     "text": [
      "Epoch 20 Train: 1960.0043: 100%|█████████████████████████████████████████████████████████████████████████████████████| 138/138 [04:49<00:00,  2.10s/it]\n"
     ]
    },
    {
     "name": "stdout",
     "output_type": "stream",
     "text": [
      "Validation Accuracy 0.9997\n"
     ]
    },
    {
     "name": "stderr",
     "output_type": "stream",
     "text": [
      "Epoch 21 Train: 1955.7652: 100%|█████████████████████████████████████████████████████████████████████████████████████| 138/138 [04:56<00:00,  2.15s/it]\n"
     ]
    },
    {
     "name": "stdout",
     "output_type": "stream",
     "text": [
      "Epoch    22: reducing learning rate of group 0 to 7.8125e-08.\n",
      "Validation Accuracy 0.9999\n"
     ]
    },
    {
     "name": "stderr",
     "output_type": "stream",
     "text": [
      "Epoch 22 Train: 1946.3893: 100%|█████████████████████████████████████████████████████████████████████████████████████| 138/138 [04:58<00:00,  2.16s/it]\n"
     ]
    },
    {
     "name": "stdout",
     "output_type": "stream",
     "text": [
      "Validation Accuracy 0.9997\n"
     ]
    },
    {
     "name": "stderr",
     "output_type": "stream",
     "text": [
      "Epoch 23 Train: 1960.5341: 100%|█████████████████████████████████████████████████████████████████████████████████████| 138/138 [05:01<00:00,  2.19s/it]\n"
     ]
    },
    {
     "name": "stdout",
     "output_type": "stream",
     "text": [
      "Validation Accuracy 0.9997\n"
     ]
    },
    {
     "name": "stderr",
     "output_type": "stream",
     "text": [
      "Epoch 24 Train: 1963.8744: 100%|█████████████████████████████████████████████████████████████████████████████████████| 138/138 [05:37<00:00,  2.45s/it]\n"
     ]
    },
    {
     "name": "stdout",
     "output_type": "stream",
     "text": [
      "Epoch    25: reducing learning rate of group 0 to 3.9063e-08.\n",
      "Validation Accuracy 0.9999\n"
     ]
    },
    {
     "name": "stderr",
     "output_type": "stream",
     "text": [
      "Epoch 25 Train: 2001.6106: 100%|█████████████████████████████████████████████████████████████████████████████████████| 138/138 [05:12<00:00,  2.26s/it]\n"
     ]
    },
    {
     "name": "stdout",
     "output_type": "stream",
     "text": [
      "Validation Accuracy 0.9998\n"
     ]
    },
    {
     "name": "stderr",
     "output_type": "stream",
     "text": [
      "Epoch 26 Train: 1985.5465: 100%|█████████████████████████████████████████████████████████████████████████████████████| 138/138 [04:37<00:00,  2.01s/it]\n"
     ]
    },
    {
     "name": "stdout",
     "output_type": "stream",
     "text": [
      "Validation Accuracy 0.9997\n"
     ]
    },
    {
     "name": "stderr",
     "output_type": "stream",
     "text": [
      "Epoch 27 Train: 1991.4964: 100%|█████████████████████████████████████████████████████████████████████████████████████| 138/138 [04:40<00:00,  2.03s/it]\n"
     ]
    },
    {
     "name": "stdout",
     "output_type": "stream",
     "text": [
      "Epoch    28: reducing learning rate of group 0 to 1.9531e-08.\n",
      "Validation Accuracy 0.9999\n"
     ]
    },
    {
     "name": "stderr",
     "output_type": "stream",
     "text": [
      "Epoch 28 Train: 1905.7381: 100%|█████████████████████████████████████████████████████████████████████████████████████| 138/138 [04:52<00:00,  2.12s/it]\n"
     ]
    },
    {
     "name": "stdout",
     "output_type": "stream",
     "text": [
      "Validation Accuracy 1.0000\n"
     ]
    },
    {
     "name": "stderr",
     "output_type": "stream",
     "text": [
      "Epoch 29 Train: 1945.2378: 100%|█████████████████████████████████████████████████████████████████████████████████████| 138/138 [04:54<00:00,  2.13s/it]\n"
     ]
    },
    {
     "name": "stdout",
     "output_type": "stream",
     "text": [
      "Validation Accuracy 0.9997\n"
     ]
    },
    {
     "name": "stderr",
     "output_type": "stream",
     "text": [
      "Epoch 30 Train: 1973.6787: 100%|█████████████████████████████████████████████████████████████████████████████████████| 138/138 [04:30<00:00,  1.96s/it]\n"
     ]
    },
    {
     "name": "stdout",
     "output_type": "stream",
     "text": [
      "Validation Accuracy 0.9998\n"
     ]
    },
    {
     "name": "stderr",
     "output_type": "stream",
     "text": [
      "Epoch 31 Train: 1963.7455: 100%|█████████████████████████████████████████████████████████████████████████████████████| 138/138 [03:40<00:00,  1.60s/it]\n"
     ]
    },
    {
     "name": "stdout",
     "output_type": "stream",
     "text": [
      "Validation Accuracy 0.9999\n"
     ]
    },
    {
     "name": "stderr",
     "output_type": "stream",
     "text": [
      "Epoch 32 Train: 1917.9269: 100%|█████████████████████████████████████████████████████████████████████████████████████| 138/138 [03:18<00:00,  1.44s/it]\n"
     ]
    },
    {
     "name": "stdout",
     "output_type": "stream",
     "text": [
      "Validation Accuracy 0.9998\n"
     ]
    },
    {
     "name": "stderr",
     "output_type": "stream",
     "text": [
      "Epoch 33 Train: 1974.2305: 100%|█████████████████████████████████████████████████████████████████████████████████████| 138/138 [03:19<00:00,  1.45s/it]\n"
     ]
    },
    {
     "name": "stdout",
     "output_type": "stream",
     "text": [
      "Validation Accuracy 0.9999\n"
     ]
    },
    {
     "name": "stderr",
     "output_type": "stream",
     "text": [
      "Epoch 34 Train: 1965.0712: 100%|█████████████████████████████████████████████████████████████████████████████████████| 138/138 [03:19<00:00,  1.45s/it]\n"
     ]
    },
    {
     "name": "stdout",
     "output_type": "stream",
     "text": [
      "Validation Accuracy 0.9997\n"
     ]
    },
    {
     "name": "stderr",
     "output_type": "stream",
     "text": [
      "Epoch 35 Train: 1976.5096: 100%|█████████████████████████████████████████████████████████████████████████████████████| 138/138 [03:20<00:00,  1.45s/it]\n"
     ]
    },
    {
     "name": "stdout",
     "output_type": "stream",
     "text": [
      "Validation Accuracy 0.9997\n"
     ]
    },
    {
     "name": "stderr",
     "output_type": "stream",
     "text": [
      "Epoch 36 Train: 1967.2763: 100%|█████████████████████████████████████████████████████████████████████████████████████| 138/138 [04:07<00:00,  1.79s/it]\n"
     ]
    },
    {
     "name": "stdout",
     "output_type": "stream",
     "text": [
      "Validation Accuracy 0.9995\n"
     ]
    },
    {
     "name": "stderr",
     "output_type": "stream",
     "text": [
      "Epoch 37 Train: 1962.192: 100%|██████████████████████████████████████████████████████████████████████████████████████| 138/138 [04:47<00:00,  2.08s/it]\n"
     ]
    },
    {
     "name": "stdout",
     "output_type": "stream",
     "text": [
      "Validation Accuracy 0.9997\n"
     ]
    },
    {
     "name": "stderr",
     "output_type": "stream",
     "text": [
      "Epoch 38 Train: 1986.1014: 100%|█████████████████████████████████████████████████████████████████████████████████████| 138/138 [04:57<00:00,  2.15s/it]\n"
     ]
    },
    {
     "name": "stdout",
     "output_type": "stream",
     "text": [
      "Validation Accuracy 0.9997\n"
     ]
    },
    {
     "name": "stderr",
     "output_type": "stream",
     "text": [
      "Epoch 39 Train: 1933.0963: 100%|█████████████████████████████████████████████████████████████████████████████████████| 138/138 [04:54<00:00,  2.13s/it]\n"
     ]
    },
    {
     "name": "stdout",
     "output_type": "stream",
     "text": [
      "Validation Accuracy 0.9997\n"
     ]
    },
    {
     "name": "stderr",
     "output_type": "stream",
     "text": [
      "Epoch 40 Train: 1947.8154: 100%|█████████████████████████████████████████████████████████████████████████████████████| 138/138 [04:58<00:00,  2.16s/it]\n"
     ]
    },
    {
     "name": "stdout",
     "output_type": "stream",
     "text": [
      "Validation Accuracy 0.9996\n"
     ]
    },
    {
     "name": "stderr",
     "output_type": "stream",
     "text": [
      "Epoch 41 Train: 1958.1763: 100%|█████████████████████████████████████████████████████████████████████████████████████| 138/138 [04:50<00:00,  2.11s/it]\n"
     ]
    },
    {
     "name": "stdout",
     "output_type": "stream",
     "text": [
      "Validation Accuracy 0.9998\n"
     ]
    },
    {
     "name": "stderr",
     "output_type": "stream",
     "text": [
      "Epoch 42 Train: 1955.549: 100%|██████████████████████████████████████████████████████████████████████████████████████| 138/138 [04:33<00:00,  1.98s/it]\n"
     ]
    },
    {
     "name": "stdout",
     "output_type": "stream",
     "text": [
      "Validation Accuracy 0.9998\n"
     ]
    },
    {
     "name": "stderr",
     "output_type": "stream",
     "text": [
      "Epoch 43 Train: 2000.429: 100%|██████████████████████████████████████████████████████████████████████████████████████| 138/138 [03:40<00:00,  1.60s/it]\n"
     ]
    },
    {
     "name": "stdout",
     "output_type": "stream",
     "text": [
      "Validation Accuracy 0.9997\n"
     ]
    },
    {
     "name": "stderr",
     "output_type": "stream",
     "text": [
      "Epoch 44 Train: 1977.4547: 100%|█████████████████████████████████████████████████████████████████████████████████████| 138/138 [03:17<00:00,  1.43s/it]\n"
     ]
    },
    {
     "name": "stdout",
     "output_type": "stream",
     "text": [
      "Validation Accuracy 0.9996\n"
     ]
    },
    {
     "name": "stderr",
     "output_type": "stream",
     "text": [
      "Epoch 45 Train: 1931.7694: 100%|█████████████████████████████████████████████████████████████████████████████████████| 138/138 [03:17<00:00,  1.43s/it]\n"
     ]
    },
    {
     "name": "stdout",
     "output_type": "stream",
     "text": [
      "Validation Accuracy 0.9998\n"
     ]
    },
    {
     "name": "stderr",
     "output_type": "stream",
     "text": [
      "Epoch 46 Train: 1929.5447: 100%|█████████████████████████████████████████████████████████████████████████████████████| 138/138 [03:17<00:00,  1.43s/it]\n"
     ]
    },
    {
     "name": "stdout",
     "output_type": "stream",
     "text": [
      "Validation Accuracy 0.9998\n"
     ]
    },
    {
     "name": "stderr",
     "output_type": "stream",
     "text": [
      "Epoch 47 Train: 1955.8915: 100%|█████████████████████████████████████████████████████████████████████████████████████| 138/138 [03:21<00:00,  1.46s/it]\n"
     ]
    },
    {
     "name": "stdout",
     "output_type": "stream",
     "text": [
      "Validation Accuracy 0.9999\n"
     ]
    },
    {
     "name": "stderr",
     "output_type": "stream",
     "text": [
      "Epoch 48 Train: 1949.6735: 100%|█████████████████████████████████████████████████████████████████████████████████████| 138/138 [04:41<00:00,  2.04s/it]\n"
     ]
    },
    {
     "name": "stdout",
     "output_type": "stream",
     "text": [
      "Validation Accuracy 0.9998\n"
     ]
    },
    {
     "name": "stderr",
     "output_type": "stream",
     "text": [
      "Epoch 49 Train: 1989.6454: 100%|█████████████████████████████████████████████████████████████████████████████████████| 138/138 [04:50<00:00,  2.10s/it]\n"
     ]
    },
    {
     "name": "stdout",
     "output_type": "stream",
     "text": [
      "Validation Accuracy 0.9997\n"
     ]
    },
    {
     "name": "stderr",
     "output_type": "stream",
     "text": [
      "Epoch 50 Train: 1963.6828: 100%|█████████████████████████████████████████████████████████████████████████████████████| 138/138 [04:46<00:00,  2.08s/it]\n"
     ]
    },
    {
     "name": "stdout",
     "output_type": "stream",
     "text": [
      "Validation Accuracy 0.9998\n"
     ]
    },
    {
     "name": "stderr",
     "output_type": "stream",
     "text": [
      "Epoch 51 Train: 1965.8916: 100%|█████████████████████████████████████████████████████████████████████████████████████| 138/138 [04:48<00:00,  2.09s/it]\n"
     ]
    },
    {
     "name": "stdout",
     "output_type": "stream",
     "text": [
      "Validation Accuracy 0.9998\n"
     ]
    },
    {
     "name": "stderr",
     "output_type": "stream",
     "text": [
      "Epoch 52 Train: 1974.7777: 100%|█████████████████████████████████████████████████████████████████████████████████████| 138/138 [04:53<00:00,  2.13s/it]\n"
     ]
    },
    {
     "name": "stdout",
     "output_type": "stream",
     "text": [
      "Validation Accuracy 0.9997\n"
     ]
    },
    {
     "name": "stderr",
     "output_type": "stream",
     "text": [
      "Epoch 53 Train: 1971.735: 100%|██████████████████████████████████████████████████████████████████████████████████████| 138/138 [04:51<00:00,  2.11s/it]\n"
     ]
    },
    {
     "name": "stdout",
     "output_type": "stream",
     "text": [
      "Validation Accuracy 0.9999\n"
     ]
    },
    {
     "name": "stderr",
     "output_type": "stream",
     "text": [
      "Epoch 54 Train: 1974.8778: 100%|█████████████████████████████████████████████████████████████████████████████████████| 138/138 [04:28<00:00,  1.94s/it]\n"
     ]
    },
    {
     "name": "stdout",
     "output_type": "stream",
     "text": [
      "Validation Accuracy 0.9998\n"
     ]
    },
    {
     "name": "stderr",
     "output_type": "stream",
     "text": [
      "Epoch 55 Train: 1994.7898: 100%|█████████████████████████████████████████████████████████████████████████████████████| 138/138 [03:26<00:00,  1.49s/it]\n"
     ]
    },
    {
     "name": "stdout",
     "output_type": "stream",
     "text": [
      "Validation Accuracy 0.9997\n"
     ]
    },
    {
     "name": "stderr",
     "output_type": "stream",
     "text": [
      "Epoch 56 Train: 1978.2925: 100%|█████████████████████████████████████████████████████████████████████████████████████| 138/138 [03:19<00:00,  1.44s/it]\n"
     ]
    },
    {
     "name": "stdout",
     "output_type": "stream",
     "text": [
      "Validation Accuracy 0.9999\n"
     ]
    },
    {
     "name": "stderr",
     "output_type": "stream",
     "text": [
      "Epoch 57 Train: 1917.1495: 100%|█████████████████████████████████████████████████████████████████████████████████████| 138/138 [03:16<00:00,  1.43s/it]\n"
     ]
    },
    {
     "name": "stdout",
     "output_type": "stream",
     "text": [
      "Validation Accuracy 0.9999\n"
     ]
    },
    {
     "name": "stderr",
     "output_type": "stream",
     "text": [
      "Epoch 58 Train: 1980.7164: 100%|█████████████████████████████████████████████████████████████████████████████████████| 138/138 [03:18<00:00,  1.44s/it]\n"
     ]
    },
    {
     "name": "stdout",
     "output_type": "stream",
     "text": [
      "Validation Accuracy 0.9999\n"
     ]
    },
    {
     "name": "stderr",
     "output_type": "stream",
     "text": [
      "Epoch 59 Train: 1970.3647: 100%|█████████████████████████████████████████████████████████████████████████████████████| 138/138 [03:26<00:00,  1.50s/it]\n"
     ]
    },
    {
     "name": "stdout",
     "output_type": "stream",
     "text": [
      "Validation Accuracy 0.9994\n"
     ]
    },
    {
     "name": "stderr",
     "output_type": "stream",
     "text": [
      "Epoch 60 Train: 1972.8195: 100%|█████████████████████████████████████████████████████████████████████████████████████| 138/138 [04:36<00:00,  2.00s/it]\n"
     ]
    },
    {
     "name": "stdout",
     "output_type": "stream",
     "text": [
      "Validation Accuracy 0.9997\n"
     ]
    },
    {
     "name": "stderr",
     "output_type": "stream",
     "text": [
      "Epoch 61 Train: 1952.2727: 100%|█████████████████████████████████████████████████████████████████████████████████████| 138/138 [04:48<00:00,  2.09s/it]\n"
     ]
    },
    {
     "name": "stdout",
     "output_type": "stream",
     "text": [
      "Validation Accuracy 0.9999\n"
     ]
    },
    {
     "name": "stderr",
     "output_type": "stream",
     "text": [
      "Epoch 62 Train: 1923.0033:  51%|████████████████████████████████████████████▏                                         | 71/138 [02:36<02:24,  2.16s/it]"
     ]
    }
   ],
   "source": [
    "#logger = {'tloss': [], 'val_acc': []}\n",
    "#best_val_acc = 0.99\n",
    "best_loss = min(logger['tloss'])\n",
    "for epoch in range(n_epochs):\n",
    "    h = model.init_hidden(batch_size)\n",
    "    c, s = 0, 0\n",
    "    pBar = tqdm(train_loader)\n",
    "    model.train()\n",
    "    for sample in pBar:\n",
    "        h = tuple([each.data for each in h])\n",
    "        x = sample['x'].to(device)\n",
    "        y = sample['y'].to(device)\n",
    "        optimizer.zero_grad()\n",
    "        t = np.random.choice(10)\n",
    "        p, h = model.predict(x, h, t)\n",
    "        model.get_belief(x, h)\n",
    "        tdvae_loss = model.calculate_loss(t)\n",
    "        nll_loss = criterion(p, y)\n",
    "        loss = tdvae_loss + nll_loss\n",
    "        # print(loss)\n",
    "        s = ((s*c)+(float(loss.item())*len(p)))/(c+len(p))\n",
    "        c += len(p)\n",
    "        pBar.set_description('Epoch {} Train: '.format(epoch) +str(round(float(s),4)))\n",
    "        wl = np.random.choice(2)\n",
    "        if wl == 0 :\n",
    "            tdvae_loss.backward()\n",
    "        else :\n",
    "            nll_loss.backward()\n",
    "        #loss.backward()\n",
    "        nn.utils.clip_grad_norm_(model.parameters(), clip)\n",
    "        optimizer.step()\n",
    "    logger['tloss'].append(s)\n",
    "    sch.step(s)\n",
    "\n",
    "    val_h = model.init_hidden(batch_size)\n",
    "    model.eval()\n",
    "    y_pred, y_true = [], []\n",
    "    with torch.no_grad():\n",
    "        for sample in val_loader:\n",
    "            val_h = tuple([each.data for each in val_h])\n",
    "            x = sample['x'].to(device)\n",
    "            y = sample['y'].to(device)\n",
    "            #t = np.random.choice(11)\n",
    "            t=1\n",
    "            p, val_h = model.predict_proba(x, val_h, t)\n",
    "            y_pred.append(p.cpu().detach().numpy())\n",
    "            y_true.append(y.cpu().detach().numpy())\n",
    "    y_pred = np.concatenate(y_pred)\n",
    "    y_true = np.concatenate(y_true)\n",
    "\n",
    "    val_acc = (y_true == y_pred.argmax(axis=1)).mean()\n",
    "    logger['val_acc'].append(val_acc)\n",
    "    print(\"Validation Accuracy {:.4f}\".format(val_acc))\n",
    "    if (val_acc >= 0.99) & (s < best_loss):\n",
    "        # print('Model improved')\n",
    "        #best_val_acc = val_acc\n",
    "        best_loss = s\n",
    "        print(best_loss)\n",
    "        torch.save(model.state_dict(), path+\"/best_ALL_1130_continue.pth\")\n",
    "        val_stats = {'pred': y_pred, 'true': y_true}\n",
    "\n",
    "\n",
    "#if cmat:\n",
    "    # Plot validation confusion matrix\n",
    "#    self.plot_cfmt(self.val_stats['pred'], self.val_stats['true'], 0.05, 'val_cfmt.pdf')"
   ]
  },
  {
   "cell_type": "markdown",
   "id": "insured-budapest",
   "metadata": {},
   "source": [
    "## Evaluate"
   ]
  },
  {
   "cell_type": "code",
   "execution_count": 20,
   "id": "headed-dispute",
   "metadata": {},
   "outputs": [
    {
     "data": {
      "text/plain": [
       "ClassifierLSTM(\n",
       "  (fc1): Sequential(\n",
       "    (0): Linear(in_features=17513, out_features=256, bias=True)\n",
       "    (1): Dropout(p=0.2, inplace=False)\n",
       "    (2): GaussianNoise()\n",
       "  )\n",
       "  (fc): Sequential(\n",
       "    (0): ReLU()\n",
       "    (1): Linear(in_features=512, out_features=512, bias=True)\n",
       "    (2): ReLU()\n",
       "    (3): Linear(in_features=512, out_features=10, bias=True)\n",
       "  )\n",
       "  (lstm): LSTM(256, 256, num_layers=2, batch_first=True, dropout=0.2, bidirectional=True)\n",
       "  (dropout): Dropout(p=0.2, inplace=False)\n",
       "  (b_to_z): DBlock(\n",
       "    (fc1): Linear(in_features=512, out_features=256, bias=True)\n",
       "    (fc2): Linear(in_features=512, out_features=256, bias=True)\n",
       "    (fc_mu): Linear(in_features=256, out_features=512, bias=True)\n",
       "    (fc_logsigma): Linear(in_features=256, out_features=512, bias=True)\n",
       "  )\n",
       "  (bz2_infer_z1): DBlock(\n",
       "    (fc1): Linear(in_features=1024, out_features=256, bias=True)\n",
       "    (fc2): Linear(in_features=1024, out_features=256, bias=True)\n",
       "    (fc_mu): Linear(in_features=256, out_features=512, bias=True)\n",
       "    (fc_logsigma): Linear(in_features=256, out_features=512, bias=True)\n",
       "  )\n",
       "  (z1_to_z2): DBlock(\n",
       "    (fc1): Linear(in_features=512, out_features=256, bias=True)\n",
       "    (fc2): Linear(in_features=512, out_features=256, bias=True)\n",
       "    (fc_mu): Linear(in_features=256, out_features=512, bias=True)\n",
       "    (fc_logsigma): Linear(in_features=256, out_features=512, bias=True)\n",
       "  )\n",
       "  (z_to_x): Decoder(\n",
       "    (fc1): Linear(in_features=512, out_features=256, bias=True)\n",
       "    (fc2): Linear(in_features=256, out_features=256, bias=True)\n",
       "    (fc3): Linear(in_features=256, out_features=17513, bias=True)\n",
       "  )\n",
       ")"
      ]
     },
     "execution_count": 20,
     "metadata": {},
     "output_type": "execute_result"
    }
   ],
   "source": [
    "# Finally keep the best model\n",
    "model.load_state_dict(torch.load(path+\"./best_ALL_1130_continue.pth\", map_location=torch.device('cpu')))\n",
    "model = model\n",
    "model.eval()"
   ]
  },
  {
   "cell_type": "code",
   "execution_count": 21,
   "id": "connected-sleeve",
   "metadata": {},
   "outputs": [],
   "source": [
    "def get_thresholds(outlier_frac):\n",
    "    \n",
    "    thresholds = 0.9*np.ones((output_size))\n",
    "    probs_train = val_stats['pred']\n",
    "    y_train = val_stats['true']\n",
    "    for top_klass in range(output_size):\n",
    "        ind = (np.argmax(probs_train, axis=1) == top_klass) #& (y_train == top_klass)\n",
    "        if np.sum(ind) != 0:\n",
    "            best_prob = np.max(probs_train[ind], axis=1)\n",
    "            best_prob = np.sort(best_prob)\n",
    "            l = int(outlier_frac * len(best_prob)) + 1\n",
    "            # print(len(best_prob))\n",
    "            if l < (len(best_prob)): \n",
    "                thresholds[top_klass] = best_prob[l]\n",
    "    return thresholds\n",
    "\n",
    "def filter_pred(pred, outlier_frac):\n",
    "    thresholds = get_thresholds(outlier_frac)\n",
    "    pred_class = np.argmax(pred, axis=1)\n",
    "    prob_max = np.max(pred, axis=1)\n",
    "    ind = prob_max < thresholds[pred_class]\n",
    "    pred_class[ind] = output_size # assign unassigned class\n",
    "    return pred_class"
   ]
  },
  {
   "cell_type": "code",
   "execution_count": 22,
   "id": "threaded-dating",
   "metadata": {},
   "outputs": [],
   "source": [
    "classes = ['Columella', 'Lateral Root Cap', 'Phloem', 'Xylem', 'Procambium', 'Pericycle', 'Endodermis', 'Cortex', 'Atrichoblast', 'Trichoblast']\n",
    "class2num = {c: i for (i, c) in enumerate(classes)}\n",
    "num2class = {i: c for (i, c) in enumerate(classes)}"
   ]
  },
  {
   "cell_type": "code",
   "execution_count": 23,
   "id": "broken-monkey",
   "metadata": {},
   "outputs": [
    {
     "data": {
      "text/plain": [
       "dict_keys(['Columella', 'Lateral Root Cap', 'Phloem', 'Xylem', 'Procambium', 'Pericycle', 'Endodermis', 'Cortex', 'Atrichoblast', 'Trichoblast'])"
      ]
     },
     "execution_count": 23,
     "metadata": {},
     "output_type": "execute_result"
    }
   ],
   "source": [
    "class2num.keys()"
   ]
  },
  {
   "cell_type": "code",
   "execution_count": 24,
   "id": "foster-hampshire",
   "metadata": {},
   "outputs": [],
   "source": [
    "def plot_cfmt(y_pred, y_true, name):\n",
    "    preds = np.argmax(y_pred, axis=1)\n",
    "    test_acc = (y_true == preds).mean() \n",
    "\n",
    "    if name is not None:\n",
    "        cm = normalize(confusion_matrix(y_true,\n",
    "                        preds,\n",
    "                        labels=np.arange(0, max(np.max(y_true), np.max(y_pred), output_size))\n",
    "                        ),\n",
    "                        normalize='true')\n",
    "        #cm = np.delete(cm, [(output_size)], axis=0)\n",
    "        #if cm.shape[1] > (output_size+1):\n",
    "        #    cm = np.delete(cm, (output_size+1), axis=1)\n",
    "\n",
    "        class_labels = list(class2num.keys()) \n",
    "        cm_ob = ConfusionMatrixPlot(cm, class_labels)\n",
    "        factor = max(1, len(cm) // 10)\n",
    "        fig = plt.figure(figsize=(10*factor,8*factor))\n",
    "        cm_ob.plot(values_format='0.2f', ax=fig.gca())\n",
    "\n",
    "        plt.title('Accuracy {:.3f}'.format(test_acc), fontsize=16)\n",
    "\n",
    "        plt.tight_layout()\n",
    "        plt.savefig('{}/{}'.format(path, name))"
   ]
  },
  {
   "cell_type": "code",
   "execution_count": 25,
   "id": "informal-trace",
   "metadata": {},
   "outputs": [],
   "source": [
    "batch_size = 512\n",
    "test_dataset = Root_Dataset(data['X_test'], data['y_test'])\n",
    "test_loader = DataLoader(test_dataset,\n",
    "                         batch_size = batch_size,\n",
    "                         shuffle = True, drop_last=True)"
   ]
  },
  {
   "cell_type": "code",
   "execution_count": 26,
   "id": "hungry-compilation",
   "metadata": {},
   "outputs": [],
   "source": [
    "test_h = model.init_hidden(batch_size)\n",
    "model.eval()\n",
    "y_pred, y_true = [], []\n",
    "with torch.no_grad():\n",
    "    for sample in test_loader:\n",
    "        test_h = tuple([each.data for each in test_h])\n",
    "        x = sample['x'].to(device)\n",
    "        y = sample['y'].to(device)\n",
    "        p, test_h = model.predict_proba(x, test_h, 1)\n",
    "        y_pred.append(p.cpu().detach().numpy())\n",
    "        y_true.append(y.cpu().detach().numpy())\n",
    "y_pred = np.concatenate(y_pred)\n",
    "y_true = np.concatenate(y_true)\n",
    "#if return_names:\n",
    "#    preds = np.argmax(y_pred, axis=1)\n",
    "#    predictions = [num2class[i] for i in preds]\n",
    "#    predicted_label = pd.DataFrame({\"cellname\":test_gene_mat.index, \"predictions\":predictions})\n",
    "#    return predicted_label\n",
    "#return y_pred"
   ]
  },
  {
   "cell_type": "code",
   "execution_count": 27,
   "id": "spoken-general",
   "metadata": {},
   "outputs": [],
   "source": [
    "preds = np.argmax(y_pred, axis=1)\n",
    "predictions = [num2class[i] for i in preds]\n",
    "trues = [num2class[i] for i in y_true]"
   ]
  },
  {
   "cell_type": "code",
   "execution_count": 28,
   "id": "metric-maldives",
   "metadata": {},
   "outputs": [
    {
     "data": {
      "text/plain": [
       "(22016, 10)"
      ]
     },
     "execution_count": 28,
     "metadata": {},
     "output_type": "execute_result"
    }
   ],
   "source": [
    "y_pred.shape"
   ]
  },
  {
   "cell_type": "code",
   "execution_count": 29,
   "id": "consistent-dietary",
   "metadata": {},
   "outputs": [
    {
     "data": {
      "text/plain": [
       "(22016,)"
      ]
     },
     "execution_count": 29,
     "metadata": {},
     "output_type": "execute_result"
    }
   ],
   "source": [
    "y_true.shape"
   ]
  },
  {
   "cell_type": "code",
   "execution_count": 30,
   "id": "committed-calibration",
   "metadata": {},
   "outputs": [
    {
     "data": {
      "image/png": "[encoded data removed]",
      "text/plain": [
       "<Figure size 720x576 with 2 Axes>"
      ]
     },
     "metadata": {
      "needs_background": "light"
     },
     "output_type": "display_data"
    }
   ],
   "source": [
    "## Evaluate\n",
    "plot_cfmt(y_pred, y_true, \"test_cf_t1.pdf\")"
   ]
  },
  {
   "cell_type": "code",
   "execution_count": 31,
   "id": "nuclear-punishment",
   "metadata": {},
   "outputs": [],
   "source": [
    "test_h = model.init_hidden(batch_size)\n",
    "model.eval()\n",
    "y_pred, y_true = [], []\n",
    "with torch.no_grad():\n",
    "    for sample in test_loader:\n",
    "        test_h = tuple([each.data for each in test_h])\n",
    "        x = sample['x'].to(device)\n",
    "        y = sample['y'].to(device)\n",
    "        p, test_h = model.predict_proba(x, test_h, 2)\n",
    "        y_pred.append(p.cpu().detach().numpy())\n",
    "        y_true.append(y.cpu().detach().numpy())\n",
    "y_pred = np.concatenate(y_pred)\n",
    "y_true = np.concatenate(y_true)\n",
    "#if return_names:\n",
    "#    preds = np.argmax(y_pred, axis=1)\n",
    "#    predictions = [num2class[i] for i in preds]\n",
    "#    predicted_label = pd.DataFrame({\"cellname\":test_gene_mat.index, \"predictions\":predictions})\n",
    "#    return predicted_label\n",
    "#return y_pred"
   ]
  },
  {
   "cell_type": "code",
   "execution_count": 32,
   "id": "champion-subdivision",
   "metadata": {},
   "outputs": [],
   "source": [
    "preds = np.argmax(y_pred, axis=1)\n",
    "predictions = [num2class[i] for i in preds]\n",
    "trues = [num2class[i] for i in y_true]"
   ]
  },
  {
   "cell_type": "code",
   "execution_count": 33,
   "id": "objective-toddler",
   "metadata": {},
   "outputs": [
    {
     "data": {
      "text/plain": [
       "(22016, 10)"
      ]
     },
     "execution_count": 33,
     "metadata": {},
     "output_type": "execute_result"
    }
   ],
   "source": [
    "y_pred.shape"
   ]
  },
  {
   "cell_type": "code",
   "execution_count": 34,
   "id": "unique-programming",
   "metadata": {},
   "outputs": [
    {
     "data": {
      "text/plain": [
       "(22016,)"
      ]
     },
     "execution_count": 34,
     "metadata": {},
     "output_type": "execute_result"
    }
   ],
   "source": [
    "y_true.shape"
   ]
  },
  {
   "cell_type": "code",
   "execution_count": 35,
   "id": "gorgeous-friendly",
   "metadata": {},
   "outputs": [
    {
     "data": {
      "image/png": "[encoded data removed]",
      "text/plain": [
       "<Figure size 720x576 with 2 Axes>"
      ]
     },
     "metadata": {
      "needs_background": "light"
     },
     "output_type": "display_data"
    }
   ],
   "source": [
    "## Evaluate\n",
    "plot_cfmt(y_pred, y_true, \"test_cf_t2.pdf\")"
   ]
  },
  {
   "cell_type": "code",
   "execution_count": 36,
   "id": "specified-rendering",
   "metadata": {},
   "outputs": [],
   "source": [
    "test_h = model.init_hidden(batch_size)\n",
    "model.eval()\n",
    "y_pred, y_true = [], []\n",
    "with torch.no_grad():\n",
    "    for sample in test_loader:\n",
    "        test_h = tuple([each.data for each in test_h])\n",
    "        x = sample['x'].to(device)\n",
    "        y = sample['y'].to(device)\n",
    "        p, test_h = model.predict_proba(x, test_h, 3)\n",
    "        y_pred.append(p.cpu().detach().numpy())\n",
    "        y_true.append(y.cpu().detach().numpy())\n",
    "y_pred = np.concatenate(y_pred)\n",
    "y_true = np.concatenate(y_true)\n",
    "#if return_names:\n",
    "#    preds = np.argmax(y_pred, axis=1)\n",
    "#    predictions = [num2class[i] for i in preds]\n",
    "#    predicted_label = pd.DataFrame({\"cellname\":test_gene_mat.index, \"predictions\":predictions})\n",
    "#    return predicted_label\n",
    "#return y_pred"
   ]
  },
  {
   "cell_type": "code",
   "execution_count": 37,
   "id": "paperback-drama",
   "metadata": {},
   "outputs": [],
   "source": [
    "preds = np.argmax(y_pred, axis=1)\n",
    "predictions = [num2class[i] for i in preds]\n",
    "trues = [num2class[i] for i in y_true]"
   ]
  },
  {
   "cell_type": "code",
   "execution_count": 38,
   "id": "hungry-ordering",
   "metadata": {},
   "outputs": [
    {
     "data": {
      "text/plain": [
       "(22016, 10)"
      ]
     },
     "execution_count": 38,
     "metadata": {},
     "output_type": "execute_result"
    }
   ],
   "source": [
    "y_pred.shape"
   ]
  },
  {
   "cell_type": "code",
   "execution_count": 39,
   "id": "documented-stomach",
   "metadata": {},
   "outputs": [
    {
     "data": {
      "text/plain": [
       "(22016,)"
      ]
     },
     "execution_count": 39,
     "metadata": {},
     "output_type": "execute_result"
    }
   ],
   "source": [
    "y_true.shape"
   ]
  },
  {
   "cell_type": "code",
   "execution_count": null,
   "id": "dense-avenue",
   "metadata": {},
   "outputs": [
    {
     "data": {
      "image/png": "[encoded data removed]",
      "text/plain": [
       "<Figure size 720x576 with 2 Axes>"
      ]
     },
     "metadata": {
      "needs_background": "light"
     },
     "output_type": "display_data"
    }
   ],
   "source": [
    "## Evaluate\n",
    "plot_cfmt(y_pred, y_true, \"test_cf_t3.pdf\")"
   ]
  }
 ],
 "metadata": {
  "kernelspec": {
   "display_name": "Python 3 (ipykernel)",
   "language": "python",
   "name": "python3"
  },
  "language_info": {
   "codemirror_mode": {
    "name": "ipython",
    "version": 3
   },
   "file_extension": ".py",
   "mimetype": "text/x-python",
   "name": "python",
   "nbconvert_exporter": "python",
   "pygments_lexer": "ipython3",
   "version": "3.11.0"
  }
 },
 "nbformat": 4,
 "nbformat_minor": 5
}
