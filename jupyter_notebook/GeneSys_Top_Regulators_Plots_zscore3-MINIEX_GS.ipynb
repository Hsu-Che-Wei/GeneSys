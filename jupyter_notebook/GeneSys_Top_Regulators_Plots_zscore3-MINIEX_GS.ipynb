{
 "cells": [
  {
   "cell_type": "code",
   "execution_count": 1,
   "id": "3756b38d-b8e0-4ca3-8866-ef83c49e7da1",
   "metadata": {},
   "outputs": [
    {
     "data": {
      "text/html": [
       "<table class=\"dataframe\">\n",
       "<caption>A matrix: 2 x 6 of type dbl</caption>\n",
       "<thead>\n",
       "\t<tr><th></th><th scope=col>used</th><th scope=col>(Mb)</th><th scope=col>gc trigger</th><th scope=col>(Mb)</th><th scope=col>max used</th><th scope=col>(Mb)</th></tr>\n",
       "</thead>\n",
       "<tbody>\n",
       "\t<tr><th scope=row>Ncells</th><td> 624136</td><td>33.4</td><td>1358941</td><td>72.6</td><td>1358941</td><td>72.6</td></tr>\n",
       "\t<tr><th scope=row>Vcells</th><td>1157035</td><td> 8.9</td><td>8388608</td><td>64.0</td><td>1802277</td><td>13.8</td></tr>\n",
       "</tbody>\n",
       "</table>\n"
      ],
      "text/latex": [
       "A matrix: 2 x 6 of type dbl\n",
       "\\begin{tabular}{r|llllll}\n",
       "  & used & (Mb) & gc trigger & (Mb) & max used & (Mb)\\\\\n",
       "\\hline\n",
       "\tNcells &  624136 & 33.4 & 1358941 & 72.6 & 1358941 & 72.6\\\\\n",
       "\tVcells & 1157035 &  8.9 & 8388608 & 64.0 & 1802277 & 13.8\\\\\n",
       "\\end{tabular}\n"
      ],
      "text/markdown": [
       "\n",
       "A matrix: 2 x 6 of type dbl\n",
       "\n",
       "| <!--/--> | used | (Mb) | gc trigger | (Mb) | max used | (Mb) |\n",
       "|---|---|---|---|---|---|---|\n",
       "| Ncells |  624136 | 33.4 | 1358941 | 72.6 | 1358941 | 72.6 |\n",
       "| Vcells | 1157035 |  8.9 | 8388608 | 64.0 | 1802277 | 13.8 |\n",
       "\n"
      ],
      "text/plain": [
       "       used    (Mb) gc trigger (Mb) max used (Mb)\n",
       "Ncells  624136 33.4 1358941    72.6 1358941  72.6\n",
       "Vcells 1157035  8.9 8388608    64.0 1802277  13.8"
      ]
     },
     "metadata": {},
     "output_type": "display_data"
    }
   ],
   "source": [
    "rm(list=ls())\n",
    "gc()\n",
    "setwd(\"/hpc/group/pbenfeylab/CheWei/CW_data/genesys/\")"
   ]
  },
  {
   "cell_type": "code",
   "execution_count": 2,
   "id": "921872d1-7f78-464f-b0c4-6c0e1f25fbea",
   "metadata": {},
   "outputs": [
    {
     "name": "stderr",
     "output_type": "stream",
     "text": [
      "Warning message:\n",
      "“package ‘ggplot2’ was built under R version 4.2.3”\n",
      "Warning message:\n",
      "“package ‘dplyr’ was built under R version 4.2.3”\n"
     ]
    }
   ],
   "source": [
    "## Need seu4\n",
    "suppressMessages(library(Seurat))\n",
    "suppressMessages(library(cowplot))\n",
    "suppressMessages(library(scattermore))\n",
    "suppressMessages(library(scater))\n",
    "suppressMessages(library(cowplot))\n",
    "suppressMessages(library(RColorBrewer))\n",
    "suppressMessages(library(grid))\n",
    "suppressMessages(library(gplots))\n",
    "suppressMessages(library(circular))\n",
    "suppressMessages(library(ggplot2))\n",
    "suppressMessages(library(ggnewscale))\n",
    "suppressMessages(library(tidyverse))\n",
    "suppressMessages(library(ComplexHeatmap))\n",
    "suppressMessages(library(circlize))\n",
    "suppressMessages(library(patchwork))"
   ]
  },
  {
   "cell_type": "code",
   "execution_count": 3,
   "id": "667045d7-c466-40ce-903f-a3e3e364c14a",
   "metadata": {},
   "outputs": [
    {
     "data": {
      "text/plain": [
       "R version 4.2.2 (2022-10-31)\n",
       "Platform: x86_64-conda-linux-gnu (64-bit)\n",
       "Running under: CentOS Stream 8\n",
       "\n",
       "Matrix products: default\n",
       "BLAS/LAPACK: /hpc/group/pbenfeylab/ch416/miniconda3/envs/seu4/lib/libopenblasp-r0.3.21.so\n",
       "\n",
       "locale:\n",
       " [1] LC_CTYPE=C.UTF-8           LC_NUMERIC=C              \n",
       " [3] LC_TIME=en_US.UTF-8        LC_COLLATE=en_US.UTF-8    \n",
       " [5] LC_MONETARY=en_US.UTF-8    LC_MESSAGES=en_US.UTF-8   \n",
       " [7] LC_PAPER=en_US.UTF-8       LC_NAME=C                 \n",
       " [9] LC_ADDRESS=C               LC_TELEPHONE=C            \n",
       "[11] LC_MEASUREMENT=en_US.UTF-8 LC_IDENTIFICATION=C       \n",
       "\n",
       "attached base packages:\n",
       "[1] grid      stats4    stats     graphics  grDevices utils     datasets \n",
       "[8] methods   base     \n",
       "\n",
       "other attached packages:\n",
       " [1] patchwork_1.1.2             circlize_0.4.15            \n",
       " [3] ComplexHeatmap_2.14.0       forcats_0.5.2              \n",
       " [5] stringr_1.5.0               dplyr_1.1.1                \n",
       " [7] purrr_1.0.1                 readr_2.1.3                \n",
       " [9] tidyr_1.3.0                 tibble_3.2.1               \n",
       "[11] tidyverse_1.3.2             ggnewscale_0.4.8           \n",
       "[13] circular_0.4-95             gplots_3.1.3               \n",
       "[15] RColorBrewer_1.1-3          scater_1.26.0              \n",
       "[17] ggplot2_3.4.2               scuttle_1.8.0              \n",
       "[19] SingleCellExperiment_1.20.0 SummarizedExperiment_1.28.0\n",
       "[21] Biobase_2.58.0              GenomicRanges_1.50.0       \n",
       "[23] GenomeInfoDb_1.34.8         IRanges_2.32.0             \n",
       "[25] S4Vectors_0.36.0            BiocGenerics_0.44.0        \n",
       "[27] MatrixGenerics_1.10.0       matrixStats_0.63.0         \n",
       "[29] scattermore_0.8             cowplot_1.1.1              \n",
       "[31] SeuratObject_4.1.3          Seurat_4.1.1.9001          \n",
       "\n",
       "loaded via a namespace (and not attached):\n",
       "  [1] utf8_1.2.3                spatstat.explore_3.1-0   \n",
       "  [3] reticulate_1.28           tidyselect_1.2.0         \n",
       "  [5] htmlwidgets_1.6.2         BiocParallel_1.32.5      \n",
       "  [7] Rtsne_0.16                munsell_0.5.0            \n",
       "  [9] ScaledMatrix_1.6.0        codetools_0.2-19         \n",
       " [11] ica_1.0-3                 pbdZMQ_0.3-8             \n",
       " [13] future_1.32.0             miniUI_0.1.1.1           \n",
       " [15] withr_2.5.0               spatstat.random_3.1-4    \n",
       " [17] colorspace_2.1-0          progressr_0.13.0         \n",
       " [19] uuid_1.1-0                ROCR_1.0-11              \n",
       " [21] tensor_1.5                listenv_0.9.0            \n",
       " [23] repr_1.1.4                GenomeInfoDbData_1.2.9   \n",
       " [25] polyclip_1.10-4           parallelly_1.35.0        \n",
       " [27] vctrs_0.6.2               generics_0.1.3           \n",
       " [29] timechange_0.1.1          doParallel_1.0.17        \n",
       " [31] R6_2.5.1                  clue_0.3-64              \n",
       " [33] ggbeeswarm_0.7.1          rsvd_1.0.5               \n",
       " [35] bitops_1.0-7              spatstat.utils_3.0-2     \n",
       " [37] DelayedArray_0.24.0       assertthat_0.2.1         \n",
       " [39] promises_1.2.0.1          scales_1.2.1             \n",
       " [41] googlesheets4_1.0.1       beeswarm_0.4.0           \n",
       " [43] gtable_0.3.3              beachmat_2.14.0          \n",
       " [45] globals_0.16.2            goftest_1.2-3            \n",
       " [47] rlang_1.1.0               GlobalOptions_0.1.2      \n",
       " [49] splines_4.2.2             lazyeval_0.2.2           \n",
       " [51] gargle_1.2.1              spatstat.geom_3.1-0      \n",
       " [53] broom_1.0.2               modelr_0.1.10            \n",
       " [55] reshape2_1.4.4            abind_1.4-5              \n",
       " [57] backports_1.4.1           httpuv_1.6.9             \n",
       " [59] tools_4.2.2               ellipsis_0.3.2           \n",
       " [61] ggridges_0.5.4            Rcpp_1.0.10              \n",
       " [63] plyr_1.8.8                base64enc_0.1-3          \n",
       " [65] sparseMatrixStats_1.10.0  zlibbioc_1.44.0          \n",
       " [67] RCurl_1.98-1.6            deldir_1.0-6             \n",
       " [69] GetoptLong_1.0.5          pbapply_1.7-0            \n",
       " [71] viridis_0.6.2             zoo_1.8-12               \n",
       " [73] haven_2.5.1               ggrepel_0.9.3            \n",
       " [75] cluster_2.1.4             fs_1.6.1                 \n",
       " [77] magrittr_2.0.3            data.table_1.14.8        \n",
       " [79] RSpectra_0.16-1           reprex_2.0.2             \n",
       " [81] lmtest_0.9-40             RANN_2.6.1               \n",
       " [83] googledrive_2.0.0         mvtnorm_1.1-3            \n",
       " [85] fitdistrplus_1.1-8        hms_1.1.2                \n",
       " [87] mime_0.12                 evaluate_0.20            \n",
       " [89] xtable_1.8-4              readxl_1.4.1             \n",
       " [91] shape_1.4.6               fastDummies_1.6.3        \n",
       " [93] gridExtra_2.3             compiler_4.2.2           \n",
       " [95] KernSmooth_2.23-20        crayon_1.5.2             \n",
       " [97] htmltools_0.5.5           tzdb_0.3.0               \n",
       " [99] later_1.3.0               lubridate_1.9.0          \n",
       "[101] DBI_1.1.3                 dbplyr_2.2.1             \n",
       "[103] MASS_7.3-58.3             boot_1.3-28.1            \n",
       "[105] Matrix_1.5-4              cli_3.6.1                \n",
       "[107] parallel_4.2.2            igraph_1.4.2             \n",
       "[109] pkgconfig_2.0.3           sp_1.6-0                 \n",
       "[111] IRdisplay_1.1             plotly_4.10.1            \n",
       "[113] spatstat.sparse_3.0-1     foreach_1.5.2            \n",
       "[115] xml2_1.3.3                vipor_0.4.5              \n",
       "[117] XVector_0.38.0            rvest_1.0.3              \n",
       "[119] digest_0.6.31             sctransform_0.3.5        \n",
       "[121] RcppAnnoy_0.0.20          spatstat.data_3.0-1      \n",
       "[123] cellranger_1.1.0          leiden_0.4.3             \n",
       "[125] uwot_0.1.14               DelayedMatrixStats_1.20.0\n",
       "[127] shiny_1.7.4               gtools_3.9.4             \n",
       "[129] rjson_0.2.21              lifecycle_1.0.3          \n",
       "[131] nlme_3.1-162              jsonlite_1.8.4           \n",
       "[133] BiocNeighbors_1.16.0      viridisLite_0.4.1        \n",
       "[135] fansi_1.0.4               pillar_1.9.0             \n",
       "[137] lattice_0.21-8            fastmap_1.1.1            \n",
       "[139] httr_1.4.5                survival_3.4-0           \n",
       "[141] glue_1.6.2                iterators_1.0.14         \n",
       "[143] png_0.1-8                 stringi_1.7.12           \n",
       "[145] RcppHNSW_0.4.1            BiocSingular_1.14.0      \n",
       "[147] caTools_1.18.2            IRkernel_1.3.1.9000      \n",
       "[149] irlba_2.3.5.1             future.apply_1.10.0      "
      ]
     },
     "metadata": {},
     "output_type": "display_data"
    }
   ],
   "source": [
    "sessionInfo()"
   ]
  },
  {
   "cell_type": "markdown",
   "id": "5eed4599-f035-46c1-b9a0-3580345580d3",
   "metadata": {},
   "source": [
    "## Load TF list"
   ]
  },
  {
   "cell_type": "code",
   "execution_count": 4,
   "id": "dbf2e76e-f35e-444c-a318-77f3d1827cf8",
   "metadata": {},
   "outputs": [],
   "source": [
    "wanted_TFs <- read.csv(\"./Kay_TF_thalemine_annotations.csv\")"
   ]
  },
  {
   "cell_type": "code",
   "execution_count": 5,
   "id": "a73856ce-ac8b-4b47-bf08-b5df0bf4c847",
   "metadata": {},
   "outputs": [
    {
     "data": {
      "text/html": [
       "2484"
      ],
      "text/latex": [
       "2484"
      ],
      "text/markdown": [
       "2484"
      ],
      "text/plain": [
       "[1] 2484"
      ]
     },
     "metadata": {},
     "output_type": "display_data"
    }
   ],
   "source": [
    "nrow(wanted_TFs)"
   ]
  },
  {
   "cell_type": "code",
   "execution_count": 6,
   "id": "c41841b7-6f72-4158-b1e1-970458563a6a",
   "metadata": {},
   "outputs": [],
   "source": [
    "## Make TF names unique\n",
    "wanted_TFs$Name[wanted_TFs$GeneID==\"AT2G33880\"]=\"WOX9\"\n",
    "wanted_TFs$Name[wanted_TFs$GeneID==\"AT2G45160\"]=\"SCL27\"\n",
    "wanted_TFs$Name[wanted_TFs$GeneID==\"AT5G04410\"]=\"NAC78\"\n",
    "wanted_TFs$Name[wanted_TFs$GeneID==\"AT3G29035\"]=\"ORS1\"\n",
    "wanted_TFs$Name[wanted_TFs$GeneID==\"AT2G02540\"]=\"ZHD3\"\n",
    "wanted_TFs$Name[wanted_TFs$GeneID==\"AT3G16500\"]=\"IAA26\"\n",
    "wanted_TFs$Name[wanted_TFs$GeneID==\"AT5G09740\"]=\"HAG5\"\n",
    "wanted_TFs$Name[wanted_TFs$GeneID==\"AT4G24660\"]=\"ZHD2\"\n",
    "wanted_TFs$Name[wanted_TFs$GeneID==\"AT5G46880\"]=\"HDG5\"\n",
    "wanted_TFs$Name[wanted_TFs$GeneID==\"AT1G28420\"]=\"RLT1\"\n",
    "wanted_TFs$Name[wanted_TFs$GeneID==\"AT1G14580\"]=\"BLJ\"\n",
    "wanted_TFs$Name[wanted_TFs$GeneID==\"AT3G45260\"]=\"BIB\"\n",
    "wanted_TFs$Name[wanted_TFs$GeneID==\"AT2G02070\"]=\"RVN\"\n",
    "wanted_TFs$Name[wanted_TFs$GeneID==\"AT2G28160\"]=\"FIT\"\n",
    "wanted_TFs$Name[wanted_TFs$GeneID==\"AT1G68360\"]=\"GIS3\"\n",
    "wanted_TFs$Name[wanted_TFs$GeneID==\"AT1G20640\"]=\"NLP4\"\n",
    "wanted_TFs$Name[wanted_TFs$GeneID==\"AT5G05550\"]=\"VFP5\"\n",
    "wanted_TFs$Name[wanted_TFs$GeneID==\"AT3G59470\"]=\"FRF1\"\n",
    "wanted_TFs$Name[wanted_TFs$GeneID==\"AT5G15150\"]=\"HAT7\"\n",
    "wanted_TFs$Name[wanted_TFs$GeneID==\"AT5G14750\"]=\"WER\"\n",
    "wanted_TFs$Name[wanted_TFs$GeneID==\"AT1G75710\"]=\"BRON\"\n",
    "wanted_TFs$Name[wanted_TFs$GeneID==\"AT1G74500\"]=\"TMO7\"\n",
    "wanted_TFs$Name[wanted_TFs$GeneID==\"AT2G12646\"]=\"RITF1\"\n",
    "wanted_TFs$Name[wanted_TFs$GeneID==\"AT3G48100\"]=\"ARR5\"\n",
    "wanted_TFs$Name[wanted_TFs$GeneID==\"AT4G16141\"]=\"GATA17L\"\n",
    "wanted_TFs$Name[wanted_TFs$GeneID==\"AT5G65640\"]=\"NFL\"\n",
    "wanted_TFs$Name[wanted_TFs$GeneID==\"AT1G62700\"]=\"VND5\"\n",
    "wanted_TFs$Name[wanted_TFs$GeneID==\"AT4G36160\"]=\"VND2\"\n",
    "wanted_TFs$Name[wanted_TFs$GeneID==\"AT5G66300\"]=\"VND3\"\n",
    "wanted_TFs$Name[wanted_TFs$GeneID==\"AT1G12260\"]=\"VND4\"\n",
    "wanted_TFs$Name[wanted_TFs$GeneID==\"AT5G62380\"]=\"VND6\""
   ]
  },
  {
   "cell_type": "code",
   "execution_count": 7,
   "id": "99f3420b-6e03-4dd8-ad03-1f0984f5bd67",
   "metadata": {},
   "outputs": [
    {
     "data": {
      "text/html": [
       "'TTG1'"
      ],
      "text/latex": [
       "'TTG1'"
      ],
      "text/markdown": [
       "'TTG1'"
      ],
      "text/plain": [
       "[1] \"TTG1\""
      ]
     },
     "metadata": {},
     "output_type": "display_data"
    }
   ],
   "source": [
    "## TTG1\n",
    "wanted_TFs$Name[wanted_TFs$GeneID==\"AT5G24520\"]"
   ]
  },
  {
   "cell_type": "code",
   "execution_count": 8,
   "id": "428ea6a3-e401-4535-8e31-b153f32e1691",
   "metadata": {},
   "outputs": [
    {
     "data": {
      "text/html": [],
      "text/latex": [],
      "text/markdown": [],
      "text/plain": [
       "character(0)"
      ]
     },
     "metadata": {},
     "output_type": "display_data"
    }
   ],
   "source": [
    "## SCRAMBLED\n",
    "wanted_TFs$Name[wanted_TFs$GeneID==\"AT1G11130\"]"
   ]
  },
  {
   "cell_type": "code",
   "execution_count": 9,
   "id": "2f806632-cd0c-4bb4-a6c6-87e458efe2df",
   "metadata": {},
   "outputs": [
    {
     "data": {
      "text/html": [
       "'CPC'"
      ],
      "text/latex": [
       "'CPC'"
      ],
      "text/markdown": [
       "'CPC'"
      ],
      "text/plain": [
       "[1] \"CPC\""
      ]
     },
     "metadata": {},
     "output_type": "display_data"
    }
   ],
   "source": [
    "## CAPRICE\n",
    "wanted_TFs$Name[wanted_TFs$GeneID==\"AT2G46410\"]"
   ]
  },
  {
   "cell_type": "markdown",
   "id": "0a2baea5-45b8-4dc1-b98a-2db0745c929a",
   "metadata": {},
   "source": [
    "### Load GRN centrality scores for each transition"
   ]
  },
  {
   "cell_type": "code",
   "execution_count": 10,
   "id": "24dc04dc-e629-484e-b7a4-23d4129aa167",
   "metadata": {},
   "outputs": [],
   "source": [
    "stem2pro <- read.csv(\"./TF_GRN_centrality_t0-t1_zscore3.csv\")\n",
    "pro2trans <- read.csv(\"./TF_GRN_centrality_t1-t3_zscore3.csv\")\n",
    "trans2el <- read.csv(\"./TF_GRN_centrality_t3-t5_zscore3.csv\")\n",
    "el2el <- read.csv(\"./TF_GRN_centrality_t5-t7_zscore3.csv\")\n",
    "el2mat <- read.csv(\"./TF_GRN_centrality_t7-t9_zscore3.csv\")"
   ]
  },
  {
   "cell_type": "code",
   "execution_count": 11,
   "id": "8a8a19af-ada3-43f9-bdc0-0d099b1e135a",
   "metadata": {},
   "outputs": [
    {
     "data": {
      "text/html": [
       "<table class=\"dataframe\">\n",
       "<caption>A data.frame: 6 x 62</caption>\n",
       "<thead>\n",
       "\t<tr><th></th><th scope=col>X</th><th scope=col>tf_occurance</th><th scope=col>atri_degree_centrality</th><th scope=col>atri_out_centrality</th><th scope=col>atri_in_centrality</th><th scope=col>atri_betweenness_centrality</th><th scope=col>atri_closeness_centrality</th><th scope=col>atri_eigenvector_centrality</th><th scope=col>tri_degree_centrality</th><th scope=col>tri_out_centrality</th><th scope=col>...</th><th scope=col>phl_in_centrality</th><th scope=col>phl_betweenness_centrality</th><th scope=col>phl_closeness_centrality</th><th scope=col>phl_eigenvector_centrality</th><th scope=col>col_degree_centrality</th><th scope=col>col_out_centrality</th><th scope=col>col_in_centrality</th><th scope=col>col_betweenness_centrality</th><th scope=col>col_closeness_centrality</th><th scope=col>col_eigenvector_centrality</th></tr>\n",
       "\t<tr><th></th><th scope=col>&lt;chr&gt;</th><th scope=col>&lt;dbl&gt;</th><th scope=col>&lt;dbl&gt;</th><th scope=col>&lt;dbl&gt;</th><th scope=col>&lt;dbl&gt;</th><th scope=col>&lt;dbl&gt;</th><th scope=col>&lt;dbl&gt;</th><th scope=col>&lt;dbl&gt;</th><th scope=col>&lt;dbl&gt;</th><th scope=col>&lt;dbl&gt;</th><th scope=col>...</th><th scope=col>&lt;dbl&gt;</th><th scope=col>&lt;dbl&gt;</th><th scope=col>&lt;dbl&gt;</th><th scope=col>&lt;dbl&gt;</th><th scope=col>&lt;dbl&gt;</th><th scope=col>&lt;dbl&gt;</th><th scope=col>&lt;dbl&gt;</th><th scope=col>&lt;dbl&gt;</th><th scope=col>&lt;dbl&gt;</th><th scope=col>&lt;dbl&gt;</th></tr>\n",
       "</thead>\n",
       "<tbody>\n",
       "\t<tr><th scope=row>1</th><td>GAMMA-H2AX</td><td>10</td><td>0.8986486</td><td>0.3445946</td><td>0.55405405</td><td>0.824314156</td><td>0.001607054</td><td>0.11806416</td><td>0.80544747</td><td>0.12451362</td><td>...</td><td>0.1495017</td><td>0.248917916</td><td>0.0011086941</td><td>0.06175429</td><td>0.07805907</td><td>0.02742616</td><td>0.05063291</td><td>0.31334238</td><td>0.0003917786</td><td>0.03439140</td></tr>\n",
       "\t<tr><th scope=row>2</th><td>CRF2      </td><td> 9</td><td>0.9729730</td><td>0.4436937</td><td>0.52927928</td><td>0.987777846</td><td>0.001552485</td><td>0.12188729</td><td>1.17898833</td><td>0.73929961</td><td>...</td><td>0.3172757</td><td>0.630057324</td><td>0.0013108166</td><td>0.07501625</td><td>0.79746835</td><td>0.33438819</td><td>0.46308017</td><td>0.93998481</td><td>0.0005974520</td><td>0.11139614</td></tr>\n",
       "\t<tr><th scope=row>3</th><td>HMGB6     </td><td> 9</td><td>0.2612613</td><td>0.2049550</td><td>0.05630631</td><td>0.002308177</td><td>0.001400878</td><td>0.06217343</td><td>0.45136187</td><td>0.28015564</td><td>...</td><td>0.1029900</td><td>0.005635679</td><td>0.0009932707</td><td>0.04870514</td><td>0.03375527</td><td>0.01582278</td><td>0.01793249</td><td>0.00000000</td><td>0.0003046752</td><td>0.01628732</td></tr>\n",
       "\t<tr><th scope=row>4</th><td>HAT1      </td><td> 9</td><td>0.4054054</td><td>0.2162162</td><td>0.18918919</td><td>0.002852175</td><td>0.001266005</td><td>0.07435692</td><td>0.05058366</td><td>0.04669261</td><td>...</td><td>0.4302326</td><td>0.967158833</td><td>0.0012671678</td><td>0.08334429</td><td>0.48206751</td><td>0.24156118</td><td>0.24050633</td><td>0.02677119</td><td>0.0005415002</td><td>0.09398170</td></tr>\n",
       "\t<tr><th scope=row>5</th><td>GRP2B     </td><td> 9</td><td>0.2702703</td><td>0.1238739</td><td>0.14639640</td><td>0.038954304</td><td>0.001162324</td><td>0.06130034</td><td>0.00000000</td><td>0.00000000</td><td>...</td><td>0.5332226</td><td>0.966937717</td><td>0.0012946771</td><td>0.08259318</td><td>0.67299578</td><td>0.41561181</td><td>0.25738397</td><td>0.28124346</td><td>0.0005718634</td><td>0.10969489</td></tr>\n",
       "\t<tr><th scope=row>6</th><td>HB-2      </td><td> 9</td><td>0.5045045</td><td>0.3243243</td><td>0.18018018</td><td>0.621901247</td><td>0.001388507</td><td>0.08859595</td><td>0.04669261</td><td>0.01167315</td><td>...</td><td>0.3039867</td><td>0.856015169</td><td>0.0013859050</td><td>0.08585141</td><td>0.54852321</td><td>0.13502110</td><td>0.41350211</td><td>0.01482474</td><td>0.0005300467</td><td>0.10354056</td></tr>\n",
       "</tbody>\n",
       "</table>\n"
      ],
      "text/latex": [
       "A data.frame: 6 x 62\n",
       "\\begin{tabular}{r|lllllllllllllllllllll}\n",
       "  & X & tf\\_occurance & atri\\_degree\\_centrality & atri\\_out\\_centrality & atri\\_in\\_centrality & atri\\_betweenness\\_centrality & atri\\_closeness\\_centrality & atri\\_eigenvector\\_centrality & tri\\_degree\\_centrality & tri\\_out\\_centrality & ... & phl\\_in\\_centrality & phl\\_betweenness\\_centrality & phl\\_closeness\\_centrality & phl\\_eigenvector\\_centrality & col\\_degree\\_centrality & col\\_out\\_centrality & col\\_in\\_centrality & col\\_betweenness\\_centrality & col\\_closeness\\_centrality & col\\_eigenvector\\_centrality\\\\\n",
       "  & <chr> & <dbl> & <dbl> & <dbl> & <dbl> & <dbl> & <dbl> & <dbl> & <dbl> & <dbl> & ... & <dbl> & <dbl> & <dbl> & <dbl> & <dbl> & <dbl> & <dbl> & <dbl> & <dbl> & <dbl>\\\\\n",
       "\\hline\n",
       "\t1 & GAMMA-H2AX & 10 & 0.8986486 & 0.3445946 & 0.55405405 & 0.824314156 & 0.001607054 & 0.11806416 & 0.80544747 & 0.12451362 & ... & 0.1495017 & 0.248917916 & 0.0011086941 & 0.06175429 & 0.07805907 & 0.02742616 & 0.05063291 & 0.31334238 & 0.0003917786 & 0.03439140\\\\\n",
       "\t2 & CRF2       &  9 & 0.9729730 & 0.4436937 & 0.52927928 & 0.987777846 & 0.001552485 & 0.12188729 & 1.17898833 & 0.73929961 & ... & 0.3172757 & 0.630057324 & 0.0013108166 & 0.07501625 & 0.79746835 & 0.33438819 & 0.46308017 & 0.93998481 & 0.0005974520 & 0.11139614\\\\\n",
       "\t3 & HMGB6      &  9 & 0.2612613 & 0.2049550 & 0.05630631 & 0.002308177 & 0.001400878 & 0.06217343 & 0.45136187 & 0.28015564 & ... & 0.1029900 & 0.005635679 & 0.0009932707 & 0.04870514 & 0.03375527 & 0.01582278 & 0.01793249 & 0.00000000 & 0.0003046752 & 0.01628732\\\\\n",
       "\t4 & HAT1       &  9 & 0.4054054 & 0.2162162 & 0.18918919 & 0.002852175 & 0.001266005 & 0.07435692 & 0.05058366 & 0.04669261 & ... & 0.4302326 & 0.967158833 & 0.0012671678 & 0.08334429 & 0.48206751 & 0.24156118 & 0.24050633 & 0.02677119 & 0.0005415002 & 0.09398170\\\\\n",
       "\t5 & GRP2B      &  9 & 0.2702703 & 0.1238739 & 0.14639640 & 0.038954304 & 0.001162324 & 0.06130034 & 0.00000000 & 0.00000000 & ... & 0.5332226 & 0.966937717 & 0.0012946771 & 0.08259318 & 0.67299578 & 0.41561181 & 0.25738397 & 0.28124346 & 0.0005718634 & 0.10969489\\\\\n",
       "\t6 & HB-2       &  9 & 0.5045045 & 0.3243243 & 0.18018018 & 0.621901247 & 0.001388507 & 0.08859595 & 0.04669261 & 0.01167315 & ... & 0.3039867 & 0.856015169 & 0.0013859050 & 0.08585141 & 0.54852321 & 0.13502110 & 0.41350211 & 0.01482474 & 0.0005300467 & 0.10354056\\\\\n",
       "\\end{tabular}\n"
      ],
      "text/markdown": [
       "\n",
       "A data.frame: 6 x 62\n",
       "\n",
       "| <!--/--> | X &lt;chr&gt; | tf_occurance &lt;dbl&gt; | atri_degree_centrality &lt;dbl&gt; | atri_out_centrality &lt;dbl&gt; | atri_in_centrality &lt;dbl&gt; | atri_betweenness_centrality &lt;dbl&gt; | atri_closeness_centrality &lt;dbl&gt; | atri_eigenvector_centrality &lt;dbl&gt; | tri_degree_centrality &lt;dbl&gt; | tri_out_centrality &lt;dbl&gt; | ... ... | phl_in_centrality &lt;dbl&gt; | phl_betweenness_centrality &lt;dbl&gt; | phl_closeness_centrality &lt;dbl&gt; | phl_eigenvector_centrality &lt;dbl&gt; | col_degree_centrality &lt;dbl&gt; | col_out_centrality &lt;dbl&gt; | col_in_centrality &lt;dbl&gt; | col_betweenness_centrality &lt;dbl&gt; | col_closeness_centrality &lt;dbl&gt; | col_eigenvector_centrality &lt;dbl&gt; |\n",
       "|---|---|---|---|---|---|---|---|---|---|---|---|---|---|---|---|---|---|---|---|---|---|\n",
       "| 1 | GAMMA-H2AX | 10 | 0.8986486 | 0.3445946 | 0.55405405 | 0.824314156 | 0.001607054 | 0.11806416 | 0.80544747 | 0.12451362 | ... | 0.1495017 | 0.248917916 | 0.0011086941 | 0.06175429 | 0.07805907 | 0.02742616 | 0.05063291 | 0.31334238 | 0.0003917786 | 0.03439140 |\n",
       "| 2 | CRF2       |  9 | 0.9729730 | 0.4436937 | 0.52927928 | 0.987777846 | 0.001552485 | 0.12188729 | 1.17898833 | 0.73929961 | ... | 0.3172757 | 0.630057324 | 0.0013108166 | 0.07501625 | 0.79746835 | 0.33438819 | 0.46308017 | 0.93998481 | 0.0005974520 | 0.11139614 |\n",
       "| 3 | HMGB6      |  9 | 0.2612613 | 0.2049550 | 0.05630631 | 0.002308177 | 0.001400878 | 0.06217343 | 0.45136187 | 0.28015564 | ... | 0.1029900 | 0.005635679 | 0.0009932707 | 0.04870514 | 0.03375527 | 0.01582278 | 0.01793249 | 0.00000000 | 0.0003046752 | 0.01628732 |\n",
       "| 4 | HAT1       |  9 | 0.4054054 | 0.2162162 | 0.18918919 | 0.002852175 | 0.001266005 | 0.07435692 | 0.05058366 | 0.04669261 | ... | 0.4302326 | 0.967158833 | 0.0012671678 | 0.08334429 | 0.48206751 | 0.24156118 | 0.24050633 | 0.02677119 | 0.0005415002 | 0.09398170 |\n",
       "| 5 | GRP2B      |  9 | 0.2702703 | 0.1238739 | 0.14639640 | 0.038954304 | 0.001162324 | 0.06130034 | 0.00000000 | 0.00000000 | ... | 0.5332226 | 0.966937717 | 0.0012946771 | 0.08259318 | 0.67299578 | 0.41561181 | 0.25738397 | 0.28124346 | 0.0005718634 | 0.10969489 |\n",
       "| 6 | HB-2       |  9 | 0.5045045 | 0.3243243 | 0.18018018 | 0.621901247 | 0.001388507 | 0.08859595 | 0.04669261 | 0.01167315 | ... | 0.3039867 | 0.856015169 | 0.0013859050 | 0.08585141 | 0.54852321 | 0.13502110 | 0.41350211 | 0.01482474 | 0.0005300467 | 0.10354056 |\n",
       "\n"
      ],
      "text/plain": [
       "  X          tf_occurance atri_degree_centrality atri_out_centrality\n",
       "1 GAMMA-H2AX 10           0.8986486              0.3445946          \n",
       "2 CRF2        9           0.9729730              0.4436937          \n",
       "3 HMGB6       9           0.2612613              0.2049550          \n",
       "4 HAT1        9           0.4054054              0.2162162          \n",
       "5 GRP2B       9           0.2702703              0.1238739          \n",
       "6 HB-2        9           0.5045045              0.3243243          \n",
       "  atri_in_centrality atri_betweenness_centrality atri_closeness_centrality\n",
       "1 0.55405405         0.824314156                 0.001607054              \n",
       "2 0.52927928         0.987777846                 0.001552485              \n",
       "3 0.05630631         0.002308177                 0.001400878              \n",
       "4 0.18918919         0.002852175                 0.001266005              \n",
       "5 0.14639640         0.038954304                 0.001162324              \n",
       "6 0.18018018         0.621901247                 0.001388507              \n",
       "  atri_eigenvector_centrality tri_degree_centrality tri_out_centrality ...\n",
       "1 0.11806416                  0.80544747            0.12451362         ...\n",
       "2 0.12188729                  1.17898833            0.73929961         ...\n",
       "3 0.06217343                  0.45136187            0.28015564         ...\n",
       "4 0.07435692                  0.05058366            0.04669261         ...\n",
       "5 0.06130034                  0.00000000            0.00000000         ...\n",
       "6 0.08859595                  0.04669261            0.01167315         ...\n",
       "  phl_in_centrality phl_betweenness_centrality phl_closeness_centrality\n",
       "1 0.1495017         0.248917916                0.0011086941            \n",
       "2 0.3172757         0.630057324                0.0013108166            \n",
       "3 0.1029900         0.005635679                0.0009932707            \n",
       "4 0.4302326         0.967158833                0.0012671678            \n",
       "5 0.5332226         0.966937717                0.0012946771            \n",
       "6 0.3039867         0.856015169                0.0013859050            \n",
       "  phl_eigenvector_centrality col_degree_centrality col_out_centrality\n",
       "1 0.06175429                 0.07805907            0.02742616        \n",
       "2 0.07501625                 0.79746835            0.33438819        \n",
       "3 0.04870514                 0.03375527            0.01582278        \n",
       "4 0.08334429                 0.48206751            0.24156118        \n",
       "5 0.08259318                 0.67299578            0.41561181        \n",
       "6 0.08585141                 0.54852321            0.13502110        \n",
       "  col_in_centrality col_betweenness_centrality col_closeness_centrality\n",
       "1 0.05063291        0.31334238                 0.0003917786            \n",
       "2 0.46308017        0.93998481                 0.0005974520            \n",
       "3 0.01793249        0.00000000                 0.0003046752            \n",
       "4 0.24050633        0.02677119                 0.0005415002            \n",
       "5 0.25738397        0.28124346                 0.0005718634            \n",
       "6 0.41350211        0.01482474                 0.0005300467            \n",
       "  col_eigenvector_centrality\n",
       "1 0.03439140                \n",
       "2 0.11139614                \n",
       "3 0.01628732                \n",
       "4 0.09398170                \n",
       "5 0.10969489                \n",
       "6 0.10354056                "
      ]
     },
     "metadata": {},
     "output_type": "display_data"
    }
   ],
   "source": [
    "head(stem2pro)"
   ]
  },
  {
   "cell_type": "code",
   "execution_count": 12,
   "id": "aeb9d00c-ad75-40a5-b7a4-4ee00a8a6635",
   "metadata": {},
   "outputs": [],
   "source": [
    "min_max_normalize <- function(data) {\n",
    "  min_val <- min(data)\n",
    "  max_val <- max(data)\n",
    "  normalized_data <- (data - min_val) / (max_val - min_val)\n",
    "  return(normalized_data)\n",
    "}"
   ]
  },
  {
   "cell_type": "code",
   "execution_count": 13,
   "id": "0774f4d4-f7b1-40f9-af9e-2a6af5f6889b",
   "metadata": {},
   "outputs": [
    {
     "data": {
      "text/plain": [
       "   Min. 1st Qu.  Median    Mean 3rd Qu.    Max. \n",
       " 0.0000  0.0000  0.0000  0.0236  0.0000  0.9904 "
      ]
     },
     "metadata": {},
     "output_type": "display_data"
    }
   ],
   "source": [
    "summary(stem2pro$tri_betweenness_centrality)"
   ]
  },
  {
   "cell_type": "code",
   "execution_count": 14,
   "id": "74bb0045-5969-4d2b-b63b-764f9d5d05e8",
   "metadata": {},
   "outputs": [
    {
     "data": {
      "text/plain": [
       "   Min. 1st Qu.  Median    Mean 3rd Qu.    Max. \n",
       "0.00000 0.00000 0.00000 0.02383 0.00000 1.00000 "
      ]
     },
     "metadata": {},
     "output_type": "display_data"
    }
   ],
   "source": [
    "summary(min_max_normalize(stem2pro$tri_betweenness_centrality))"
   ]
  },
  {
   "cell_type": "code",
   "execution_count": 15,
   "id": "90b788ba-d0a5-468c-a943-23a3d3dc637a",
   "metadata": {},
   "outputs": [
    {
     "data": {
      "text/html": [
       "62"
      ],
      "text/latex": [
       "62"
      ],
      "text/markdown": [
       "62"
      ],
      "text/plain": [
       "[1] 62"
      ]
     },
     "metadata": {},
     "output_type": "display_data"
    }
   ],
   "source": [
    "ncol(stem2pro)"
   ]
  },
  {
   "cell_type": "code",
   "execution_count": 16,
   "id": "b3fc3aa6-c6b5-4b18-b556-47239225342b",
   "metadata": {},
   "outputs": [],
   "source": [
    "stem2pro <- as.data.frame(cbind(stem2pro[,1],apply(stem2pro[,3:62],2,min_max_normalize)))\n",
    "pro2trans <- as.data.frame(cbind(pro2trans[,1],apply(pro2trans[,3:62],2,min_max_normalize)))\n",
    "trans2el <- as.data.frame(cbind(trans2el[,1],apply(trans2el[,3:62],2,min_max_normalize)))\n",
    "el2el <- as.data.frame(cbind(el2el[,1],apply(el2el[,3:62],2,min_max_normalize)))\n",
    "el2mat <- as.data.frame(cbind(el2mat[,1],apply(el2mat[,3:62],2,min_max_normalize)))"
   ]
  },
  {
   "cell_type": "code",
   "execution_count": 17,
   "id": "1b3b501b-514e-4a34-b7bf-50c975075616",
   "metadata": {},
   "outputs": [],
   "source": [
    "dat <- stem2pro %>%\n",
    "left_join(pro2trans, by = \"V1\") %>%\n",
    "left_join(trans2el, by = \"V1\") %>%\n",
    "left_join(el2el, by = \"V1\") %>%\n",
    "left_join(el2mat, by = \"V1\") "
   ]
  },
  {
   "cell_type": "code",
   "execution_count": 18,
   "id": "af4ac587-8111-4d3d-8944-c6b03ed3abfe",
   "metadata": {},
   "outputs": [],
   "source": [
    "dat[is.na(dat)] <- 0"
   ]
  },
  {
   "cell_type": "code",
   "execution_count": 19,
   "id": "e93b68a8-09d5-4ef0-8356-8dd9201a3bc7",
   "metadata": {},
   "outputs": [],
   "source": [
    "n <- c('atri_degree_centrality','atri_out_centrality','atri_in_centrality','atri_betweenness_centrality','atri_closeness_centrality','atri_eigenvector_centrality',\n",
    "       'tri_degree_centrality','tri_out_centrality','tri_in_centrality','tri_betweenness_centrality','tri_closeness_centrality','tri_eigenvector_centrality',\n",
    "       'lrc_degree_centrality','lrc_out_centrality','lrc_in_centrality','lrc_betweenness_centrality','lrc_closeness_centrality','lrc_eigenvector_centrality',\n",
    "       'cor_degree_centrality','cor_out_centrality','cor_in_centrality','cor_betweenness_centrality','cor_closeness_centrality','cor_eigenvector_centrality',\n",
    "       'end_degree_centrality','end_out_centrality','end_in_centrality','end_betweenness_centrality','end_closeness_centrality','end_eigenvector_centrality',\n",
    "       'per_degree_centrality','per_out_centrality','per_in_centrality','per_betweenness_centrality','per_closeness_centrality','per_eigenvector_centrality',\n",
    "       'pro_degree_centrality','pro_out_centrality','pro_in_centrality','pro_betweenness_centrality','pro_closeness_centrality','pro_eigenvector_centrality',\n",
    "       'xyl_degree_centrality','xyl_out_centrality','xyl_in_centrality','xyl_betweenness_centrality','xyl_closeness_centrality','xyl_eigenvector_centrality',\n",
    "       'phl_degree_centrality','phl_out_centrality','phl_in_centrality','phl_betweenness_centrality','phl_closeness_centrality','phl_eigenvector_centrality',\n",
    "       'col_degree_centrality','col_out_centrality','col_in_centrality','col_betweenness_centrality','col_closeness_centrality','col_eigenvector_centrality')"
   ]
  },
  {
   "cell_type": "code",
   "execution_count": 20,
   "id": "37cf8bad-3206-4f6b-8f54-28dc5260dcc2",
   "metadata": {},
   "outputs": [],
   "source": [
    "colnames(dat) <- c(\"TF\",gsub(\"$\",\"_1\",n), gsub(\"$\",\"_2\",n),gsub(\"$\",\"_3\",n),gsub(\"$\",\"_4\",n),gsub(\"$\",\"_5\",n))"
   ]
  },
  {
   "cell_type": "code",
   "execution_count": 21,
   "id": "b9f2abc8-5f12-4f38-a59a-19e439c0ab1d",
   "metadata": {},
   "outputs": [],
   "source": [
    "GeneID <- wanted_TFs$GeneID[match(dat$TF, wanted_TFs$Name)]"
   ]
  },
  {
   "cell_type": "code",
   "execution_count": 22,
   "id": "86c441db-1e92-4d54-ab82-c53bb910f41c",
   "metadata": {},
   "outputs": [],
   "source": [
    "dat <- cbind(GeneID, dat)"
   ]
  },
  {
   "cell_type": "code",
   "execution_count": 23,
   "id": "6790cb56-5e20-47da-8e66-e7850fd9668a",
   "metadata": {},
   "outputs": [
    {
     "data": {
      "text/html": [
       "<table class=\"dataframe\">\n",
       "<caption>A data.frame: 6 x 302</caption>\n",
       "<thead>\n",
       "\t<tr><th></th><th scope=col>GeneID</th><th scope=col>TF</th><th scope=col>atri_degree_centrality_1</th><th scope=col>atri_out_centrality_1</th><th scope=col>atri_in_centrality_1</th><th scope=col>atri_betweenness_centrality_1</th><th scope=col>atri_closeness_centrality_1</th><th scope=col>atri_eigenvector_centrality_1</th><th scope=col>tri_degree_centrality_1</th><th scope=col>tri_out_centrality_1</th><th scope=col>...</th><th scope=col>phl_in_centrality_5</th><th scope=col>phl_betweenness_centrality_5</th><th scope=col>phl_closeness_centrality_5</th><th scope=col>phl_eigenvector_centrality_5</th><th scope=col>col_degree_centrality_5</th><th scope=col>col_out_centrality_5</th><th scope=col>col_in_centrality_5</th><th scope=col>col_betweenness_centrality_5</th><th scope=col>col_closeness_centrality_5</th><th scope=col>col_eigenvector_centrality_5</th></tr>\n",
       "\t<tr><th></th><th scope=col>&lt;chr&gt;</th><th scope=col>&lt;chr&gt;</th><th scope=col>&lt;chr&gt;</th><th scope=col>&lt;chr&gt;</th><th scope=col>&lt;chr&gt;</th><th scope=col>&lt;chr&gt;</th><th scope=col>&lt;chr&gt;</th><th scope=col>&lt;chr&gt;</th><th scope=col>&lt;chr&gt;</th><th scope=col>&lt;chr&gt;</th><th scope=col>...</th><th scope=col>&lt;chr&gt;</th><th scope=col>&lt;chr&gt;</th><th scope=col>&lt;chr&gt;</th><th scope=col>&lt;chr&gt;</th><th scope=col>&lt;chr&gt;</th><th scope=col>&lt;chr&gt;</th><th scope=col>&lt;chr&gt;</th><th scope=col>&lt;chr&gt;</th><th scope=col>&lt;chr&gt;</th><th scope=col>&lt;chr&gt;</th></tr>\n",
       "</thead>\n",
       "<tbody>\n",
       "\t<tr><th scope=row>1</th><td>AT1G54690</td><td>GAMMA-H2AX</td><td>0.776264591439689</td><td>0.495145631067961</td><td>0.763975155279503</td><td>0.834513711603393  </td><td>0.940151233514354</td><td>0.954898795508496</td><td>0.63302752293578  </td><td>0.135593220338983 </td><td>...</td><td>0.00353356890459364</td><td>0                  </td><td>0.433778629760381</td><td>0.0384080822193205</td><td>0                  </td><td>0                  </td><td>0                  </td><td>0</td><td>0                </td><td>0                 </td></tr>\n",
       "\t<tr><th scope=row>2</th><td>AT4G23750</td><td>CRF2      </td><td>0.840466926070039</td><td>0.637540453074434</td><td>0.729813664596273</td><td>1                  </td><td>0.90822754077444 </td><td>0.985820114506607</td><td>0.926605504587156 </td><td>0.805084745762712 </td><td>...</td><td>0.0117785630153121 </td><td>0.0001122768497611 </td><td>0.579606861231972</td><td>0.117223661689331 </td><td>0                  </td><td>0                  </td><td>0                  </td><td>0</td><td>0                </td><td>0                 </td></tr>\n",
       "\t<tr><th scope=row>3</th><td>AT5G23420</td><td>HMGB6     </td><td>0.22568093385214 </td><td>0.294498381877023</td><td>0.077639751552795</td><td>0.0023367372148563 </td><td>0.819534761406972</td><td>0.502856548739284</td><td>0.35474006116208  </td><td>0.305084745762712 </td><td>...</td><td>0                  </td><td>0                  </td><td>0                </td><td>0                 </td><td>0                  </td><td>0                  </td><td>0                  </td><td>0</td><td>0                </td><td>0                 </td></tr>\n",
       "\t<tr><th scope=row>4</th><td>AT4G17460</td><td>HAT1      </td><td>0.350194552529183</td><td>0.310679611650485</td><td>0.260869565217391</td><td>0.00288746602981141</td><td>0.740632037115667</td><td>0.601396170660393</td><td>0.0397553516819572</td><td>0.0508474576271186</td><td>...</td><td>0.00235571260306243</td><td>0                  </td><td>0.462623504191286</td><td>0.0384080822193205</td><td>0.00424088210347752</td><td>0.00672268907563025</td><td>0.00171232876712329</td><td>0</td><td>0.534086128307187</td><td>0.0342094681539202</td></tr>\n",
       "\t<tr><th scope=row>5</th><td>AT2G21060</td><td>GRP2B     </td><td>0.233463035019455</td><td>0.177993527508091</td><td>0.201863354037267</td><td>0.0394363007494029 </td><td>0.67997746133997 </td><td>0.495794974854396</td><td>0                 </td><td>0                 </td><td>...</td><td>0.156654888103651  </td><td>0.00484869654894231</td><td>0.874134371864073</td><td>0.556195610463054 </td><td>0.00508905852417303</td><td>0.00672268907563025</td><td>0.00342465753424658</td><td>0</td><td>0.474466815605091</td><td>0.0339845056831895</td></tr>\n",
       "\t<tr><th scope=row>6</th><td>AT4G16780</td><td>HB-2      </td><td>0.43579766536965 </td><td>0.466019417475728</td><td>0.248447204968944</td><td>0.629596269455653  </td><td>0.81229784641811 </td><td>0.716560956988195</td><td>0.036697247706422 </td><td>0.0127118644067797</td><td>...</td><td>0.00117785630153121</td><td>0                  </td><td>0.398777242871396</td><td>0.0289197059513674</td><td>0                  </td><td>0                  </td><td>0                  </td><td>0</td><td>0                </td><td>0                 </td></tr>\n",
       "</tbody>\n",
       "</table>\n"
      ],
      "text/latex": [
       "A data.frame: 6 x 302\n",
       "\\begin{tabular}{r|lllllllllllllllllllll}\n",
       "  & GeneID & TF & atri\\_degree\\_centrality\\_1 & atri\\_out\\_centrality\\_1 & atri\\_in\\_centrality\\_1 & atri\\_betweenness\\_centrality\\_1 & atri\\_closeness\\_centrality\\_1 & atri\\_eigenvector\\_centrality\\_1 & tri\\_degree\\_centrality\\_1 & tri\\_out\\_centrality\\_1 & ... & phl\\_in\\_centrality\\_5 & phl\\_betweenness\\_centrality\\_5 & phl\\_closeness\\_centrality\\_5 & phl\\_eigenvector\\_centrality\\_5 & col\\_degree\\_centrality\\_5 & col\\_out\\_centrality\\_5 & col\\_in\\_centrality\\_5 & col\\_betweenness\\_centrality\\_5 & col\\_closeness\\_centrality\\_5 & col\\_eigenvector\\_centrality\\_5\\\\\n",
       "  & <chr> & <chr> & <chr> & <chr> & <chr> & <chr> & <chr> & <chr> & <chr> & <chr> & ... & <chr> & <chr> & <chr> & <chr> & <chr> & <chr> & <chr> & <chr> & <chr> & <chr>\\\\\n",
       "\\hline\n",
       "\t1 & AT1G54690 & GAMMA-H2AX & 0.776264591439689 & 0.495145631067961 & 0.763975155279503 & 0.834513711603393   & 0.940151233514354 & 0.954898795508496 & 0.63302752293578   & 0.135593220338983  & ... & 0.00353356890459364 & 0                   & 0.433778629760381 & 0.0384080822193205 & 0                   & 0                   & 0                   & 0 & 0                 & 0                 \\\\\n",
       "\t2 & AT4G23750 & CRF2       & 0.840466926070039 & 0.637540453074434 & 0.729813664596273 & 1                   & 0.90822754077444  & 0.985820114506607 & 0.926605504587156  & 0.805084745762712  & ... & 0.0117785630153121  & 0.0001122768497611  & 0.579606861231972 & 0.117223661689331  & 0                   & 0                   & 0                   & 0 & 0                 & 0                 \\\\\n",
       "\t3 & AT5G23420 & HMGB6      & 0.22568093385214  & 0.294498381877023 & 0.077639751552795 & 0.0023367372148563  & 0.819534761406972 & 0.502856548739284 & 0.35474006116208   & 0.305084745762712  & ... & 0                   & 0                   & 0                 & 0                  & 0                   & 0                   & 0                   & 0 & 0                 & 0                 \\\\\n",
       "\t4 & AT4G17460 & HAT1       & 0.350194552529183 & 0.310679611650485 & 0.260869565217391 & 0.00288746602981141 & 0.740632037115667 & 0.601396170660393 & 0.0397553516819572 & 0.0508474576271186 & ... & 0.00235571260306243 & 0                   & 0.462623504191286 & 0.0384080822193205 & 0.00424088210347752 & 0.00672268907563025 & 0.00171232876712329 & 0 & 0.534086128307187 & 0.0342094681539202\\\\\n",
       "\t5 & AT2G21060 & GRP2B      & 0.233463035019455 & 0.177993527508091 & 0.201863354037267 & 0.0394363007494029  & 0.67997746133997  & 0.495794974854396 & 0                  & 0                  & ... & 0.156654888103651   & 0.00484869654894231 & 0.874134371864073 & 0.556195610463054  & 0.00508905852417303 & 0.00672268907563025 & 0.00342465753424658 & 0 & 0.474466815605091 & 0.0339845056831895\\\\\n",
       "\t6 & AT4G16780 & HB-2       & 0.43579766536965  & 0.466019417475728 & 0.248447204968944 & 0.629596269455653   & 0.81229784641811  & 0.716560956988195 & 0.036697247706422  & 0.0127118644067797 & ... & 0.00117785630153121 & 0                   & 0.398777242871396 & 0.0289197059513674 & 0                   & 0                   & 0                   & 0 & 0                 & 0                 \\\\\n",
       "\\end{tabular}\n"
      ],
      "text/markdown": [
       "\n",
       "A data.frame: 6 x 302\n",
       "\n",
       "| <!--/--> | GeneID &lt;chr&gt; | TF &lt;chr&gt; | atri_degree_centrality_1 &lt;chr&gt; | atri_out_centrality_1 &lt;chr&gt; | atri_in_centrality_1 &lt;chr&gt; | atri_betweenness_centrality_1 &lt;chr&gt; | atri_closeness_centrality_1 &lt;chr&gt; | atri_eigenvector_centrality_1 &lt;chr&gt; | tri_degree_centrality_1 &lt;chr&gt; | tri_out_centrality_1 &lt;chr&gt; | ... ... | phl_in_centrality_5 &lt;chr&gt; | phl_betweenness_centrality_5 &lt;chr&gt; | phl_closeness_centrality_5 &lt;chr&gt; | phl_eigenvector_centrality_5 &lt;chr&gt; | col_degree_centrality_5 &lt;chr&gt; | col_out_centrality_5 &lt;chr&gt; | col_in_centrality_5 &lt;chr&gt; | col_betweenness_centrality_5 &lt;chr&gt; | col_closeness_centrality_5 &lt;chr&gt; | col_eigenvector_centrality_5 &lt;chr&gt; |\n",
       "|---|---|---|---|---|---|---|---|---|---|---|---|---|---|---|---|---|---|---|---|---|---|\n",
       "| 1 | AT1G54690 | GAMMA-H2AX | 0.776264591439689 | 0.495145631067961 | 0.763975155279503 | 0.834513711603393   | 0.940151233514354 | 0.954898795508496 | 0.63302752293578   | 0.135593220338983  | ... | 0.00353356890459364 | 0                   | 0.433778629760381 | 0.0384080822193205 | 0                   | 0                   | 0                   | 0 | 0                 | 0                  |\n",
       "| 2 | AT4G23750 | CRF2       | 0.840466926070039 | 0.637540453074434 | 0.729813664596273 | 1                   | 0.90822754077444  | 0.985820114506607 | 0.926605504587156  | 0.805084745762712  | ... | 0.0117785630153121  | 0.0001122768497611  | 0.579606861231972 | 0.117223661689331  | 0                   | 0                   | 0                   | 0 | 0                 | 0                  |\n",
       "| 3 | AT5G23420 | HMGB6      | 0.22568093385214  | 0.294498381877023 | 0.077639751552795 | 0.0023367372148563  | 0.819534761406972 | 0.502856548739284 | 0.35474006116208   | 0.305084745762712  | ... | 0                   | 0                   | 0                 | 0                  | 0                   | 0                   | 0                   | 0 | 0                 | 0                  |\n",
       "| 4 | AT4G17460 | HAT1       | 0.350194552529183 | 0.310679611650485 | 0.260869565217391 | 0.00288746602981141 | 0.740632037115667 | 0.601396170660393 | 0.0397553516819572 | 0.0508474576271186 | ... | 0.00235571260306243 | 0                   | 0.462623504191286 | 0.0384080822193205 | 0.00424088210347752 | 0.00672268907563025 | 0.00171232876712329 | 0 | 0.534086128307187 | 0.0342094681539202 |\n",
       "| 5 | AT2G21060 | GRP2B      | 0.233463035019455 | 0.177993527508091 | 0.201863354037267 | 0.0394363007494029  | 0.67997746133997  | 0.495794974854396 | 0                  | 0                  | ... | 0.156654888103651   | 0.00484869654894231 | 0.874134371864073 | 0.556195610463054  | 0.00508905852417303 | 0.00672268907563025 | 0.00342465753424658 | 0 | 0.474466815605091 | 0.0339845056831895 |\n",
       "| 6 | AT4G16780 | HB-2       | 0.43579766536965  | 0.466019417475728 | 0.248447204968944 | 0.629596269455653   | 0.81229784641811  | 0.716560956988195 | 0.036697247706422  | 0.0127118644067797 | ... | 0.00117785630153121 | 0                   | 0.398777242871396 | 0.0289197059513674 | 0                   | 0                   | 0                   | 0 | 0                 | 0                  |\n",
       "\n"
      ],
      "text/plain": [
       "  GeneID    TF         atri_degree_centrality_1 atri_out_centrality_1\n",
       "1 AT1G54690 GAMMA-H2AX 0.776264591439689        0.495145631067961    \n",
       "2 AT4G23750 CRF2       0.840466926070039        0.637540453074434    \n",
       "3 AT5G23420 HMGB6      0.22568093385214         0.294498381877023    \n",
       "4 AT4G17460 HAT1       0.350194552529183        0.310679611650485    \n",
       "5 AT2G21060 GRP2B      0.233463035019455        0.177993527508091    \n",
       "6 AT4G16780 HB-2       0.43579766536965         0.466019417475728    \n",
       "  atri_in_centrality_1 atri_betweenness_centrality_1\n",
       "1 0.763975155279503    0.834513711603393            \n",
       "2 0.729813664596273    1                            \n",
       "3 0.077639751552795    0.0023367372148563           \n",
       "4 0.260869565217391    0.00288746602981141          \n",
       "5 0.201863354037267    0.0394363007494029           \n",
       "6 0.248447204968944    0.629596269455653            \n",
       "  atri_closeness_centrality_1 atri_eigenvector_centrality_1\n",
       "1 0.940151233514354           0.954898795508496            \n",
       "2 0.90822754077444            0.985820114506607            \n",
       "3 0.819534761406972           0.502856548739284            \n",
       "4 0.740632037115667           0.601396170660393            \n",
       "5 0.67997746133997            0.495794974854396            \n",
       "6 0.81229784641811            0.716560956988195            \n",
       "  tri_degree_centrality_1 tri_out_centrality_1 ... phl_in_centrality_5\n",
       "1 0.63302752293578        0.135593220338983    ... 0.00353356890459364\n",
       "2 0.926605504587156       0.805084745762712    ... 0.0117785630153121 \n",
       "3 0.35474006116208        0.305084745762712    ... 0                  \n",
       "4 0.0397553516819572      0.0508474576271186   ... 0.00235571260306243\n",
       "5 0                       0                    ... 0.156654888103651  \n",
       "6 0.036697247706422       0.0127118644067797   ... 0.00117785630153121\n",
       "  phl_betweenness_centrality_5 phl_closeness_centrality_5\n",
       "1 0                            0.433778629760381         \n",
       "2 0.0001122768497611           0.579606861231972         \n",
       "3 0                            0                         \n",
       "4 0                            0.462623504191286         \n",
       "5 0.00484869654894231          0.874134371864073         \n",
       "6 0                            0.398777242871396         \n",
       "  phl_eigenvector_centrality_5 col_degree_centrality_5 col_out_centrality_5\n",
       "1 0.0384080822193205           0                       0                   \n",
       "2 0.117223661689331            0                       0                   \n",
       "3 0                            0                       0                   \n",
       "4 0.0384080822193205           0.00424088210347752     0.00672268907563025 \n",
       "5 0.556195610463054            0.00508905852417303     0.00672268907563025 \n",
       "6 0.0289197059513674           0                       0                   \n",
       "  col_in_centrality_5 col_betweenness_centrality_5 col_closeness_centrality_5\n",
       "1 0                   0                            0                         \n",
       "2 0                   0                            0                         \n",
       "3 0                   0                            0                         \n",
       "4 0.00171232876712329 0                            0.534086128307187         \n",
       "5 0.00342465753424658 0                            0.474466815605091         \n",
       "6 0                   0                            0                         \n",
       "  col_eigenvector_centrality_5\n",
       "1 0                           \n",
       "2 0                           \n",
       "3 0                           \n",
       "4 0.0342094681539202          \n",
       "5 0.0339845056831895          \n",
       "6 0                           "
      ]
     },
     "metadata": {},
     "output_type": "display_data"
    }
   ],
   "source": [
    "head(dat)"
   ]
  },
  {
   "cell_type": "code",
   "execution_count": 24,
   "id": "e8b396b9-35cd-4f6f-bb73-44ccc032b0b8",
   "metadata": {},
   "outputs": [],
   "source": [
    "numz <- function(x){\n",
    "    sum(x==0)/length(x)\n",
    "}"
   ]
  },
  {
   "cell_type": "code",
   "execution_count": 25,
   "id": "9fe6096c-7786-4288-b00e-23b3a47c66a2",
   "metadata": {},
   "outputs": [],
   "source": [
    "dat$combined_score <- min_max_normalize(rowSums(apply(dat[,grep(\"centrality\",colnames(dat))],2,as.numeric)))\n",
    "dat$celltype_specificity <- min_max_normalize(apply(apply(dat[,grep(\"centrality\",colnames(dat))],2,as.numeric),1,numz))\n",
    "dat$weighted_score <- dat$combined_score + dat$celltype_specificity\n",
    "dat <- dat %>% arrange(desc(weighted_score))"
   ]
  },
  {
   "cell_type": "code",
   "execution_count": 26,
   "id": "362e8ff4-0a1f-45fe-b1e8-3795333a33bc",
   "metadata": {},
   "outputs": [
    {
     "data": {
      "text/html": [
       "<table class=\"dataframe\">\n",
       "<caption>A data.frame: 6 x 305</caption>\n",
       "<thead>\n",
       "\t<tr><th></th><th scope=col>GeneID</th><th scope=col>TF</th><th scope=col>atri_degree_centrality_1</th><th scope=col>atri_out_centrality_1</th><th scope=col>atri_in_centrality_1</th><th scope=col>atri_betweenness_centrality_1</th><th scope=col>atri_closeness_centrality_1</th><th scope=col>atri_eigenvector_centrality_1</th><th scope=col>tri_degree_centrality_1</th><th scope=col>tri_out_centrality_1</th><th scope=col>...</th><th scope=col>phl_eigenvector_centrality_5</th><th scope=col>col_degree_centrality_5</th><th scope=col>col_out_centrality_5</th><th scope=col>col_in_centrality_5</th><th scope=col>col_betweenness_centrality_5</th><th scope=col>col_closeness_centrality_5</th><th scope=col>col_eigenvector_centrality_5</th><th scope=col>combined_score</th><th scope=col>celltype_specificity</th><th scope=col>weighted_score</th></tr>\n",
       "\t<tr><th></th><th scope=col>&lt;chr&gt;</th><th scope=col>&lt;chr&gt;</th><th scope=col>&lt;chr&gt;</th><th scope=col>&lt;chr&gt;</th><th scope=col>&lt;chr&gt;</th><th scope=col>&lt;chr&gt;</th><th scope=col>&lt;chr&gt;</th><th scope=col>&lt;chr&gt;</th><th scope=col>&lt;chr&gt;</th><th scope=col>&lt;chr&gt;</th><th scope=col>...</th><th scope=col>&lt;chr&gt;</th><th scope=col>&lt;chr&gt;</th><th scope=col>&lt;chr&gt;</th><th scope=col>&lt;chr&gt;</th><th scope=col>&lt;chr&gt;</th><th scope=col>&lt;chr&gt;</th><th scope=col>&lt;chr&gt;</th><th scope=col>&lt;dbl&gt;</th><th scope=col>&lt;dbl&gt;</th><th scope=col>&lt;dbl&gt;</th></tr>\n",
       "</thead>\n",
       "<tbody>\n",
       "\t<tr><th scope=row>1</th><td>AT5G24800</td><td>BZIP9    </td><td>0                </td><td>0                </td><td>0                </td><td>0                </td><td>0                </td><td>0                </td><td>0                </td><td>0                </td><td>...</td><td>0.991229312680569</td><td>0                 </td><td>0                 </td><td>0                  </td><td>0</td><td>0                </td><td>0                </td><td>0.7370916</td><td>0.6000000</td><td>1.337092</td></tr>\n",
       "\t<tr><th scope=row>2</th><td>AT3G43430</td><td>AT3G43430</td><td>0                </td><td>0                </td><td>0                </td><td>0                </td><td>0                </td><td>0                </td><td>0                </td><td>0                </td><td>...</td><td>0.481531356662094</td><td>0                 </td><td>0                 </td><td>0                  </td><td>0</td><td>0                </td><td>0                </td><td>0.7528181</td><td>0.4978723</td><td>1.250690</td></tr>\n",
       "\t<tr><th scope=row>3</th><td>AT5G15150</td><td>HAT7     </td><td>0                </td><td>0                </td><td>0                </td><td>0                </td><td>0                </td><td>0                </td><td>0.253822629969419</td><td>0.038135593220339</td><td>...</td><td>0                </td><td>0                 </td><td>0                 </td><td>0                  </td><td>0</td><td>0                </td><td>0                </td><td>0.7999175</td><td>0.4425532</td><td>1.242471</td></tr>\n",
       "\t<tr><th scope=row>4</th><td>AT3G20840</td><td>PLT1     </td><td>0.961089494163424</td><td>0.970873786407767</td><td>0.602484472049689</td><td>0.976313513958659</td><td>0.914746192175766</td><td>0.986144172298438</td><td>0                </td><td>0                </td><td>...</td><td>0                </td><td>0.0398642917726887</td><td>0.0756302521008403</td><td>0.00342465753424658</td><td>0</td><td>0.745449540294179</td><td>0.250685880776617</td><td>0.5516755</td><td>0.6680851</td><td>1.219761</td></tr>\n",
       "\t<tr><th scope=row>5</th><td>AT5G57620</td><td>MYB36    </td><td>0                </td><td>0                </td><td>0                </td><td>0                </td><td>0                </td><td>0                </td><td>0                </td><td>0                </td><td>...</td><td>0                </td><td>0                 </td><td>0                 </td><td>0                  </td><td>0</td><td>0                </td><td>0                </td><td>0.4791306</td><td>0.7148936</td><td>1.194024</td></tr>\n",
       "\t<tr><th scope=row>6</th><td>AT2G45050</td><td>GATA2    </td><td>1                </td><td>0.828478964401295</td><td>0.801242236024845</td><td>0.998594869472124</td><td>0.965657213462023</td><td>1                </td><td>0.981651376146789</td><td>0.936440677966102</td><td>...</td><td>0                </td><td>0                 </td><td>0                 </td><td>0                  </td><td>0</td><td>0                </td><td>0                </td><td>0.7860795</td><td>0.4042553</td><td>1.190335</td></tr>\n",
       "</tbody>\n",
       "</table>\n"
      ],
      "text/latex": [
       "A data.frame: 6 x 305\n",
       "\\begin{tabular}{r|lllllllllllllllllllll}\n",
       "  & GeneID & TF & atri\\_degree\\_centrality\\_1 & atri\\_out\\_centrality\\_1 & atri\\_in\\_centrality\\_1 & atri\\_betweenness\\_centrality\\_1 & atri\\_closeness\\_centrality\\_1 & atri\\_eigenvector\\_centrality\\_1 & tri\\_degree\\_centrality\\_1 & tri\\_out\\_centrality\\_1 & ... & phl\\_eigenvector\\_centrality\\_5 & col\\_degree\\_centrality\\_5 & col\\_out\\_centrality\\_5 & col\\_in\\_centrality\\_5 & col\\_betweenness\\_centrality\\_5 & col\\_closeness\\_centrality\\_5 & col\\_eigenvector\\_centrality\\_5 & combined\\_score & celltype\\_specificity & weighted\\_score\\\\\n",
       "  & <chr> & <chr> & <chr> & <chr> & <chr> & <chr> & <chr> & <chr> & <chr> & <chr> & ... & <chr> & <chr> & <chr> & <chr> & <chr> & <chr> & <chr> & <dbl> & <dbl> & <dbl>\\\\\n",
       "\\hline\n",
       "\t1 & AT5G24800 & BZIP9     & 0                 & 0                 & 0                 & 0                 & 0                 & 0                 & 0                 & 0                 & ... & 0.991229312680569 & 0                  & 0                  & 0                   & 0 & 0                 & 0                 & 0.7370916 & 0.6000000 & 1.337092\\\\\n",
       "\t2 & AT3G43430 & AT3G43430 & 0                 & 0                 & 0                 & 0                 & 0                 & 0                 & 0                 & 0                 & ... & 0.481531356662094 & 0                  & 0                  & 0                   & 0 & 0                 & 0                 & 0.7528181 & 0.4978723 & 1.250690\\\\\n",
       "\t3 & AT5G15150 & HAT7      & 0                 & 0                 & 0                 & 0                 & 0                 & 0                 & 0.253822629969419 & 0.038135593220339 & ... & 0                 & 0                  & 0                  & 0                   & 0 & 0                 & 0                 & 0.7999175 & 0.4425532 & 1.242471\\\\\n",
       "\t4 & AT3G20840 & PLT1      & 0.961089494163424 & 0.970873786407767 & 0.602484472049689 & 0.976313513958659 & 0.914746192175766 & 0.986144172298438 & 0                 & 0                 & ... & 0                 & 0.0398642917726887 & 0.0756302521008403 & 0.00342465753424658 & 0 & 0.745449540294179 & 0.250685880776617 & 0.5516755 & 0.6680851 & 1.219761\\\\\n",
       "\t5 & AT5G57620 & MYB36     & 0                 & 0                 & 0                 & 0                 & 0                 & 0                 & 0                 & 0                 & ... & 0                 & 0                  & 0                  & 0                   & 0 & 0                 & 0                 & 0.4791306 & 0.7148936 & 1.194024\\\\\n",
       "\t6 & AT2G45050 & GATA2     & 1                 & 0.828478964401295 & 0.801242236024845 & 0.998594869472124 & 0.965657213462023 & 1                 & 0.981651376146789 & 0.936440677966102 & ... & 0                 & 0                  & 0                  & 0                   & 0 & 0                 & 0                 & 0.7860795 & 0.4042553 & 1.190335\\\\\n",
       "\\end{tabular}\n"
      ],
      "text/markdown": [
       "\n",
       "A data.frame: 6 x 305\n",
       "\n",
       "| <!--/--> | GeneID &lt;chr&gt; | TF &lt;chr&gt; | atri_degree_centrality_1 &lt;chr&gt; | atri_out_centrality_1 &lt;chr&gt; | atri_in_centrality_1 &lt;chr&gt; | atri_betweenness_centrality_1 &lt;chr&gt; | atri_closeness_centrality_1 &lt;chr&gt; | atri_eigenvector_centrality_1 &lt;chr&gt; | tri_degree_centrality_1 &lt;chr&gt; | tri_out_centrality_1 &lt;chr&gt; | ... ... | phl_eigenvector_centrality_5 &lt;chr&gt; | col_degree_centrality_5 &lt;chr&gt; | col_out_centrality_5 &lt;chr&gt; | col_in_centrality_5 &lt;chr&gt; | col_betweenness_centrality_5 &lt;chr&gt; | col_closeness_centrality_5 &lt;chr&gt; | col_eigenvector_centrality_5 &lt;chr&gt; | combined_score &lt;dbl&gt; | celltype_specificity &lt;dbl&gt; | weighted_score &lt;dbl&gt; |\n",
       "|---|---|---|---|---|---|---|---|---|---|---|---|---|---|---|---|---|---|---|---|---|---|\n",
       "| 1 | AT5G24800 | BZIP9     | 0                 | 0                 | 0                 | 0                 | 0                 | 0                 | 0                 | 0                 | ... | 0.991229312680569 | 0                  | 0                  | 0                   | 0 | 0                 | 0                 | 0.7370916 | 0.6000000 | 1.337092 |\n",
       "| 2 | AT3G43430 | AT3G43430 | 0                 | 0                 | 0                 | 0                 | 0                 | 0                 | 0                 | 0                 | ... | 0.481531356662094 | 0                  | 0                  | 0                   | 0 | 0                 | 0                 | 0.7528181 | 0.4978723 | 1.250690 |\n",
       "| 3 | AT5G15150 | HAT7      | 0                 | 0                 | 0                 | 0                 | 0                 | 0                 | 0.253822629969419 | 0.038135593220339 | ... | 0                 | 0                  | 0                  | 0                   | 0 | 0                 | 0                 | 0.7999175 | 0.4425532 | 1.242471 |\n",
       "| 4 | AT3G20840 | PLT1      | 0.961089494163424 | 0.970873786407767 | 0.602484472049689 | 0.976313513958659 | 0.914746192175766 | 0.986144172298438 | 0                 | 0                 | ... | 0                 | 0.0398642917726887 | 0.0756302521008403 | 0.00342465753424658 | 0 | 0.745449540294179 | 0.250685880776617 | 0.5516755 | 0.6680851 | 1.219761 |\n",
       "| 5 | AT5G57620 | MYB36     | 0                 | 0                 | 0                 | 0                 | 0                 | 0                 | 0                 | 0                 | ... | 0                 | 0                  | 0                  | 0                   | 0 | 0                 | 0                 | 0.4791306 | 0.7148936 | 1.194024 |\n",
       "| 6 | AT2G45050 | GATA2     | 1                 | 0.828478964401295 | 0.801242236024845 | 0.998594869472124 | 0.965657213462023 | 1                 | 0.981651376146789 | 0.936440677966102 | ... | 0                 | 0                  | 0                  | 0                   | 0 | 0                 | 0                 | 0.7860795 | 0.4042553 | 1.190335 |\n",
       "\n"
      ],
      "text/plain": [
       "  GeneID    TF        atri_degree_centrality_1 atri_out_centrality_1\n",
       "1 AT5G24800 BZIP9     0                        0                    \n",
       "2 AT3G43430 AT3G43430 0                        0                    \n",
       "3 AT5G15150 HAT7      0                        0                    \n",
       "4 AT3G20840 PLT1      0.961089494163424        0.970873786407767    \n",
       "5 AT5G57620 MYB36     0                        0                    \n",
       "6 AT2G45050 GATA2     1                        0.828478964401295    \n",
       "  atri_in_centrality_1 atri_betweenness_centrality_1\n",
       "1 0                    0                            \n",
       "2 0                    0                            \n",
       "3 0                    0                            \n",
       "4 0.602484472049689    0.976313513958659            \n",
       "5 0                    0                            \n",
       "6 0.801242236024845    0.998594869472124            \n",
       "  atri_closeness_centrality_1 atri_eigenvector_centrality_1\n",
       "1 0                           0                            \n",
       "2 0                           0                            \n",
       "3 0                           0                            \n",
       "4 0.914746192175766           0.986144172298438            \n",
       "5 0                           0                            \n",
       "6 0.965657213462023           1                            \n",
       "  tri_degree_centrality_1 tri_out_centrality_1 ... phl_eigenvector_centrality_5\n",
       "1 0                       0                    ... 0.991229312680569           \n",
       "2 0                       0                    ... 0.481531356662094           \n",
       "3 0.253822629969419       0.038135593220339    ... 0                           \n",
       "4 0                       0                    ... 0                           \n",
       "5 0                       0                    ... 0                           \n",
       "6 0.981651376146789       0.936440677966102    ... 0                           \n",
       "  col_degree_centrality_5 col_out_centrality_5 col_in_centrality_5\n",
       "1 0                       0                    0                  \n",
       "2 0                       0                    0                  \n",
       "3 0                       0                    0                  \n",
       "4 0.0398642917726887      0.0756302521008403   0.00342465753424658\n",
       "5 0                       0                    0                  \n",
       "6 0                       0                    0                  \n",
       "  col_betweenness_centrality_5 col_closeness_centrality_5\n",
       "1 0                            0                         \n",
       "2 0                            0                         \n",
       "3 0                            0                         \n",
       "4 0                            0.745449540294179         \n",
       "5 0                            0                         \n",
       "6 0                            0                         \n",
       "  col_eigenvector_centrality_5 combined_score celltype_specificity\n",
       "1 0                            0.7370916      0.6000000           \n",
       "2 0                            0.7528181      0.4978723           \n",
       "3 0                            0.7999175      0.4425532           \n",
       "4 0.250685880776617            0.5516755      0.6680851           \n",
       "5 0                            0.4791306      0.7148936           \n",
       "6 0                            0.7860795      0.4042553           \n",
       "  weighted_score\n",
       "1 1.337092      \n",
       "2 1.250690      \n",
       "3 1.242471      \n",
       "4 1.219761      \n",
       "5 1.194024      \n",
       "6 1.190335      "
      ]
     },
     "metadata": {},
     "output_type": "display_data"
    }
   ],
   "source": [
    "head(dat)"
   ]
  },
  {
   "cell_type": "code",
   "execution_count": 784,
   "id": "160294dd-995a-42d7-82a7-ef95d4a7878a",
   "metadata": {},
   "outputs": [],
   "source": [
    "write.csv(dat,\"TF_GRN_centrality_all_transition_zscore3.csv\", quote=FALSE, row.names=FALSE)"
   ]
  },
  {
   "cell_type": "markdown",
   "id": "2786831f-df3f-4f7a-960a-a28a957054bc",
   "metadata": {},
   "source": [
    "## GO terms (Prepare MINI-EX GS)"
   ]
  },
  {
   "cell_type": "code",
   "execution_count": 27,
   "id": "84a5a59e-2736-4540-928e-714d12f315ca",
   "metadata": {},
   "outputs": [],
   "source": [
    "gene_list <- read.table('./gene_list_1108.csv', sep=\",\", header = TRUE)"
   ]
  },
  {
   "cell_type": "code",
   "execution_count": 28,
   "id": "742599a2-62fb-470b-b534-4d29b76c1601",
   "metadata": {},
   "outputs": [
    {
     "data": {
      "text/html": [
       "1495"
      ],
      "text/latex": [
       "1495"
      ],
      "text/markdown": [
       "1495"
      ],
      "text/plain": [
       "[1] 1495"
      ]
     },
     "metadata": {},
     "output_type": "display_data"
    }
   ],
   "source": [
    "exptf <- intersect(gene_list$features, wanted_TFs$GeneID)\n",
    "length(exptf)"
   ]
  },
  {
   "cell_type": "code",
   "execution_count": 29,
   "id": "929a661a-9a3e-45b8-a840-fbfc1a03920c",
   "metadata": {},
   "outputs": [],
   "source": [
    "sfun <- read.csv('./functional_GS_root_unique.csv', sep=\",\", header=TRUE)"
   ]
  },
  {
   "cell_type": "code",
   "execution_count": 30,
   "id": "86f8fc7e-bb4d-4db0-a01a-d29d52d9eb7c",
   "metadata": {},
   "outputs": [
    {
     "data": {
      "text/html": [
       "143"
      ],
      "text/latex": [
       "143"
      ],
      "text/markdown": [
       "143"
      ],
      "text/plain": [
       "[1] 143"
      ]
     },
     "metadata": {},
     "output_type": "display_data"
    }
   ],
   "source": [
    "gsgo <- intersect(exptf, sfun$GeneID)\n",
    "length(gsgo)"
   ]
  },
  {
   "cell_type": "code",
   "execution_count": 35,
   "id": "3b1a8f6e-841e-4cf4-b109-2130128ebe5a",
   "metadata": {},
   "outputs": [],
   "source": [
    "write.csv(data.frame(GeneID=gsgo),\"./Gold_Standard_Root_TF_MINI_EX.csv\", quote=FALSE, row.names=FALSE)"
   ]
  },
  {
   "cell_type": "markdown",
   "id": "7dca133a-6fb3-4003-b46a-bb01b3079fb3",
   "metadata": {},
   "source": [
    "## R50"
   ]
  },
  {
   "cell_type": "code",
   "execution_count": 31,
   "id": "d97052f6-6713-4768-a70d-db1cf6c7397d",
   "metadata": {},
   "outputs": [],
   "source": [
    "r50 <- 72\n",
    "numz <- function(x){\n",
    "    sum(x==0)/length(x)\n",
    "}"
   ]
  },
  {
   "cell_type": "markdown",
   "id": "5856461e-4cd9-441b-957f-9e1fabe47d11",
   "metadata": {},
   "source": [
    "#### GeneSys"
   ]
  },
  {
   "cell_type": "code",
   "execution_count": 32,
   "id": "8e4edb4c-d88d-4d6f-a025-23657c055286",
   "metadata": {},
   "outputs": [],
   "source": [
    "genesys <- dat"
   ]
  },
  {
   "cell_type": "code",
   "execution_count": 33,
   "id": "292a56eb-74c8-4795-b16a-dc258de40d02",
   "metadata": {},
   "outputs": [],
   "source": [
    "run_r50_genesys <- function(x){\n",
    "    genesys$combined_score <- min_max_normalize(rowSums(apply(genesys[,grep(x,colnames(genesys))],2,as.numeric)))\n",
    "    genesys <- genesys %>% arrange(desc(combined_score))\n",
    "    count <- 0\n",
    "    for (i in seq(nrow(genesys))){\n",
    "        if (genesys$GeneID[i] %in% gsgo){\n",
    "            count <- count +1\n",
    "            if (count == r50){\n",
    "                return(i)\n",
    "                break\n",
    "            }\n",
    "        }\n",
    "    }\n",
    "} "
   ]
  },
  {
   "cell_type": "markdown",
   "id": "0bfc7e13-b725-4eb0-82c7-7b5dfd562459",
   "metadata": {},
   "source": [
    "#### CellOracle"
   ]
  },
  {
   "cell_type": "code",
   "execution_count": 34,
   "id": "1f64dbb8-9911-4ef6-a3a9-2eb5b40df651",
   "metadata": {},
   "outputs": [],
   "source": [
    "prepros <- function(x){\n",
    "    dat <- read.csv(x)\n",
    "    #dat <- dat %>% filter(role==\"Connector Hub\") \n",
    "    dat <- dat[,c(1, grep(\"centrality\",colnames(dat)), 22)]\n",
    "    return(dat)\n",
    "}"
   ]
  },
  {
   "cell_type": "code",
   "execution_count": 35,
   "id": "2803c4aa-99ee-469b-8673-c8d9e34671a0",
   "metadata": {},
   "outputs": [],
   "source": [
    "atri <- prepros(\"../celloracle/atrichoblast_Root_Atlas_SCT_celloracle_gene_score_iGRN.csv\")\n",
    "tri <- prepros(\"../celloracle/trichoblast_Root_Atlas_SCT_celloracle_gene_score_iGRN.csv\")\n",
    "lrc <- prepros(\"../celloracle/lrc_Root_Atlas_SCT_celloracle_gene_score_iGRN.csv\")\n",
    "cor <- prepros(\"../celloracle/cortex_Root_Atlas_SCT_celloracle_gene_score_iGRN.csv\")\n",
    "end <- prepros(\"../celloracle/endodermis_Root_Atlas_SCT_celloracle_gene_score_iGRN.csv\")\n",
    "per <- prepros(\"../celloracle/pericycle_Root_Atlas_SCT_celloracle_gene_score_iGRN.csv\")\n",
    "pro <- prepros(\"../celloracle/procambium_Root_Atlas_SCT_celloracle_gene_score_iGRN.csv\")\n",
    "xyl <- prepros(\"../celloracle/xylem_Root_Atlas_SCT_celloracle_gene_score_iGRN.csv\")\n",
    "phl <- prepros(\"../celloracle/phloem_Root_Atlas_SCT_celloracle_gene_score_iGRN.csv\")\n",
    "col <- prepros(\"../celloracle/columella_Root_Atlas_SCT_celloracle_gene_score_iGRN.csv\")"
   ]
  },
  {
   "cell_type": "code",
   "execution_count": 36,
   "id": "10d20f56-8f63-4dbb-a7ee-a9ef4822c6e2",
   "metadata": {},
   "outputs": [],
   "source": [
    "dat <- rbind(atri, tri, lrc, cor, end, per, pro, xyl, phl, col)\n",
    "## Remove those not present in the dataset\n",
    "dat <- dat[!is.na(match(dat$X,exptf)),]\n",
    "dat <- dat %>% group_by(cluster) %>% reframe(GeneID=X,degree_centrality = min_max_normalize(degree_centrality_all), \n",
    "                                  in_centrality = min_max_normalize(degree_centrality_in), \n",
    "                                  out_centrality = min_max_normalize(degree_centrality_out),\n",
    "                                 betweenness_centrality = min_max_normalize(betweenness_centrality),\n",
    "                                 closeness_centrality = min_max_normalize(closeness_centrality),\n",
    "                                 eigenvector_centrality = min_max_normalize(eigenvector_centrality))\n",
    "dat <- dat %>% group_by(GeneID) %>% reframe(degree_centrality = sum(degree_centrality), \n",
    "                                  in_centrality = sum(in_centrality), \n",
    "                                  out_centrality = sum(out_centrality),\n",
    "                                 betweenness_centrality = sum(betweenness_centrality),\n",
    "                                 closeness_centrality = sum(closeness_centrality),\n",
    "                                 eigenvector_centrality = sum(eigenvector_centrality))\n",
    "dat <- cbind(dat[,1],apply(dat[,2:7],2,min_max_normalize))"
   ]
  },
  {
   "cell_type": "code",
   "execution_count": 37,
   "id": "c9f46a3b-365b-4179-bb26-e987d868cfd4",
   "metadata": {
    "tags": []
   },
   "outputs": [
    {
     "data": {
      "text/html": [
       "<table class=\"dataframe\">\n",
       "<caption>A data.frame: 6 x 7</caption>\n",
       "<thead>\n",
       "\t<tr><th></th><th scope=col>GeneID</th><th scope=col>degree_centrality</th><th scope=col>in_centrality</th><th scope=col>out_centrality</th><th scope=col>betweenness_centrality</th><th scope=col>closeness_centrality</th><th scope=col>eigenvector_centrality</th></tr>\n",
       "\t<tr><th></th><th scope=col>&lt;chr&gt;</th><th scope=col>&lt;dbl&gt;</th><th scope=col>&lt;dbl&gt;</th><th scope=col>&lt;dbl&gt;</th><th scope=col>&lt;dbl&gt;</th><th scope=col>&lt;dbl&gt;</th><th scope=col>&lt;dbl&gt;</th></tr>\n",
       "</thead>\n",
       "<tbody>\n",
       "\t<tr><th scope=row>1</th><td>AT1G01010</td><td>0.0849393998</td><td>0.065317964</td><td>0.081735954</td><td>2.592974e-02</td><td>0.3643692412</td><td>0.068339145</td></tr>\n",
       "\t<tr><th scope=row>2</th><td>AT1G01030</td><td>0.0009542021</td><td>0.000000000</td><td>0.004447568</td><td>0.000000e+00</td><td>0.0003449773</td><td>0.003632920</td></tr>\n",
       "\t<tr><th scope=row>3</th><td>AT1G01260</td><td>0.0233438132</td><td>0.000000000</td><td>0.033565069</td><td>0.000000e+00</td><td>0.0872081085</td><td>0.016136854</td></tr>\n",
       "\t<tr><th scope=row>4</th><td>AT1G01350</td><td>0.0293468347</td><td>0.134378356</td><td>0.000000000</td><td>0.000000e+00</td><td>0.0000000000</td><td>0.017764785</td></tr>\n",
       "\t<tr><th scope=row>5</th><td>AT1G01380</td><td>0.0035614661</td><td>0.005492245</td><td>0.004573149</td><td>7.240465e-05</td><td>0.0852853904</td><td>0.003752290</td></tr>\n",
       "\t<tr><th scope=row>6</th><td>AT1G01640</td><td>0.0060441842</td><td>0.023215800</td><td>0.000000000</td><td>0.000000e+00</td><td>0.0000000000</td><td>0.006672674</td></tr>\n",
       "</tbody>\n",
       "</table>\n"
      ],
      "text/latex": [
       "A data.frame: 6 x 7\n",
       "\\begin{tabular}{r|lllllll}\n",
       "  & GeneID & degree\\_centrality & in\\_centrality & out\\_centrality & betweenness\\_centrality & closeness\\_centrality & eigenvector\\_centrality\\\\\n",
       "  & <chr> & <dbl> & <dbl> & <dbl> & <dbl> & <dbl> & <dbl>\\\\\n",
       "\\hline\n",
       "\t1 & AT1G01010 & 0.0849393998 & 0.065317964 & 0.081735954 & 2.592974e-02 & 0.3643692412 & 0.068339145\\\\\n",
       "\t2 & AT1G01030 & 0.0009542021 & 0.000000000 & 0.004447568 & 0.000000e+00 & 0.0003449773 & 0.003632920\\\\\n",
       "\t3 & AT1G01260 & 0.0233438132 & 0.000000000 & 0.033565069 & 0.000000e+00 & 0.0872081085 & 0.016136854\\\\\n",
       "\t4 & AT1G01350 & 0.0293468347 & 0.134378356 & 0.000000000 & 0.000000e+00 & 0.0000000000 & 0.017764785\\\\\n",
       "\t5 & AT1G01380 & 0.0035614661 & 0.005492245 & 0.004573149 & 7.240465e-05 & 0.0852853904 & 0.003752290\\\\\n",
       "\t6 & AT1G01640 & 0.0060441842 & 0.023215800 & 0.000000000 & 0.000000e+00 & 0.0000000000 & 0.006672674\\\\\n",
       "\\end{tabular}\n"
      ],
      "text/markdown": [
       "\n",
       "A data.frame: 6 x 7\n",
       "\n",
       "| <!--/--> | GeneID &lt;chr&gt; | degree_centrality &lt;dbl&gt; | in_centrality &lt;dbl&gt; | out_centrality &lt;dbl&gt; | betweenness_centrality &lt;dbl&gt; | closeness_centrality &lt;dbl&gt; | eigenvector_centrality &lt;dbl&gt; |\n",
       "|---|---|---|---|---|---|---|---|\n",
       "| 1 | AT1G01010 | 0.0849393998 | 0.065317964 | 0.081735954 | 2.592974e-02 | 0.3643692412 | 0.068339145 |\n",
       "| 2 | AT1G01030 | 0.0009542021 | 0.000000000 | 0.004447568 | 0.000000e+00 | 0.0003449773 | 0.003632920 |\n",
       "| 3 | AT1G01260 | 0.0233438132 | 0.000000000 | 0.033565069 | 0.000000e+00 | 0.0872081085 | 0.016136854 |\n",
       "| 4 | AT1G01350 | 0.0293468347 | 0.134378356 | 0.000000000 | 0.000000e+00 | 0.0000000000 | 0.017764785 |\n",
       "| 5 | AT1G01380 | 0.0035614661 | 0.005492245 | 0.004573149 | 7.240465e-05 | 0.0852853904 | 0.003752290 |\n",
       "| 6 | AT1G01640 | 0.0060441842 | 0.023215800 | 0.000000000 | 0.000000e+00 | 0.0000000000 | 0.006672674 |\n",
       "\n"
      ],
      "text/plain": [
       "  GeneID    degree_centrality in_centrality out_centrality\n",
       "1 AT1G01010 0.0849393998      0.065317964   0.081735954   \n",
       "2 AT1G01030 0.0009542021      0.000000000   0.004447568   \n",
       "3 AT1G01260 0.0233438132      0.000000000   0.033565069   \n",
       "4 AT1G01350 0.0293468347      0.134378356   0.000000000   \n",
       "5 AT1G01380 0.0035614661      0.005492245   0.004573149   \n",
       "6 AT1G01640 0.0060441842      0.023215800   0.000000000   \n",
       "  betweenness_centrality closeness_centrality eigenvector_centrality\n",
       "1 2.592974e-02           0.3643692412         0.068339145           \n",
       "2 0.000000e+00           0.0003449773         0.003632920           \n",
       "3 0.000000e+00           0.0872081085         0.016136854           \n",
       "4 0.000000e+00           0.0000000000         0.017764785           \n",
       "5 7.240465e-05           0.0852853904         0.003752290           \n",
       "6 0.000000e+00           0.0000000000         0.006672674           "
      ]
     },
     "metadata": {},
     "output_type": "display_data"
    }
   ],
   "source": [
    "head(dat)"
   ]
  },
  {
   "cell_type": "code",
   "execution_count": 38,
   "id": "85f55169-838e-447c-94c3-f99b1eecb560",
   "metadata": {},
   "outputs": [],
   "source": [
    "celloracle <- dat"
   ]
  },
  {
   "cell_type": "code",
   "execution_count": 39,
   "id": "0f49f1cc-40d0-4a9e-a99f-4d372b3f5182",
   "metadata": {},
   "outputs": [],
   "source": [
    "run_r50_celloracle <- function(x){\n",
    "    celloracle$combined_score <- celloracle[,grep(x,colnames(celloracle))]\n",
    "    celloracle <- celloracle %>% arrange(desc(combined_score))\n",
    "    count <- 0\n",
    "    for (i in seq(nrow(celloracle))){\n",
    "        if (celloracle$GeneID[i] %in% gsgo){\n",
    "            count <- count +1\n",
    "            if (count == r50){\n",
    "                return(i)\n",
    "                break\n",
    "            }\n",
    "        }\n",
    "    }\n",
    "} "
   ]
  },
  {
   "cell_type": "markdown",
   "id": "46edd92e-9416-4cd5-bddd-df91572993b1",
   "metadata": {},
   "source": [
    "#### DE (Root_Atlas)"
   ]
  },
  {
   "cell_type": "code",
   "execution_count": 40,
   "id": "c87a1d4c-2be6-45af-8cae-71c71ef53863",
   "metadata": {},
   "outputs": [],
   "source": [
    "de <- read.csv(\"Root_Atlas_DE_Gene_List.csv\")"
   ]
  },
  {
   "cell_type": "code",
   "execution_count": 41,
   "id": "5ae3c6d3-99a1-4b10-afa2-68b59a302eb9",
   "metadata": {},
   "outputs": [],
   "source": [
    "de <- de %>% arrange(pct.diff_rank) %>% arrange(avg_diff_rank)%>% arrange(myAUC_rank)%>% arrange(combined_rank) "
   ]
  },
  {
   "cell_type": "code",
   "execution_count": 42,
   "id": "3f6f4a31-9689-4c39-8040-5b740e2d9666",
   "metadata": {},
   "outputs": [],
   "source": [
    "## Remove those not present in the dataset\n",
    "de <- de[!is.na(match(de$gene.ID,exptf)),]"
   ]
  },
  {
   "cell_type": "code",
   "execution_count": 43,
   "id": "57f59828-4d5b-4ada-81b8-7480dd68b862",
   "metadata": {},
   "outputs": [
    {
     "data": {
      "text/html": [
       "<table class=\"dataframe\">\n",
       "<caption>A data.frame: 6 x 14</caption>\n",
       "<thead>\n",
       "\t<tr><th></th><th scope=col>myAUC</th><th scope=col>avg_diff</th><th scope=col>power</th><th scope=col>pct.1</th><th scope=col>pct.2</th><th scope=col>celltype</th><th scope=col>pseudotime.bin</th><th scope=col>gene.ID</th><th scope=col>gene.name</th><th scope=col>pct.diff</th><th scope=col>pct.diff_rank</th><th scope=col>avg_diff_rank</th><th scope=col>myAUC_rank</th><th scope=col>combined_rank</th></tr>\n",
       "\t<tr><th></th><th scope=col>&lt;dbl&gt;</th><th scope=col>&lt;dbl&gt;</th><th scope=col>&lt;dbl&gt;</th><th scope=col>&lt;dbl&gt;</th><th scope=col>&lt;dbl&gt;</th><th scope=col>&lt;chr&gt;</th><th scope=col>&lt;chr&gt;</th><th scope=col>&lt;chr&gt;</th><th scope=col>&lt;chr&gt;</th><th scope=col>&lt;dbl&gt;</th><th scope=col>&lt;int&gt;</th><th scope=col>&lt;int&gt;</th><th scope=col>&lt;int&gt;</th><th scope=col>&lt;int&gt;</th></tr>\n",
       "</thead>\n",
       "<tbody>\n",
       "\t<tr><th scope=row>13</th><td>0.901</td><td>1.985825</td><td>0.802</td><td>0.959</td><td>0.287</td><td>Endodermis</td><td>T4</td><td>AT5G13910</td><td>LEP   </td><td>0.672</td><td> 2</td><td> 4</td><td>1</td><td>1</td></tr>\n",
       "\t<tr><th scope=row>40</th><td>0.934</td><td>2.820810</td><td>0.868</td><td>0.900</td><td>0.155</td><td>Procambium</td><td>T0</td><td>AT1G54690</td><td>HTA3  </td><td>0.745</td><td> 2</td><td>35</td><td>2</td><td>1</td></tr>\n",
       "\t<tr><th scope=row>51</th><td>0.841</td><td>2.351595</td><td>0.682</td><td>0.881</td><td>0.297</td><td>Procambium</td><td>T1</td><td>AT1G25560</td><td>TEM1  </td><td>0.584</td><td> 1</td><td>11</td><td>3</td><td>1</td></tr>\n",
       "\t<tr><th scope=row>58</th><td>0.979</td><td>3.799126</td><td>0.958</td><td>1.000</td><td>0.046</td><td>Xylem     </td><td>T1</td><td>AT4G22680</td><td>MYB85 </td><td>0.954</td><td> 1</td><td> 7</td><td>4</td><td>1</td></tr>\n",
       "\t<tr><th scope=row>63</th><td>0.945</td><td>4.666402</td><td>0.890</td><td>0.765</td><td>0.054</td><td>Phloem    </td><td>T2</td><td>AT3G60530</td><td>GATA4 </td><td>0.711</td><td>35</td><td> 1</td><td>5</td><td>1</td></tr>\n",
       "\t<tr><th scope=row>66</th><td>0.871</td><td>2.623028</td><td>0.742</td><td>0.877</td><td>0.242</td><td>Procambium</td><td>T2</td><td>AT1G66600</td><td>WRKY63</td><td>0.635</td><td> 1</td><td> 5</td><td>5</td><td>1</td></tr>\n",
       "</tbody>\n",
       "</table>\n"
      ],
      "text/latex": [
       "A data.frame: 6 x 14\n",
       "\\begin{tabular}{r|llllllllllllll}\n",
       "  & myAUC & avg\\_diff & power & pct.1 & pct.2 & celltype & pseudotime.bin & gene.ID & gene.name & pct.diff & pct.diff\\_rank & avg\\_diff\\_rank & myAUC\\_rank & combined\\_rank\\\\\n",
       "  & <dbl> & <dbl> & <dbl> & <dbl> & <dbl> & <chr> & <chr> & <chr> & <chr> & <dbl> & <int> & <int> & <int> & <int>\\\\\n",
       "\\hline\n",
       "\t13 & 0.901 & 1.985825 & 0.802 & 0.959 & 0.287 & Endodermis & T4 & AT5G13910 & LEP    & 0.672 &  2 &  4 & 1 & 1\\\\\n",
       "\t40 & 0.934 & 2.820810 & 0.868 & 0.900 & 0.155 & Procambium & T0 & AT1G54690 & HTA3   & 0.745 &  2 & 35 & 2 & 1\\\\\n",
       "\t51 & 0.841 & 2.351595 & 0.682 & 0.881 & 0.297 & Procambium & T1 & AT1G25560 & TEM1   & 0.584 &  1 & 11 & 3 & 1\\\\\n",
       "\t58 & 0.979 & 3.799126 & 0.958 & 1.000 & 0.046 & Xylem      & T1 & AT4G22680 & MYB85  & 0.954 &  1 &  7 & 4 & 1\\\\\n",
       "\t63 & 0.945 & 4.666402 & 0.890 & 0.765 & 0.054 & Phloem     & T2 & AT3G60530 & GATA4  & 0.711 & 35 &  1 & 5 & 1\\\\\n",
       "\t66 & 0.871 & 2.623028 & 0.742 & 0.877 & 0.242 & Procambium & T2 & AT1G66600 & WRKY63 & 0.635 &  1 &  5 & 5 & 1\\\\\n",
       "\\end{tabular}\n"
      ],
      "text/markdown": [
       "\n",
       "A data.frame: 6 x 14\n",
       "\n",
       "| <!--/--> | myAUC &lt;dbl&gt; | avg_diff &lt;dbl&gt; | power &lt;dbl&gt; | pct.1 &lt;dbl&gt; | pct.2 &lt;dbl&gt; | celltype &lt;chr&gt; | pseudotime.bin &lt;chr&gt; | gene.ID &lt;chr&gt; | gene.name &lt;chr&gt; | pct.diff &lt;dbl&gt; | pct.diff_rank &lt;int&gt; | avg_diff_rank &lt;int&gt; | myAUC_rank &lt;int&gt; | combined_rank &lt;int&gt; |\n",
       "|---|---|---|---|---|---|---|---|---|---|---|---|---|---|---|\n",
       "| 13 | 0.901 | 1.985825 | 0.802 | 0.959 | 0.287 | Endodermis | T4 | AT5G13910 | LEP    | 0.672 |  2 |  4 | 1 | 1 |\n",
       "| 40 | 0.934 | 2.820810 | 0.868 | 0.900 | 0.155 | Procambium | T0 | AT1G54690 | HTA3   | 0.745 |  2 | 35 | 2 | 1 |\n",
       "| 51 | 0.841 | 2.351595 | 0.682 | 0.881 | 0.297 | Procambium | T1 | AT1G25560 | TEM1   | 0.584 |  1 | 11 | 3 | 1 |\n",
       "| 58 | 0.979 | 3.799126 | 0.958 | 1.000 | 0.046 | Xylem      | T1 | AT4G22680 | MYB85  | 0.954 |  1 |  7 | 4 | 1 |\n",
       "| 63 | 0.945 | 4.666402 | 0.890 | 0.765 | 0.054 | Phloem     | T2 | AT3G60530 | GATA4  | 0.711 | 35 |  1 | 5 | 1 |\n",
       "| 66 | 0.871 | 2.623028 | 0.742 | 0.877 | 0.242 | Procambium | T2 | AT1G66600 | WRKY63 | 0.635 |  1 |  5 | 5 | 1 |\n",
       "\n"
      ],
      "text/plain": [
       "   myAUC avg_diff power pct.1 pct.2 celltype   pseudotime.bin gene.ID  \n",
       "13 0.901 1.985825 0.802 0.959 0.287 Endodermis T4             AT5G13910\n",
       "40 0.934 2.820810 0.868 0.900 0.155 Procambium T0             AT1G54690\n",
       "51 0.841 2.351595 0.682 0.881 0.297 Procambium T1             AT1G25560\n",
       "58 0.979 3.799126 0.958 1.000 0.046 Xylem      T1             AT4G22680\n",
       "63 0.945 4.666402 0.890 0.765 0.054 Phloem     T2             AT3G60530\n",
       "66 0.871 2.623028 0.742 0.877 0.242 Procambium T2             AT1G66600\n",
       "   gene.name pct.diff pct.diff_rank avg_diff_rank myAUC_rank combined_rank\n",
       "13 LEP       0.672     2             4            1          1            \n",
       "40 HTA3      0.745     2            35            2          1            \n",
       "51 TEM1      0.584     1            11            3          1            \n",
       "58 MYB85     0.954     1             7            4          1            \n",
       "63 GATA4     0.711    35             1            5          1            \n",
       "66 WRKY63    0.635     1             5            5          1            "
      ]
     },
     "metadata": {},
     "output_type": "display_data"
    }
   ],
   "source": [
    "head(de)"
   ]
  },
  {
   "cell_type": "code",
   "execution_count": 44,
   "id": "692d9914-493d-40f9-adab-f01c44d0621c",
   "metadata": {},
   "outputs": [],
   "source": [
    "dat <- de %>% group_by(gene.ID) %>% reframe(combined_rank = mean(combined_rank),myAUC_rank = mean(myAUC_rank),pct.diff_rank = mean(pct.diff_rank),avg_diff_rank = mean(avg_diff_rank))\n",
    "dat <- dat %>% arrange(combined_rank)\n",
    "colnames(dat) <- c(\"GeneID\",\"combined_rank\",\"myAUC_rank\",\"pct.diff_rank\",\"avg_diff_rank\")"
   ]
  },
  {
   "cell_type": "code",
   "execution_count": 45,
   "id": "d17dad99-8a25-4d14-acd4-2bee7df54b1c",
   "metadata": {},
   "outputs": [
    {
     "data": {
      "text/html": [
       "<table class=\"dataframe\">\n",
       "<caption>A tibble: 6 x 5</caption>\n",
       "<thead>\n",
       "\t<tr><th scope=col>GeneID</th><th scope=col>combined_rank</th><th scope=col>myAUC_rank</th><th scope=col>pct.diff_rank</th><th scope=col>avg_diff_rank</th></tr>\n",
       "\t<tr><th scope=col>&lt;chr&gt;</th><th scope=col>&lt;dbl&gt;</th><th scope=col>&lt;dbl&gt;</th><th scope=col>&lt;dbl&gt;</th><th scope=col>&lt;dbl&gt;</th></tr>\n",
       "</thead>\n",
       "<tbody>\n",
       "\t<tr><td>AT1G66600</td><td> 6.500000</td><td>19.50000</td><td>23.00000</td><td>11.50000</td></tr>\n",
       "\t<tr><td>AT5G58010</td><td> 8.333333</td><td> 9.00000</td><td> 7.00000</td><td>16.00000</td></tr>\n",
       "\t<tr><td>AT1G13600</td><td> 9.500000</td><td>42.00000</td><td>34.50000</td><td>19.50000</td></tr>\n",
       "\t<tr><td>AT4G37260</td><td>12.333333</td><td>10.33333</td><td>20.33333</td><td>41.66667</td></tr>\n",
       "\t<tr><td>AT1G26680</td><td>13.000000</td><td>73.00000</td><td>37.00000</td><td>78.00000</td></tr>\n",
       "\t<tr><td>AT1G61660</td><td>13.000000</td><td>19.66667</td><td>17.33333</td><td>38.33333</td></tr>\n",
       "</tbody>\n",
       "</table>\n"
      ],
      "text/latex": [
       "A tibble: 6 x 5\n",
       "\\begin{tabular}{lllll}\n",
       " GeneID & combined\\_rank & myAUC\\_rank & pct.diff\\_rank & avg\\_diff\\_rank\\\\\n",
       " <chr> & <dbl> & <dbl> & <dbl> & <dbl>\\\\\n",
       "\\hline\n",
       "\t AT1G66600 &  6.500000 & 19.50000 & 23.00000 & 11.50000\\\\\n",
       "\t AT5G58010 &  8.333333 &  9.00000 &  7.00000 & 16.00000\\\\\n",
       "\t AT1G13600 &  9.500000 & 42.00000 & 34.50000 & 19.50000\\\\\n",
       "\t AT4G37260 & 12.333333 & 10.33333 & 20.33333 & 41.66667\\\\\n",
       "\t AT1G26680 & 13.000000 & 73.00000 & 37.00000 & 78.00000\\\\\n",
       "\t AT1G61660 & 13.000000 & 19.66667 & 17.33333 & 38.33333\\\\\n",
       "\\end{tabular}\n"
      ],
      "text/markdown": [
       "\n",
       "A tibble: 6 x 5\n",
       "\n",
       "| GeneID &lt;chr&gt; | combined_rank &lt;dbl&gt; | myAUC_rank &lt;dbl&gt; | pct.diff_rank &lt;dbl&gt; | avg_diff_rank &lt;dbl&gt; |\n",
       "|---|---|---|---|---|\n",
       "| AT1G66600 |  6.500000 | 19.50000 | 23.00000 | 11.50000 |\n",
       "| AT5G58010 |  8.333333 |  9.00000 |  7.00000 | 16.00000 |\n",
       "| AT1G13600 |  9.500000 | 42.00000 | 34.50000 | 19.50000 |\n",
       "| AT4G37260 | 12.333333 | 10.33333 | 20.33333 | 41.66667 |\n",
       "| AT1G26680 | 13.000000 | 73.00000 | 37.00000 | 78.00000 |\n",
       "| AT1G61660 | 13.000000 | 19.66667 | 17.33333 | 38.33333 |\n",
       "\n"
      ],
      "text/plain": [
       "  GeneID    combined_rank myAUC_rank pct.diff_rank avg_diff_rank\n",
       "1 AT1G66600  6.500000     19.50000   23.00000      11.50000     \n",
       "2 AT5G58010  8.333333      9.00000    7.00000      16.00000     \n",
       "3 AT1G13600  9.500000     42.00000   34.50000      19.50000     \n",
       "4 AT4G37260 12.333333     10.33333   20.33333      41.66667     \n",
       "5 AT1G26680 13.000000     73.00000   37.00000      78.00000     \n",
       "6 AT1G61660 13.000000     19.66667   17.33333      38.33333     "
      ]
     },
     "metadata": {},
     "output_type": "display_data"
    }
   ],
   "source": [
    "head(dat)"
   ]
  },
  {
   "cell_type": "code",
   "execution_count": 46,
   "id": "470ad14a-cb92-40a2-805e-e06ec8b7a11c",
   "metadata": {},
   "outputs": [],
   "source": [
    "de <- dat"
   ]
  },
  {
   "cell_type": "code",
   "execution_count": 47,
   "id": "ea63e337-17f2-4bc3-9d29-1893830afd5d",
   "metadata": {},
   "outputs": [],
   "source": [
    "run_r50_de <- function(x){\n",
    "    de$combined_score <- de[,grep(x,colnames(de))]\n",
    "    de <- de %>% arrange(desc(combined_score))\n",
    "    count <- 0\n",
    "    for (i in seq(nrow(de))){\n",
    "        if (de$GeneID[i] %in% gsgo){\n",
    "            count <- count +1\n",
    "            if (count == r50){\n",
    "                return(i)\n",
    "                break\n",
    "            }\n",
    "        }\n",
    "    }\n",
    "} "
   ]
  },
  {
   "cell_type": "markdown",
   "id": "52ba7b46-df0c-4792-917a-7eca67a59383",
   "metadata": {},
   "source": [
    "#### Plot r50 with ranked by different centrality"
   ]
  },
  {
   "cell_type": "code",
   "execution_count": 48,
   "id": "16d03224-ed4c-4eea-9c67-67071e1caadc",
   "metadata": {},
   "outputs": [],
   "source": [
    "## Expressed TFs permutation\n",
    "R50_permutation <- c()\n",
    "for (j in 1:1000){\n",
    "ran <- sample(exptf, length(exptf), replace=FALSE)\n",
    "count <- 0\n",
    "for (i in seq(length(ran))){\n",
    "    if (ran[i] %in% gsgo){\n",
    "        count <- count +1\n",
    "        if (count == r50){\n",
    "            R50_permutation <- c(R50_permutation,i)\n",
    "            break\n",
    "        }\n",
    "    }\n",
    "}\n",
    "} "
   ]
  },
  {
   "cell_type": "code",
   "execution_count": 49,
   "id": "e798f559-342c-45f0-8f93-628b2bee8139",
   "metadata": {},
   "outputs": [],
   "source": [
    "toplt <- data.frame(Methods=c(\"GeneSys degree centrality\", \"GeneSys out centrality\", \"GeneSys in centrality\", \"GeneSys betweenness centrality\", \n",
    "                 \"GeneSys closeness centrality\", \"GeneSys eigenvector centrality\",\"CellOracle degree centrality\", \"CellOracle out centrality\", \n",
    "                 \"CellOracle in centrality\", \"CellOracle betweenness centrality\", \"CellOracle closeness centrality\", \"CellOracle eigenvector centrality\",\n",
    "                 \"DE myAUC rank\", \"DE pct diff rank\", \"DE avg diff rank\", \"Expressed TFs permutation\"),\n",
    "           R50=c(run_r50_genesys('degree_centrality'),run_r50_genesys('out_centrality'),run_r50_genesys('in_centrality'),\n",
    "                 run_r50_genesys('betweenness_centrality'),run_r50_genesys('closeness_centrality'),run_r50_genesys('eigenvector_centrality'),\n",
    "                 run_r50_celloracle('degree_centrality'),run_r50_celloracle('out_centrality'),run_r50_celloracle('in_centrality'),\n",
    "                 run_r50_celloracle('betweenness_centrality'),run_r50_celloracle('closeness_centrality'),run_r50_celloracle('eigenvector_centrality'),\n",
    "                 run_r50_de('myAUC_rank'),run_r50_de('pct.diff_rank'),run_r50_de('avg_diff_rank'), mean(R50_permutation)))"
   ]
  },
  {
   "cell_type": "code",
   "execution_count": 50,
   "id": "070c9b57-5093-4948-86c9-ed168652fa2d",
   "metadata": {},
   "outputs": [
    {
     "data": {
      "text/html": [
       "<table class=\"dataframe\">\n",
       "<caption>A data.frame: 16 x 2</caption>\n",
       "<thead>\n",
       "\t<tr><th scope=col>Methods</th><th scope=col>R50</th></tr>\n",
       "\t<tr><th scope=col>&lt;chr&gt;</th><th scope=col>&lt;dbl&gt;</th></tr>\n",
       "</thead>\n",
       "<tbody>\n",
       "\t<tr><td>GeneSys degree centrality        </td><td>335.000</td></tr>\n",
       "\t<tr><td>GeneSys out centrality           </td><td>373.000</td></tr>\n",
       "\t<tr><td>GeneSys in centrality            </td><td>340.000</td></tr>\n",
       "\t<tr><td>GeneSys betweenness centrality   </td><td>311.000</td></tr>\n",
       "\t<tr><td>GeneSys closeness centrality     </td><td>722.000</td></tr>\n",
       "\t<tr><td>GeneSys eigenvector centrality   </td><td>411.000</td></tr>\n",
       "\t<tr><td>CellOracle degree centrality     </td><td>512.000</td></tr>\n",
       "\t<tr><td>CellOracle out centrality        </td><td>506.000</td></tr>\n",
       "\t<tr><td>CellOracle in centrality         </td><td>441.000</td></tr>\n",
       "\t<tr><td>CellOracle betweenness centrality</td><td>368.000</td></tr>\n",
       "\t<tr><td>CellOracle closeness centrality  </td><td>517.000</td></tr>\n",
       "\t<tr><td>CellOracle eigenvector centrality</td><td>509.000</td></tr>\n",
       "\t<tr><td>DE myAUC rank                    </td><td>474.000</td></tr>\n",
       "\t<tr><td>DE pct diff rank                 </td><td>505.000</td></tr>\n",
       "\t<tr><td>DE avg diff rank                 </td><td>460.000</td></tr>\n",
       "\t<tr><td>Expressed TFs permutation        </td><td>747.937</td></tr>\n",
       "</tbody>\n",
       "</table>\n"
      ],
      "text/latex": [
       "A data.frame: 16 x 2\n",
       "\\begin{tabular}{ll}\n",
       " Methods & R50\\\\\n",
       " <chr> & <dbl>\\\\\n",
       "\\hline\n",
       "\t GeneSys degree centrality         & 335.000\\\\\n",
       "\t GeneSys out centrality            & 373.000\\\\\n",
       "\t GeneSys in centrality             & 340.000\\\\\n",
       "\t GeneSys betweenness centrality    & 311.000\\\\\n",
       "\t GeneSys closeness centrality      & 722.000\\\\\n",
       "\t GeneSys eigenvector centrality    & 411.000\\\\\n",
       "\t CellOracle degree centrality      & 512.000\\\\\n",
       "\t CellOracle out centrality         & 506.000\\\\\n",
       "\t CellOracle in centrality          & 441.000\\\\\n",
       "\t CellOracle betweenness centrality & 368.000\\\\\n",
       "\t CellOracle closeness centrality   & 517.000\\\\\n",
       "\t CellOracle eigenvector centrality & 509.000\\\\\n",
       "\t DE myAUC rank                     & 474.000\\\\\n",
       "\t DE pct diff rank                  & 505.000\\\\\n",
       "\t DE avg diff rank                  & 460.000\\\\\n",
       "\t Expressed TFs permutation         & 747.937\\\\\n",
       "\\end{tabular}\n"
      ],
      "text/markdown": [
       "\n",
       "A data.frame: 16 x 2\n",
       "\n",
       "| Methods &lt;chr&gt; | R50 &lt;dbl&gt; |\n",
       "|---|---|\n",
       "| GeneSys degree centrality         | 335.000 |\n",
       "| GeneSys out centrality            | 373.000 |\n",
       "| GeneSys in centrality             | 340.000 |\n",
       "| GeneSys betweenness centrality    | 311.000 |\n",
       "| GeneSys closeness centrality      | 722.000 |\n",
       "| GeneSys eigenvector centrality    | 411.000 |\n",
       "| CellOracle degree centrality      | 512.000 |\n",
       "| CellOracle out centrality         | 506.000 |\n",
       "| CellOracle in centrality          | 441.000 |\n",
       "| CellOracle betweenness centrality | 368.000 |\n",
       "| CellOracle closeness centrality   | 517.000 |\n",
       "| CellOracle eigenvector centrality | 509.000 |\n",
       "| DE myAUC rank                     | 474.000 |\n",
       "| DE pct diff rank                  | 505.000 |\n",
       "| DE avg diff rank                  | 460.000 |\n",
       "| Expressed TFs permutation         | 747.937 |\n",
       "\n"
      ],
      "text/plain": [
       "   Methods                           R50    \n",
       "1  GeneSys degree centrality         335.000\n",
       "2  GeneSys out centrality            373.000\n",
       "3  GeneSys in centrality             340.000\n",
       "4  GeneSys betweenness centrality    311.000\n",
       "5  GeneSys closeness centrality      722.000\n",
       "6  GeneSys eigenvector centrality    411.000\n",
       "7  CellOracle degree centrality      512.000\n",
       "8  CellOracle out centrality         506.000\n",
       "9  CellOracle in centrality          441.000\n",
       "10 CellOracle betweenness centrality 368.000\n",
       "11 CellOracle closeness centrality   517.000\n",
       "12 CellOracle eigenvector centrality 509.000\n",
       "13 DE myAUC rank                     474.000\n",
       "14 DE pct diff rank                  505.000\n",
       "15 DE avg diff rank                  460.000\n",
       "16 Expressed TFs permutation         747.937"
      ]
     },
     "metadata": {},
     "output_type": "display_data"
    }
   ],
   "source": [
    "toplt"
   ]
  },
  {
   "cell_type": "code",
   "execution_count": 51,
   "id": "7bb2f208-aa5a-4d24-a54e-724265bcd367",
   "metadata": {},
   "outputs": [
    {
     "data": {
      "image/png": "[encoded data removed]",
      "text/plain": [
       "plot without title"
      ]
     },
     "metadata": {
      "image/png": {
       "height": 480,
       "width": 600
      }
     },
     "output_type": "display_data"
    }
   ],
   "source": [
    "options(repr.plot.width=10, repr.plot.height=8)\n",
    "ggplot(toplt, aes(x=reorder(Methods, R50, decreasing = TRUE),  y=R50)) + geom_point(size=4)+ \n",
    "  labs(title=\"TF Prioritization Performance (R50) \\n on MINI-EX Functional Gold Standard\",x=\"\", y = \"R50\")+\n",
    "  theme_classic()+\n",
    "  theme(axis.text.x = element_text(color = \"black\", \n",
    "                           size = 16, angle = 0),\n",
    "          axis.text.y = element_text( color = \"black\", \n",
    "                           size = 16, angle = 0),\n",
    "        plot.title = element_text(color=\"black\", size=18, face=\"bold\"),\n",
    "        axis.title.x = element_text(color=\"black\", size=16, face=\"bold\"))+ coord_flip()"
   ]
  },
  {
   "cell_type": "code",
   "execution_count": 56,
   "id": "efae90a5-e73d-4a3c-9364-2c57bad6b056",
   "metadata": {},
   "outputs": [
    {
     "data": {
      "image/png": "[encoded data removed]",
      "text/plain": [
       "plot without title"
      ]
     },
     "metadata": {
      "image/png": {
       "height": 360,
       "width": 570
      }
     },
     "output_type": "display_data"
    }
   ],
   "source": [
    "toplt <- data.frame(Methods=factor(c(rep(\"GeneSys\",6), rep(\"CellOracle\",6), rep(\"DE\",3), \"Expressed TFs permutation\"), \n",
    "                                   levels=c(\"Expressed TFs permutation\",\"CellOracle\",  \"DE\", \"GeneSys\")), R50=toplt$R50)\n",
    "\n",
    "options(repr.plot.width=9.5, repr.plot.height=6)\n",
    "ggplot(toplt, aes(x=Methods, y=R50))+\n",
    "  geom_boxplot(width=0.3)+ \n",
    "  labs(title=\"TF Prioritization Performance (R50) \\n on MINI-EX Functional Gold Standard\",x=\"\", y = \"R50\")+\n",
    "  theme_classic()+\n",
    "  theme(axis.text.x = element_text(color = \"black\", \n",
    "                           size = 16, angle = 0),\n",
    "          axis.text.y = element_text( color = \"black\", \n",
    "                           size = 16, angle = 0),\n",
    "        plot.title = element_text(color=\"black\", size=18, face=\"bold\"),\n",
    "        axis.title.x = element_text(color=\"black\", size=16, face=\"bold\"))+ coord_flip()"
   ]
  },
  {
   "cell_type": "code",
   "execution_count": null,
   "id": "0a51a1b9-2dec-4a6e-8634-d8eba5ac191b",
   "metadata": {},
   "outputs": [],
   "source": []
  }
 ],
 "metadata": {
  "kernelspec": {
   "display_name": "R",
   "language": "R",
   "name": "ir"
  },
  "language_info": {
   "codemirror_mode": "r",
   "file_extension": ".r",
   "mimetype": "text/x-r-source",
   "name": "R",
   "pygments_lexer": "r",
   "version": "4.2.2"
  }
 },
 "nbformat": 4,
 "nbformat_minor": 5
}
