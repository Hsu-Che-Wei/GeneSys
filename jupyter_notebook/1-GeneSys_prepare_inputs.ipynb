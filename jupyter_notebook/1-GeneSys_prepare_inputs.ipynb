{
 "cells": [
  {
   "cell_type": "code",
   "execution_count": 1,
   "id": "4dffda3e-6010-4b33-8da6-a1d9bb1ef2bd",
   "metadata": {},
   "outputs": [],
   "source": [
    "import os\n",
    "\n",
    "## Set directory\n",
    "os.chdir('/hpc/group/pbenfeylab/CheWei/CW_data/genesys')\n",
    "\n",
    "from genesys_train_v1 import *\n",
    "%matplotlib inline\n",
    "%config InlineBackend.figure_format = 'retina'"
   ]
  },
  {
   "cell_type": "code",
   "execution_count": 2,
   "id": "21f3efbd-0858-4ea7-bbe6-9895938d8192",
   "metadata": {},
   "outputs": [
    {
     "name": "stdout",
     "output_type": "stream",
     "text": [
      "1.13.0.post200\n",
      "1.9.1\n"
     ]
    }
   ],
   "source": [
    "## Conda Env pytorch-gpu on DCC\n",
    "## pytorch version\n",
    "print(torch.__version__)\n",
    "## scanpy\n",
    "print(sc.__version__) "
   ]
  },
  {
   "cell_type": "code",
   "execution_count": 3,
   "id": "04ecc14f-a5e3-4329-aae2-17d6a52d54da",
   "metadata": {},
   "outputs": [],
   "source": [
    "## Genes considered/used (shared among samples) \n",
    "gene_list = pd.read_csv('./gene_list_1108.csv')"
   ]
  },
  {
   "cell_type": "markdown",
   "id": "4c900d28-17b6-4638-a6bb-1b28dfdfdc3e",
   "metadata": {},
   "source": [
    "#### Load root atlas data that is going to used for GeneSys training"
   ]
  },
  {
   "cell_type": "code",
   "execution_count": 4,
   "id": "cc4d609e-6c89-47d8-81ec-e7787953a516",
   "metadata": {},
   "outputs": [
    {
     "name": "stderr",
     "output_type": "stream",
     "text": [
      "/hpc/group/pbenfeylab/ch416/miniconda3/envs/pytorch-gpu/lib/python3.8/site-packages/anndata/compat/__init__.py:232: FutureWarning: Moving element from .uns['neighbors']['distances'] to .obsp['distances'].\n",
      "\n",
      "This is where adjacency matrices should go now.\n",
      "  warn(\n"
     ]
    }
   ],
   "source": [
    "adata = sc.read_h5ad(\"/hpc/group/pbenfeylab/CheWei/scRNA-seq/Integrated_Objects/rc.integrated.integrated.h5ad\")\n",
    "meta = pd.read_csv(\"/hpc/group/pbenfeylab/CheWei/scRNA-seq/Integrated_Objects/Root_Atlas_meta.csv\", index_col=0)\n",
    "adata.obs['celltype.anno'] = meta['celltype.anno']\n",
    "adata.obs['consensus.time'] = meta['pseudotime']"
   ]
  },
  {
   "cell_type": "code",
   "execution_count": 5,
   "id": "6ac3e32f-d017-48d9-b046-8b9c39940020",
   "metadata": {},
   "outputs": [
    {
     "data": {
      "text/plain": [
       "AnnData object with n_obs × n_vars = 110427 × 17513\n",
       "    obs: 'orig.ident', 'seurat_clusters', 'celltype.anno', 'time.anno', 'consensus.time.group', 'branch.anno', 'Long.ID.P', 'ploidy.ID.P', 'consensus.time'\n",
       "    var: 'SCT_features', '_index', 'features'\n",
       "    uns: 'neighbors'\n",
       "    obsm: 'X_pca', 'X_umap', 'X_umap_2D', 'X_umap_3D', 'X_umap_50'\n",
       "    varm: 'PCs'\n",
       "    layers: 'SCT'\n",
       "    obsp: 'distances'"
      ]
     },
     "execution_count": 5,
     "metadata": {},
     "output_type": "execute_result"
    }
   ],
   "source": [
    "adata"
   ]
  },
  {
   "cell_type": "code",
   "execution_count": 6,
   "id": "19f5bf5a-356a-43b8-98ae-127f594fa7e5",
   "metadata": {},
   "outputs": [],
   "source": [
    "##The integrated assay values were floored at zero and normalized to the range of zero to one\n",
    "adata.X[adata.X < 0]=0\n",
    "mmin = np.amin(adata.X)\n",
    "nor = (np.amax(adata.X)-mmin)\n",
    "adata.X = (adata.X-mmin)/nor"
   ]
  },
  {
   "cell_type": "code",
   "execution_count": 7,
   "id": "966abf5f-c8f3-44fa-88c3-0e7d165cb85d",
   "metadata": {},
   "outputs": [],
   "source": [
    "## Prepare labels\n",
    "time_bin = adata.obs['consensus.time'].copy()\n",
    "celltype = adata.obs['celltype.anno']\n",
    "celltype = celltype.replace('Quiescent Center', -1)\n",
    "celltype = celltype.replace('Columella', 0)\n",
    "celltype = celltype.replace('Lateral Root Cap', 1)\n",
    "celltype = celltype.replace('Phloem', 2)\n",
    "celltype = celltype.replace('Xylem', 3)\n",
    "celltype = celltype.replace('Procambium', 4)\n",
    "celltype = celltype.replace('Pericycle', 5)\n",
    "celltype = celltype.replace('Endodermis', 6)\n",
    "celltype = celltype.replace('Cortex', 7)\n",
    "celltype = celltype.replace('Atrichoblast', 8)\n",
    "celltype = celltype.replace('Trichoblast', 9)\n",
    "for i in range(10):\n",
    "    time_bin[np.where(celltype == i)[0]]=pd.qcut(pd.Series(adata.obs['consensus.time'][np.where(celltype == i)[0]]),q=10,labels=range(1,11)).to_numpy()\n",
    "    \n",
    "time_bin[np.where(celltype == -1)[0]] = 0 \n",
    "labels = adata.obs['celltype.anno'].astype(str) + \"_\" + time_bin.astype(str)\n",
    "labels = celltype.astype(str) + \"_\" + time_bin.astype(str)\n",
    "\n",
    "## Prepare training, validation and test set\n",
    "X_train, X_test, y_train, y_test = train_test_split(\n",
    "            np.array(adata.X), labels, test_size=0.2, stratify=labels, shuffle=True, random_state=0)\n",
    "X_train, X_val, y_train, y_val = train_test_split(\n",
    "            X_train, y_train, test_size=0.2, stratify=y_train, shuffle=True, random_state=0)\n",
    "data = {}\n",
    "data['X_train'] = X_train\n",
    "data['y_train'] = y_train\n",
    "data['X_val'] = X_val\n",
    "data['y_val'] = y_val\n",
    "data['X_test'] = X_test\n",
    "data['y_test'] = y_test\n",
    "\n",
    "## Save the input data for GeneSys\n",
    "\n",
    "#with open(\"./genesys_root_data.pkl\", 'wb') as file_handle:\n",
    "#    pickle.dump(data, file_handle)"
   ]
  },
  {
   "cell_type": "markdown",
   "id": "7ce94887-f9b0-4f11-b561-fa915a4425b6",
   "metadata": {},
   "source": [
    "#### Load unseen scRNA-seq data"
   ]
  },
  {
   "cell_type": "code",
   "execution_count": 8,
   "id": "c88f29b9-b565-4e6d-b988-634a3551350b",
   "metadata": {},
   "outputs": [
    {
     "name": "stderr",
     "output_type": "stream",
     "text": [
      "/hpc/group/pbenfeylab/ch416/miniconda3/envs/pytorch-gpu/lib/python3.8/site-packages/anndata/compat/__init__.py:232: FutureWarning: Moving element from .uns['neighbors']['distances'] to .obsp['distances'].\n",
      "\n",
      "This is where adjacency matrices should go now.\n",
      "  warn(\n"
     ]
    }
   ],
   "source": [
    "## Load unseen WT scRNA-seq data (The .h5ad file is converted from Seurat Objects from GEO GSE152766)\n",
    "wt = sc.read_h5ad(\"/hpc/group/pbenfeylab/CheWei/scRNA-seq/Integrated_Objects/rswt_integrated.h5ad\")"
   ]
  },
  {
   "cell_type": "code",
   "execution_count": 9,
   "id": "536cb247-6886-4dfb-9e84-06f4e6155fe5",
   "metadata": {},
   "outputs": [
    {
     "data": {
      "text/plain": [
       "AnnData object with n_obs × n_vars = 22249 × 19269\n",
       "    obs: 'orig.ident', 'time.celltype.anno.Li.crude', 'time.celltype.anno.Li', 'time.celltype.anno', 'time.celltype.anno.crude', 'celltype.anno.crude', 'celltype.anno', 'time.anno', 'consensus.time.group', 'CytoTRACE.time'\n",
       "    var: 'SCT_features', '_index', 'features'\n",
       "    uns: 'neighbors'\n",
       "    obsm: 'X_pca', 'X_umap', 'X_umap_2D', 'X_umap_3D'\n",
       "    varm: 'PCs'\n",
       "    layers: 'SCT'\n",
       "    obsp: 'distances'"
      ]
     },
     "execution_count": 9,
     "metadata": {},
     "output_type": "execute_result"
    }
   ],
   "source": [
    "wt"
   ]
  },
  {
   "cell_type": "code",
   "execution_count": 10,
   "id": "467139bc-a548-44ce-9ccc-abe0e1ef9b3e",
   "metadata": {},
   "outputs": [],
   "source": [
    "##The integrated assay values were floored at zero and normalized to the range of zero to one\n",
    "wt.X[wt.X < 0]=0\n",
    "mmin = np.amin(wt.X)\n",
    "nor = (np.amax(wt.X)-mmin)\n",
    "wt.X = (wt.X-mmin)/nor"
   ]
  },
  {
   "cell_type": "code",
   "execution_count": 11,
   "id": "ae37482d-4bc8-4929-a35b-75cfac3d4a5c",
   "metadata": {},
   "outputs": [],
   "source": [
    "## Resize the number of features/genes to match GeneSys's input dimension for features/genes\n",
    "mi = match(np.array(gene_list['features']).tolist(),wt.var.features.tolist())\n",
    "mi = np.array(mi)\n",
    "\n",
    "wtx = pd.DataFrame(wt.X.copy())\n",
    "wtx[len(wtx.columns)] = pd.Series(0.0, index=np.arange(len(wtx)))\n",
    "mi[np.where(mi==None)[0]] = len(wtx.columns)-1\n",
    "wtx = wtx[pd.Series(mi)]\n",
    "wtx.columns = np.array(gene_list['features']).tolist()"
   ]
  },
  {
   "cell_type": "code",
   "execution_count": 12,
   "id": "4a659f9e-2eb0-4ae1-9f95-4c73b91cba23",
   "metadata": {},
   "outputs": [
    {
     "data": {
      "text/plain": [
       "(22249, 17513)"
      ]
     },
     "execution_count": 12,
     "metadata": {},
     "output_type": "execute_result"
    }
   ],
   "source": [
    "wtx.shape"
   ]
  },
  {
   "cell_type": "code",
   "execution_count": 13,
   "id": "0b52b620-2641-461a-87f9-bb646cf64c03",
   "metadata": {},
   "outputs": [
    {
     "data": {
      "text/html": [
       "<div>\n",
       "<style scoped>\n",
       "    .dataframe tbody tr th:only-of-type {\n",
       "        vertical-align: middle;\n",
       "    }\n",
       "\n",
       "    .dataframe tbody tr th {\n",
       "        vertical-align: top;\n",
       "    }\n",
       "\n",
       "    .dataframe thead th {\n",
       "        text-align: right;\n",
       "    }\n",
       "</style>\n",
       "<table border=\"1\" class=\"dataframe\">\n",
       "  <thead>\n",
       "    <tr style=\"text-align: right;\">\n",
       "      <th></th>\n",
       "      <th>AT1G05260</th>\n",
       "      <th>AT3G59370</th>\n",
       "      <th>AT2G36100</th>\n",
       "      <th>AT1G12080</th>\n",
       "      <th>AT1G12090</th>\n",
       "      <th>AT4G11290</th>\n",
       "      <th>AT5G42180</th>\n",
       "      <th>AT5G66390</th>\n",
       "      <th>AT2G32300</th>\n",
       "      <th>AT2G02130</th>\n",
       "      <th>...</th>\n",
       "      <th>AT4G06395</th>\n",
       "      <th>AT3G55440</th>\n",
       "      <th>AT3G03100</th>\n",
       "      <th>AT5G54760</th>\n",
       "      <th>AT2G33040</th>\n",
       "      <th>AT2G42680</th>\n",
       "      <th>AT5G11770</th>\n",
       "      <th>AT5G08290</th>\n",
       "      <th>AT5G53300</th>\n",
       "      <th>AT5G64400</th>\n",
       "    </tr>\n",
       "  </thead>\n",
       "  <tbody>\n",
       "    <tr>\n",
       "      <th>0</th>\n",
       "      <td>0.0</td>\n",
       "      <td>1.0</td>\n",
       "      <td>0.000000</td>\n",
       "      <td>0.0</td>\n",
       "      <td>0.000000</td>\n",
       "      <td>0.0</td>\n",
       "      <td>0.280373</td>\n",
       "      <td>0.000000</td>\n",
       "      <td>0.0</td>\n",
       "      <td>0.629164</td>\n",
       "      <td>...</td>\n",
       "      <td>0.000000</td>\n",
       "      <td>0.026394</td>\n",
       "      <td>0.010529</td>\n",
       "      <td>0.000000</td>\n",
       "      <td>0.076983</td>\n",
       "      <td>0.188773</td>\n",
       "      <td>0.000000</td>\n",
       "      <td>0.000000</td>\n",
       "      <td>0.062446</td>\n",
       "      <td>0.023031</td>\n",
       "    </tr>\n",
       "    <tr>\n",
       "      <th>1</th>\n",
       "      <td>0.0</td>\n",
       "      <td>0.0</td>\n",
       "      <td>0.000000</td>\n",
       "      <td>0.0</td>\n",
       "      <td>0.000000</td>\n",
       "      <td>0.0</td>\n",
       "      <td>0.000000</td>\n",
       "      <td>0.000000</td>\n",
       "      <td>0.0</td>\n",
       "      <td>0.000000</td>\n",
       "      <td>...</td>\n",
       "      <td>0.000000</td>\n",
       "      <td>0.004356</td>\n",
       "      <td>0.000000</td>\n",
       "      <td>0.000000</td>\n",
       "      <td>0.000000</td>\n",
       "      <td>0.000000</td>\n",
       "      <td>0.000000</td>\n",
       "      <td>0.000000</td>\n",
       "      <td>0.074705</td>\n",
       "      <td>0.043984</td>\n",
       "    </tr>\n",
       "    <tr>\n",
       "      <th>2</th>\n",
       "      <td>0.0</td>\n",
       "      <td>0.0</td>\n",
       "      <td>0.000000</td>\n",
       "      <td>0.0</td>\n",
       "      <td>1.000000</td>\n",
       "      <td>0.0</td>\n",
       "      <td>0.000000</td>\n",
       "      <td>0.000000</td>\n",
       "      <td>0.0</td>\n",
       "      <td>0.000000</td>\n",
       "      <td>...</td>\n",
       "      <td>0.000000</td>\n",
       "      <td>0.000000</td>\n",
       "      <td>0.000000</td>\n",
       "      <td>0.003400</td>\n",
       "      <td>0.000000</td>\n",
       "      <td>0.000000</td>\n",
       "      <td>0.000000</td>\n",
       "      <td>0.000000</td>\n",
       "      <td>0.000000</td>\n",
       "      <td>0.000000</td>\n",
       "    </tr>\n",
       "    <tr>\n",
       "      <th>3</th>\n",
       "      <td>0.0</td>\n",
       "      <td>0.0</td>\n",
       "      <td>0.000000</td>\n",
       "      <td>0.0</td>\n",
       "      <td>0.000000</td>\n",
       "      <td>0.0</td>\n",
       "      <td>0.000000</td>\n",
       "      <td>0.000000</td>\n",
       "      <td>0.0</td>\n",
       "      <td>0.657121</td>\n",
       "      <td>...</td>\n",
       "      <td>0.000000</td>\n",
       "      <td>0.000000</td>\n",
       "      <td>0.000000</td>\n",
       "      <td>0.011573</td>\n",
       "      <td>0.008235</td>\n",
       "      <td>0.253549</td>\n",
       "      <td>0.000000</td>\n",
       "      <td>0.020572</td>\n",
       "      <td>0.000000</td>\n",
       "      <td>0.015544</td>\n",
       "    </tr>\n",
       "    <tr>\n",
       "      <th>4</th>\n",
       "      <td>0.0</td>\n",
       "      <td>0.0</td>\n",
       "      <td>0.066269</td>\n",
       "      <td>0.0</td>\n",
       "      <td>0.000000</td>\n",
       "      <td>0.0</td>\n",
       "      <td>0.000000</td>\n",
       "      <td>0.000000</td>\n",
       "      <td>0.0</td>\n",
       "      <td>0.000000</td>\n",
       "      <td>...</td>\n",
       "      <td>0.000000</td>\n",
       "      <td>0.119030</td>\n",
       "      <td>0.041525</td>\n",
       "      <td>0.069649</td>\n",
       "      <td>0.047870</td>\n",
       "      <td>0.102450</td>\n",
       "      <td>0.040937</td>\n",
       "      <td>0.089413</td>\n",
       "      <td>0.036108</td>\n",
       "      <td>0.066530</td>\n",
       "    </tr>\n",
       "    <tr>\n",
       "      <th>...</th>\n",
       "      <td>...</td>\n",
       "      <td>...</td>\n",
       "      <td>...</td>\n",
       "      <td>...</td>\n",
       "      <td>...</td>\n",
       "      <td>...</td>\n",
       "      <td>...</td>\n",
       "      <td>...</td>\n",
       "      <td>...</td>\n",
       "      <td>...</td>\n",
       "      <td>...</td>\n",
       "      <td>...</td>\n",
       "      <td>...</td>\n",
       "      <td>...</td>\n",
       "      <td>...</td>\n",
       "      <td>...</td>\n",
       "      <td>...</td>\n",
       "      <td>...</td>\n",
       "      <td>...</td>\n",
       "      <td>...</td>\n",
       "      <td>...</td>\n",
       "    </tr>\n",
       "    <tr>\n",
       "      <th>22244</th>\n",
       "      <td>0.0</td>\n",
       "      <td>0.0</td>\n",
       "      <td>0.000000</td>\n",
       "      <td>0.0</td>\n",
       "      <td>1.000000</td>\n",
       "      <td>0.0</td>\n",
       "      <td>0.000000</td>\n",
       "      <td>0.000000</td>\n",
       "      <td>0.0</td>\n",
       "      <td>0.000000</td>\n",
       "      <td>...</td>\n",
       "      <td>0.007885</td>\n",
       "      <td>0.018090</td>\n",
       "      <td>0.046862</td>\n",
       "      <td>0.016902</td>\n",
       "      <td>0.012276</td>\n",
       "      <td>0.000000</td>\n",
       "      <td>0.000000</td>\n",
       "      <td>0.031478</td>\n",
       "      <td>0.018788</td>\n",
       "      <td>0.000000</td>\n",
       "    </tr>\n",
       "    <tr>\n",
       "      <th>22245</th>\n",
       "      <td>0.0</td>\n",
       "      <td>1.0</td>\n",
       "      <td>0.000000</td>\n",
       "      <td>1.0</td>\n",
       "      <td>0.259549</td>\n",
       "      <td>0.0</td>\n",
       "      <td>0.000000</td>\n",
       "      <td>0.155904</td>\n",
       "      <td>0.0</td>\n",
       "      <td>1.000000</td>\n",
       "      <td>...</td>\n",
       "      <td>0.000000</td>\n",
       "      <td>0.099126</td>\n",
       "      <td>0.172438</td>\n",
       "      <td>0.000000</td>\n",
       "      <td>0.047243</td>\n",
       "      <td>0.000000</td>\n",
       "      <td>0.000000</td>\n",
       "      <td>0.094165</td>\n",
       "      <td>0.096834</td>\n",
       "      <td>0.062185</td>\n",
       "    </tr>\n",
       "    <tr>\n",
       "      <th>22246</th>\n",
       "      <td>0.0</td>\n",
       "      <td>0.0</td>\n",
       "      <td>0.095308</td>\n",
       "      <td>0.0</td>\n",
       "      <td>0.770502</td>\n",
       "      <td>0.0</td>\n",
       "      <td>0.000000</td>\n",
       "      <td>0.000000</td>\n",
       "      <td>0.0</td>\n",
       "      <td>0.000000</td>\n",
       "      <td>...</td>\n",
       "      <td>0.000000</td>\n",
       "      <td>0.000000</td>\n",
       "      <td>0.000000</td>\n",
       "      <td>0.113197</td>\n",
       "      <td>0.000000</td>\n",
       "      <td>0.056963</td>\n",
       "      <td>0.000000</td>\n",
       "      <td>0.000000</td>\n",
       "      <td>0.000000</td>\n",
       "      <td>0.000000</td>\n",
       "    </tr>\n",
       "    <tr>\n",
       "      <th>22247</th>\n",
       "      <td>0.0</td>\n",
       "      <td>0.0</td>\n",
       "      <td>0.041253</td>\n",
       "      <td>0.0</td>\n",
       "      <td>0.000000</td>\n",
       "      <td>0.0</td>\n",
       "      <td>0.124179</td>\n",
       "      <td>0.127684</td>\n",
       "      <td>0.0</td>\n",
       "      <td>0.000000</td>\n",
       "      <td>...</td>\n",
       "      <td>0.000000</td>\n",
       "      <td>0.000000</td>\n",
       "      <td>0.000000</td>\n",
       "      <td>0.000000</td>\n",
       "      <td>0.000000</td>\n",
       "      <td>0.003071</td>\n",
       "      <td>0.000000</td>\n",
       "      <td>0.027698</td>\n",
       "      <td>0.003041</td>\n",
       "      <td>0.079789</td>\n",
       "    </tr>\n",
       "    <tr>\n",
       "      <th>22248</th>\n",
       "      <td>0.0</td>\n",
       "      <td>0.0</td>\n",
       "      <td>0.000000</td>\n",
       "      <td>0.0</td>\n",
       "      <td>0.000000</td>\n",
       "      <td>0.0</td>\n",
       "      <td>0.000000</td>\n",
       "      <td>0.000000</td>\n",
       "      <td>0.0</td>\n",
       "      <td>0.000000</td>\n",
       "      <td>...</td>\n",
       "      <td>0.000000</td>\n",
       "      <td>0.000000</td>\n",
       "      <td>0.014422</td>\n",
       "      <td>0.069640</td>\n",
       "      <td>0.009993</td>\n",
       "      <td>0.000000</td>\n",
       "      <td>0.000000</td>\n",
       "      <td>0.000000</td>\n",
       "      <td>0.000000</td>\n",
       "      <td>0.131553</td>\n",
       "    </tr>\n",
       "  </tbody>\n",
       "</table>\n",
       "<p>22249 rows × 17513 columns</p>\n",
       "</div>"
      ],
      "text/plain": [
       "       AT1G05260  AT3G59370  AT2G36100  AT1G12080  AT1G12090  AT4G11290  \\\n",
       "0            0.0        1.0   0.000000        0.0   0.000000        0.0   \n",
       "1            0.0        0.0   0.000000        0.0   0.000000        0.0   \n",
       "2            0.0        0.0   0.000000        0.0   1.000000        0.0   \n",
       "3            0.0        0.0   0.000000        0.0   0.000000        0.0   \n",
       "4            0.0        0.0   0.066269        0.0   0.000000        0.0   \n",
       "...          ...        ...        ...        ...        ...        ...   \n",
       "22244        0.0        0.0   0.000000        0.0   1.000000        0.0   \n",
       "22245        0.0        1.0   0.000000        1.0   0.259549        0.0   \n",
       "22246        0.0        0.0   0.095308        0.0   0.770502        0.0   \n",
       "22247        0.0        0.0   0.041253        0.0   0.000000        0.0   \n",
       "22248        0.0        0.0   0.000000        0.0   0.000000        0.0   \n",
       "\n",
       "       AT5G42180  AT5G66390  AT2G32300  AT2G02130  ...  AT4G06395  AT3G55440  \\\n",
       "0       0.280373   0.000000        0.0   0.629164  ...   0.000000   0.026394   \n",
       "1       0.000000   0.000000        0.0   0.000000  ...   0.000000   0.004356   \n",
       "2       0.000000   0.000000        0.0   0.000000  ...   0.000000   0.000000   \n",
       "3       0.000000   0.000000        0.0   0.657121  ...   0.000000   0.000000   \n",
       "4       0.000000   0.000000        0.0   0.000000  ...   0.000000   0.119030   \n",
       "...          ...        ...        ...        ...  ...        ...        ...   \n",
       "22244   0.000000   0.000000        0.0   0.000000  ...   0.007885   0.018090   \n",
       "22245   0.000000   0.155904        0.0   1.000000  ...   0.000000   0.099126   \n",
       "22246   0.000000   0.000000        0.0   0.000000  ...   0.000000   0.000000   \n",
       "22247   0.124179   0.127684        0.0   0.000000  ...   0.000000   0.000000   \n",
       "22248   0.000000   0.000000        0.0   0.000000  ...   0.000000   0.000000   \n",
       "\n",
       "       AT3G03100  AT5G54760  AT2G33040  AT2G42680  AT5G11770  AT5G08290  \\\n",
       "0       0.010529   0.000000   0.076983   0.188773   0.000000   0.000000   \n",
       "1       0.000000   0.000000   0.000000   0.000000   0.000000   0.000000   \n",
       "2       0.000000   0.003400   0.000000   0.000000   0.000000   0.000000   \n",
       "3       0.000000   0.011573   0.008235   0.253549   0.000000   0.020572   \n",
       "4       0.041525   0.069649   0.047870   0.102450   0.040937   0.089413   \n",
       "...          ...        ...        ...        ...        ...        ...   \n",
       "22244   0.046862   0.016902   0.012276   0.000000   0.000000   0.031478   \n",
       "22245   0.172438   0.000000   0.047243   0.000000   0.000000   0.094165   \n",
       "22246   0.000000   0.113197   0.000000   0.056963   0.000000   0.000000   \n",
       "22247   0.000000   0.000000   0.000000   0.003071   0.000000   0.027698   \n",
       "22248   0.014422   0.069640   0.009993   0.000000   0.000000   0.000000   \n",
       "\n",
       "       AT5G53300  AT5G64400  \n",
       "0       0.062446   0.023031  \n",
       "1       0.074705   0.043984  \n",
       "2       0.000000   0.000000  \n",
       "3       0.000000   0.015544  \n",
       "4       0.036108   0.066530  \n",
       "...          ...        ...  \n",
       "22244   0.018788   0.000000  \n",
       "22245   0.096834   0.062185  \n",
       "22246   0.000000   0.000000  \n",
       "22247   0.003041   0.079789  \n",
       "22248   0.000000   0.131553  \n",
       "\n",
       "[22249 rows x 17513 columns]"
      ]
     },
     "execution_count": 13,
     "metadata": {},
     "output_type": "execute_result"
    }
   ],
   "source": [
    "wtx"
   ]
  },
  {
   "cell_type": "code",
   "execution_count": 14,
   "id": "7f181e2b-f422-4c5f-a9ca-b35acfbe930b",
   "metadata": {},
   "outputs": [],
   "source": [
    "## Prepare labels\n",
    "time_bin = wt.obs['CytoTRACE.time'].copy()\n",
    "celltype = wt.obs['celltype.anno.crude']\n",
    "celltype = celltype.replace('Quiescent Center', -1)\n",
    "celltype = celltype.replace('Columella', 0)\n",
    "celltype = celltype.replace('Lateral Root Cap', 1)\n",
    "celltype = celltype.replace('Phloem', 2)\n",
    "celltype = celltype.replace('Xylem', 3)\n",
    "celltype = celltype.replace('Procambium', 4)\n",
    "celltype = celltype.replace('Pericycle', 5)\n",
    "celltype = celltype.replace('Endodermis', 6)\n",
    "celltype = celltype.replace('Cortex', 7)\n",
    "celltype = celltype.replace('Atrichoblast', 8)\n",
    "celltype = celltype.replace('Trichoblast', 9)\n",
    "for i in range(10):\n",
    "    time_bin[np.where(celltype == i)[0]]=pd.qcut(pd.Series(wt.obs['CytoTRACE.time'][np.where(celltype == i)[0]]),q=10,labels=range(1,11)).to_numpy()\n",
    "    \n",
    "time_bin[np.where(celltype == -1)[0]] = 0 \n",
    "labels = wt.obs['celltype.anno.crude'].astype(str) + \"_\" + time_bin.astype(str)\n",
    "labels = celltype.astype(str) + \"_\" + time_bin.astype(str)\n",
    "\n",
    "## Prepare training, validation and test set\n",
    "X_train, X_test, y_train, y_test = train_test_split(\n",
    "            np.array(wtx), labels, test_size=0.2, stratify=labels, shuffle=True, random_state=0)\n",
    "X_train, X_val, y_train, y_val = train_test_split(\n",
    "            X_train, y_train, test_size=0.2, stratify=y_train, shuffle=True, random_state=0)\n",
    "data = {}\n",
    "data['X_train'] = X_train\n",
    "data['y_train'] = y_train\n",
    "data['X_val'] = X_val\n",
    "data['y_val'] = y_val\n",
    "data['X_test'] = X_test\n",
    "data['y_test'] = y_test\n",
    "\n",
    "## Save the input data for GeneSys\n",
    "\n",
    "#with open(\"./genesys_rswt_data.pkl\", 'wb') as file_handle:\n",
    "#    pickle.dump(data, file_handle)"
   ]
  },
  {
   "cell_type": "markdown",
   "id": "0b0f5ecf-59da-49ee-80e7-992c08c79c2e",
   "metadata": {},
   "source": [
    "#### Load mutant scRNA-seq data (shr and scr)"
   ]
  },
  {
   "cell_type": "code",
   "execution_count": 15,
   "id": "5473c812-2fca-4e94-bccc-568c38f84cfc",
   "metadata": {},
   "outputs": [
    {
     "name": "stderr",
     "output_type": "stream",
     "text": [
      "/hpc/group/pbenfeylab/ch416/miniconda3/envs/pytorch-gpu/lib/python3.8/site-packages/anndata/compat/__init__.py:232: FutureWarning: Moving element from .uns['neighbors']['distances'] to .obsp['distances'].\n",
      "\n",
      "This is where adjacency matrices should go now.\n",
      "  warn(\n",
      "/hpc/group/pbenfeylab/ch416/miniconda3/envs/pytorch-gpu/lib/python3.8/site-packages/anndata/compat/__init__.py:232: FutureWarning: Moving element from .uns['neighbors']['distances'] to .obsp['distances'].\n",
      "\n",
      "This is where adjacency matrices should go now.\n",
      "  warn(\n"
     ]
    }
   ],
   "source": [
    "## Load mutant scRNA-seq data (The .h5ad file is converted from Seurat Objects from GEO GSE152766)\n",
    "shr = sc.read_h5ad(\"/hpc/group/pbenfeylab/CheWei/scRNA-seq/Integrated_Objects/shr_integrated.h5ad\")\n",
    "scr = sc.read_h5ad(\"/hpc/group/pbenfeylab/CheWei/scRNA-seq/Integrated_Objects/scr_integrated.h5ad\")"
   ]
  },
  {
   "cell_type": "code",
   "execution_count": 16,
   "id": "d3810326-1de3-4ef0-91aa-9e9e7dff2e47",
   "metadata": {},
   "outputs": [
    {
     "data": {
      "text/plain": [
       "AnnData object with n_obs × n_vars = 14612 × 19035\n",
       "    obs: 'orig.ident', 'time.celltype.anno.Li.crude', 'time.celltype.anno.Li', 'time.celltype.anno', 'time.celltype.anno.crude', 'celltype.anno.crude', 'celltype.anno', 'time.anno', 'consensus.time.group', 'CytoTRACE.time'\n",
       "    var: 'SCT_features', '_index', 'features'\n",
       "    uns: 'neighbors'\n",
       "    obsm: 'X_pca', 'X_umap', 'X_umap_2D', 'X_umap_3D', 'X_umap_50'\n",
       "    varm: 'PCs'\n",
       "    layers: 'SCT'\n",
       "    obsp: 'distances'"
      ]
     },
     "execution_count": 16,
     "metadata": {},
     "output_type": "execute_result"
    }
   ],
   "source": [
    "shr"
   ]
  },
  {
   "cell_type": "code",
   "execution_count": 17,
   "id": "1ebb0b27-31cf-446d-b055-22323aabccce",
   "metadata": {},
   "outputs": [
    {
     "data": {
      "text/plain": [
       "AnnData object with n_obs × n_vars = 13742 × 19368\n",
       "    obs: 'orig.ident', 'time.celltype.anno.Li.crude', 'time.celltype.anno.Li', 'time.celltype.anno', 'time.celltype.anno.crude', 'celltype.anno.crude', 'celltype.anno', 'time.anno', 'consensus.time.group', 'CytoTRACE.time'\n",
       "    var: 'SCT_features', '_index', 'features'\n",
       "    uns: 'neighbors'\n",
       "    obsm: 'X_pca', 'X_umap', 'X_umap_2D', 'X_umap_3D', 'X_umap_50'\n",
       "    varm: 'PCs'\n",
       "    layers: 'SCT'\n",
       "    obsp: 'distances'"
      ]
     },
     "execution_count": 17,
     "metadata": {},
     "output_type": "execute_result"
    }
   ],
   "source": [
    "scr"
   ]
  },
  {
   "cell_type": "code",
   "execution_count": 18,
   "id": "12597a72-1fe3-48cb-95b5-772018f347fb",
   "metadata": {},
   "outputs": [],
   "source": [
    "# Floored at 0 (And make sure ceiling at 10) and normalize to range 0-1\n",
    "shr.X[shr.X < 0]=0\n",
    "mmin = np.amin(shr.X)\n",
    "nor = (np.amax(shr.X)-mmin)\n",
    "shr.X = (shr.X-mmin)/nor\n",
    "############################\n",
    "scr.X[scr.X < 0]=0\n",
    "mmin = np.amin(scr.X)\n",
    "nor = (np.amax(scr.X)-mmin)\n",
    "scr.X = (scr.X-mmin)/nor"
   ]
  },
  {
   "cell_type": "code",
   "execution_count": 22,
   "id": "954d779c-504f-4565-9d8a-f1f7d32f7ba5",
   "metadata": {},
   "outputs": [],
   "source": [
    "## Resize the number of features/genes to match GeneSys's input dimension for features/genes\n",
    "mi = match(np.array(gene_list['features']).tolist(),shr.var.features.tolist())\n",
    "mi = np.array(mi)\n",
    "shrx = pd.DataFrame(shr.X.copy())\n",
    "shrx[len(shrx.columns)] = pd.Series(0.0, index=np.arange(len(shrx)))\n",
    "mi[np.where(mi==None)[0]] = len(shrx.columns)-1\n",
    "shrx = shrx[pd.Series(mi)]\n",
    "shrx.columns = np.array(gene_list['features']).tolist()"
   ]
  },
  {
   "cell_type": "code",
   "execution_count": 23,
   "id": "05749da8-b88d-4bf7-a135-7869002c8f96",
   "metadata": {},
   "outputs": [
    {
     "data": {
      "text/plain": [
       "(14612, 17513)"
      ]
     },
     "execution_count": 23,
     "metadata": {},
     "output_type": "execute_result"
    }
   ],
   "source": [
    "shrx.shape"
   ]
  },
  {
   "cell_type": "code",
   "execution_count": 24,
   "id": "c8a77935-875a-4548-a97a-6b9323a408ac",
   "metadata": {},
   "outputs": [],
   "source": [
    "## Prepare labels\n",
    "time_bin = shr.obs['CytoTRACE.time'].copy()\n",
    "celltype = shr.obs['celltype.anno.crude']\n",
    "celltype = celltype.replace('Quiescent Center', -1)\n",
    "celltype = celltype.replace('Columella', 0)\n",
    "celltype = celltype.replace('Lateral Root Cap', 1)\n",
    "celltype = celltype.replace('Phloem', 2)\n",
    "celltype = celltype.replace('Xylem', 3)\n",
    "celltype = celltype.replace('Procambium', 4)\n",
    "celltype = celltype.replace('Pericycle', 5)\n",
    "celltype = celltype.replace('Endodermis', 6)\n",
    "celltype = celltype.replace('Cortex', 7)\n",
    "celltype = celltype.replace('Atrichoblast', 8)\n",
    "celltype = celltype.replace('Trichoblast', 9)\n",
    "for i in range(10):\n",
    "    time_bin[np.where(celltype == i)[0]]=pd.qcut(pd.Series(shr.obs['CytoTRACE.time'][np.where(celltype == i)[0]]),q=10,labels=range(1,11)).to_numpy()\n",
    "    \n",
    "time_bin[np.where(celltype == -1)[0]] = 0 \n",
    "labels = shr.obs['celltype.anno.crude'].astype(str) + \"_\" + time_bin.astype(str)\n",
    "labels = celltype.astype(str) + \"_\" + time_bin.astype(str)\n",
    "\n",
    "## Prepare training, validation and test set\n",
    "X_train, X_test, y_train, y_test = train_test_split(\n",
    "            np.array(shrx), labels, test_size=0.2, stratify=labels, shuffle=True, random_state=0)\n",
    "X_train, X_val, y_train, y_val = train_test_split(\n",
    "            X_train, y_train, test_size=0.2, stratify=y_train, shuffle=True, random_state=0)\n",
    "data = {}\n",
    "data['X_train'] = X_train\n",
    "data['y_train'] = y_train\n",
    "data['X_val'] = X_val\n",
    "data['y_val'] = y_val\n",
    "data['X_test'] = X_test\n",
    "data['y_test'] = y_test\n",
    "\n",
    "#with open(\"./genesys_shr_data.pkl\", 'wb') as file_handle:\n",
    "#    pickle.dump(data, file_handle)"
   ]
  },
  {
   "cell_type": "code",
   "execution_count": 25,
   "id": "32527efc-7959-4f62-afc1-e10c6ea8630b",
   "metadata": {},
   "outputs": [],
   "source": [
    "## Resize the number of features/genes to match GeneSys's input dimension for features/genes\n",
    "mi = match(np.array(gene_list['features']).tolist(),scr.var.features.tolist())\n",
    "mi = np.array(mi)\n",
    "\n",
    "scrx = pd.DataFrame(scr.X.copy())\n",
    "scrx[len(scrx.columns)] = pd.Series(0.0, index=np.arange(len(scrx)))\n",
    "mi[np.where(mi==None)[0]] = len(scrx.columns)-1\n",
    "scrx = scrx[pd.Series(mi)]\n",
    "scrx.columns = np.array(gene_list['features']).tolist()"
   ]
  },
  {
   "cell_type": "code",
   "execution_count": 26,
   "id": "9433c5bf-0780-4a61-9851-860385555dd3",
   "metadata": {},
   "outputs": [
    {
     "data": {
      "text/plain": [
       "(13742, 17513)"
      ]
     },
     "execution_count": 26,
     "metadata": {},
     "output_type": "execute_result"
    }
   ],
   "source": [
    "scrx.shape"
   ]
  },
  {
   "cell_type": "code",
   "execution_count": 27,
   "id": "1277db34-e2fb-4233-82a5-dccbb9fcff40",
   "metadata": {},
   "outputs": [],
   "source": [
    "## Prepare labels\n",
    "time_bin = scr.obs['CytoTRACE.time'].copy()\n",
    "celltype = scr.obs['celltype.anno.crude']\n",
    "#celltype = celltype.replace('Quiescent Center', -1)\n",
    "celltype = celltype.replace('Quiescent Center', 0)\n",
    "celltype = celltype.replace('Columella', 0)\n",
    "celltype = celltype.replace('Lateral Root Cap', 1)\n",
    "celltype = celltype.replace('Phloem', 2)\n",
    "celltype = celltype.replace('Xylem', 3)\n",
    "celltype = celltype.replace('Procambium', 4)\n",
    "celltype = celltype.replace('Pericycle', 5)\n",
    "celltype = celltype.replace('Endodermis', 6)\n",
    "celltype = celltype.replace('Cortex', 7)\n",
    "celltype = celltype.replace('Atrichoblast', 8)\n",
    "celltype = celltype.replace('Trichoblast', 9)\n",
    "for i in range(10):\n",
    "    time_bin[np.where(celltype == i)[0]]=pd.qcut(pd.Series(scr.obs['CytoTRACE.time'][np.where(celltype == i)[0]]),q=10,labels=range(1,11)).to_numpy()\n",
    "    \n",
    "time_bin[np.where(celltype == -1)[0]] = 0 \n",
    "labels = shr.obs['celltype.anno.crude'].astype(str) + \"_\" + time_bin.astype(str)\n",
    "labels = celltype.astype(str) + \"_\" + time_bin.astype(str)\n",
    "\n",
    "## Prepare training, validation and test set\n",
    "X_train, X_test, y_train, y_test = train_test_split(\n",
    "            np.array(scrx), labels, test_size=0.2, stratify=labels, shuffle=True, random_state=0)\n",
    "X_train, X_val, y_train, y_val = train_test_split(\n",
    "            X_train, y_train, test_size=0.2, stratify=y_train, shuffle=True, random_state=0)\n",
    "data = {}\n",
    "data['X_train'] = X_train\n",
    "data['y_train'] = y_train\n",
    "data['X_val'] = X_val\n",
    "data['y_val'] = y_val\n",
    "data['X_test'] = X_test\n",
    "data['y_test'] = y_test\n",
    "\n",
    "#with open(\"./genesys_scr_data.pkl\", 'wb') as file_handle:\n",
    "#    pickle.dump(data, file_handle)"
   ]
  },
  {
   "cell_type": "code",
   "execution_count": null,
   "id": "ae609dca-8271-4977-81f5-d97b05bfed07",
   "metadata": {},
   "outputs": [],
   "source": []
  }
 ],
 "metadata": {
  "kernelspec": {
   "display_name": "Python 3 (ipykernel)",
   "language": "python",
   "name": "python3"
  },
  "language_info": {
   "codemirror_mode": {
    "name": "ipython",
    "version": 3
   },
   "file_extension": ".py",
   "mimetype": "text/x-python",
   "name": "python",
   "nbconvert_exporter": "python",
   "pygments_lexer": "ipython3",
   "version": "3.8.0"
  }
 },
 "nbformat": 4,
 "nbformat_minor": 5
}
